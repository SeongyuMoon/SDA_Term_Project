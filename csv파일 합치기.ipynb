{
 "cells": [
  {
   "cell_type": "code",
   "execution_count": null,
   "id": "ff517a45",
   "metadata": {},
   "outputs": [],
   "source": [
    "df_all = pd.DataFrame()\n",
    "for i in range(0,len(forders)):\n",
    "    if forders[i].split('.')[1] == 'csv':\n",
    "        file = '데이터/'+forders[i]\n",
    "        df= pd.read_csv(file,encoding='utf-8') \n",
    "        df_all = pd.concat([df_all, df])"
   ]
  },
  {
   "cell_type": "code",
   "execution_count": null,
   "id": "3b95fd95",
   "metadata": {},
   "outputs": [],
   "source": [
    "final_data = df_all.to_csv(\"final_data.csv\")\n",
    "final_data"
   ]
  },
  {
   "cell_type": "code",
   "execution_count": null,
   "id": "bba320ad",
   "metadata": {},
   "outputs": [],
   "source": [
    "df = pd.read_csv(\"final_data.csv\")\n",
    "df"
   ]
  },
  {
   "cell_type": "code",
   "execution_count": null,
   "id": "89916fdb",
   "metadata": {},
   "outputs": [],
   "source": [
    "x = df.drop('Unnamed: 0',axis = 1)\n",
    "x = x.dropna()\n",
    "x.to_csv(\"final_data.csv\")"
   ]
  }
 ],
 "metadata": {
  "kernelspec": {
   "display_name": "Python 3 (ipykernel)",
   "language": "python",
   "name": "python3"
  },
  "language_info": {
   "codemirror_mode": {
    "name": "ipython",
    "version": 3
   },
   "file_extension": ".py",
   "mimetype": "text/x-python",
   "name": "python",
   "nbconvert_exporter": "python",
   "pygments_lexer": "ipython3",
   "version": "3.9.7"
  }
 },
 "nbformat": 4,
 "nbformat_minor": 5
}

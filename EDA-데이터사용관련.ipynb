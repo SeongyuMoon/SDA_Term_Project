{
 "cells": [
  {
   "cell_type": "code",
   "execution_count": 49,
   "id": "b9d98f1f",
   "metadata": {},
   "outputs": [
    {
     "data": {
      "text/html": [
       "<div>\n",
       "<style scoped>\n",
       "    .dataframe tbody tr th:only-of-type {\n",
       "        vertical-align: middle;\n",
       "    }\n",
       "\n",
       "    .dataframe tbody tr th {\n",
       "        vertical-align: top;\n",
       "    }\n",
       "\n",
       "    .dataframe thead th {\n",
       "        text-align: right;\n",
       "    }\n",
       "</style>\n",
       "<table border=\"1\" class=\"dataframe\">\n",
       "  <thead>\n",
       "    <tr style=\"text-align: right;\">\n",
       "      <th></th>\n",
       "      <th>자치구</th>\n",
       "      <th>행정동</th>\n",
       "      <th>성별</th>\n",
       "      <th>연령대</th>\n",
       "      <th>총인구수</th>\n",
       "      <th>1인가구수</th>\n",
       "      <th>데이터 사용량</th>\n",
       "      <th>평일 총 이동 횟수 미추정 인구수</th>\n",
       "      <th>평일 총 이동 횟수</th>\n",
       "      <th>휴일 이동 미추정 인구수</th>\n",
       "      <th>...</th>\n",
       "      <th>유튜브 사용 미추정 인구수</th>\n",
       "      <th>유튜브 사용일수</th>\n",
       "      <th>넷플릭스 사용 미추정 인구수</th>\n",
       "      <th>넷플릭스 사용일수</th>\n",
       "      <th>배달 서비스 사용 미추정 인구수</th>\n",
       "      <th>배달 서비스 사용일수</th>\n",
       "      <th>배달_브랜드 서비스 사용 미추정 인구수</th>\n",
       "      <th>배달_브랜드 서비스 사용일수</th>\n",
       "      <th>배달_식재료 서비스 사용 미추정 인구수</th>\n",
       "      <th>배달_식재료 서비스 사용일수</th>\n",
       "    </tr>\n",
       "  </thead>\n",
       "  <tbody>\n",
       "    <tr>\n",
       "      <th>0</th>\n",
       "      <td>강남구</td>\n",
       "      <td>개포1동</td>\n",
       "      <td>1</td>\n",
       "      <td>20</td>\n",
       "      <td>1128.0</td>\n",
       "      <td>187.0</td>\n",
       "      <td>26.2</td>\n",
       "      <td>37</td>\n",
       "      <td>68.0</td>\n",
       "      <td>46</td>\n",
       "      <td>...</td>\n",
       "      <td>9</td>\n",
       "      <td>0.5</td>\n",
       "      <td>178</td>\n",
       "      <td>-0.2</td>\n",
       "      <td>356</td>\n",
       "      <td>16.7</td>\n",
       "      <td>1036</td>\n",
       "      <td>4.9</td>\n",
       "      <td>1128</td>\n",
       "      <td>0.0</td>\n",
       "    </tr>\n",
       "    <tr>\n",
       "      <th>1</th>\n",
       "      <td>강남구</td>\n",
       "      <td>개포1동</td>\n",
       "      <td>1</td>\n",
       "      <td>30</td>\n",
       "      <td>906.0</td>\n",
       "      <td>237.0</td>\n",
       "      <td>29.8</td>\n",
       "      <td>53</td>\n",
       "      <td>80.8</td>\n",
       "      <td>93</td>\n",
       "      <td>...</td>\n",
       "      <td>18</td>\n",
       "      <td>0.4</td>\n",
       "      <td>184</td>\n",
       "      <td>-0.2</td>\n",
       "      <td>234</td>\n",
       "      <td>17.9</td>\n",
       "      <td>768</td>\n",
       "      <td>6.3</td>\n",
       "      <td>890</td>\n",
       "      <td>1.7</td>\n",
       "    </tr>\n",
       "    <tr>\n",
       "      <th>2</th>\n",
       "      <td>강남구</td>\n",
       "      <td>개포1동</td>\n",
       "      <td>1</td>\n",
       "      <td>40</td>\n",
       "      <td>806.0</td>\n",
       "      <td>85.0</td>\n",
       "      <td>18.6</td>\n",
       "      <td>38</td>\n",
       "      <td>87.8</td>\n",
       "      <td>52</td>\n",
       "      <td>...</td>\n",
       "      <td>8</td>\n",
       "      <td>0.1</td>\n",
       "      <td>260</td>\n",
       "      <td>-0.4</td>\n",
       "      <td>316</td>\n",
       "      <td>16.9</td>\n",
       "      <td>705</td>\n",
       "      <td>7.1</td>\n",
       "      <td>792</td>\n",
       "      <td>1.7</td>\n",
       "    </tr>\n",
       "    <tr>\n",
       "      <th>3</th>\n",
       "      <td>강남구</td>\n",
       "      <td>개포1동</td>\n",
       "      <td>1</td>\n",
       "      <td>50</td>\n",
       "      <td>1761.0</td>\n",
       "      <td>166.0</td>\n",
       "      <td>11.9</td>\n",
       "      <td>46</td>\n",
       "      <td>132.3</td>\n",
       "      <td>125</td>\n",
       "      <td>...</td>\n",
       "      <td>38</td>\n",
       "      <td>-0.1</td>\n",
       "      <td>1069</td>\n",
       "      <td>-1.3</td>\n",
       "      <td>1334</td>\n",
       "      <td>16.3</td>\n",
       "      <td>1682</td>\n",
       "      <td>6.1</td>\n",
       "      <td>1755</td>\n",
       "      <td>1.7</td>\n",
       "    </tr>\n",
       "    <tr>\n",
       "      <th>4</th>\n",
       "      <td>강남구</td>\n",
       "      <td>개포1동</td>\n",
       "      <td>1</td>\n",
       "      <td>60</td>\n",
       "      <td>781.0</td>\n",
       "      <td>137.0</td>\n",
       "      <td>5.6</td>\n",
       "      <td>22</td>\n",
       "      <td>93.5</td>\n",
       "      <td>75</td>\n",
       "      <td>...</td>\n",
       "      <td>26</td>\n",
       "      <td>-0.6</td>\n",
       "      <td>649</td>\n",
       "      <td>-1.8</td>\n",
       "      <td>738</td>\n",
       "      <td>13.9</td>\n",
       "      <td>781</td>\n",
       "      <td>0.0</td>\n",
       "      <td>778</td>\n",
       "      <td>1.7</td>\n",
       "    </tr>\n",
       "    <tr>\n",
       "      <th>...</th>\n",
       "      <td>...</td>\n",
       "      <td>...</td>\n",
       "      <td>...</td>\n",
       "      <td>...</td>\n",
       "      <td>...</td>\n",
       "      <td>...</td>\n",
       "      <td>...</td>\n",
       "      <td>...</td>\n",
       "      <td>...</td>\n",
       "      <td>...</td>\n",
       "      <td>...</td>\n",
       "      <td>...</td>\n",
       "      <td>...</td>\n",
       "      <td>...</td>\n",
       "      <td>...</td>\n",
       "      <td>...</td>\n",
       "      <td>...</td>\n",
       "      <td>...</td>\n",
       "      <td>...</td>\n",
       "      <td>...</td>\n",
       "      <td>...</td>\n",
       "    </tr>\n",
       "    <tr>\n",
       "      <th>25435</th>\n",
       "      <td>중랑구</td>\n",
       "      <td>중화2동</td>\n",
       "      <td>2</td>\n",
       "      <td>20</td>\n",
       "      <td>1901.0</td>\n",
       "      <td>378.0</td>\n",
       "      <td>25.0</td>\n",
       "      <td>46</td>\n",
       "      <td>63.4</td>\n",
       "      <td>82</td>\n",
       "      <td>...</td>\n",
       "      <td>11</td>\n",
       "      <td>0.3</td>\n",
       "      <td>368</td>\n",
       "      <td>-0.2</td>\n",
       "      <td>188</td>\n",
       "      <td>31.9</td>\n",
       "      <td>1807</td>\n",
       "      <td>5.8</td>\n",
       "      <td>1794</td>\n",
       "      <td>3.4</td>\n",
       "    </tr>\n",
       "    <tr>\n",
       "      <th>25436</th>\n",
       "      <td>중랑구</td>\n",
       "      <td>중화2동</td>\n",
       "      <td>2</td>\n",
       "      <td>30</td>\n",
       "      <td>1920.0</td>\n",
       "      <td>489.0</td>\n",
       "      <td>23.3</td>\n",
       "      <td>64</td>\n",
       "      <td>63.1</td>\n",
       "      <td>103</td>\n",
       "      <td>...</td>\n",
       "      <td>16</td>\n",
       "      <td>0.1</td>\n",
       "      <td>598</td>\n",
       "      <td>-0.3</td>\n",
       "      <td>298</td>\n",
       "      <td>33.4</td>\n",
       "      <td>1764</td>\n",
       "      <td>6.4</td>\n",
       "      <td>1789</td>\n",
       "      <td>3.4</td>\n",
       "    </tr>\n",
       "    <tr>\n",
       "      <th>25437</th>\n",
       "      <td>중랑구</td>\n",
       "      <td>중화2동</td>\n",
       "      <td>2</td>\n",
       "      <td>40</td>\n",
       "      <td>2179.0</td>\n",
       "      <td>511.0</td>\n",
       "      <td>12.0</td>\n",
       "      <td>187</td>\n",
       "      <td>57.5</td>\n",
       "      <td>250</td>\n",
       "      <td>...</td>\n",
       "      <td>60</td>\n",
       "      <td>-0.1</td>\n",
       "      <td>1102</td>\n",
       "      <td>-0.7</td>\n",
       "      <td>872</td>\n",
       "      <td>24.1</td>\n",
       "      <td>2007</td>\n",
       "      <td>6.8</td>\n",
       "      <td>2093</td>\n",
       "      <td>3.4</td>\n",
       "    </tr>\n",
       "    <tr>\n",
       "      <th>25438</th>\n",
       "      <td>중랑구</td>\n",
       "      <td>중화2동</td>\n",
       "      <td>2</td>\n",
       "      <td>50</td>\n",
       "      <td>3775.0</td>\n",
       "      <td>1041.0</td>\n",
       "      <td>7.1</td>\n",
       "      <td>326</td>\n",
       "      <td>81.0</td>\n",
       "      <td>423</td>\n",
       "      <td>...</td>\n",
       "      <td>122</td>\n",
       "      <td>-0.5</td>\n",
       "      <td>2996</td>\n",
       "      <td>-1.7</td>\n",
       "      <td>3092</td>\n",
       "      <td>25.4</td>\n",
       "      <td>3728</td>\n",
       "      <td>8.5</td>\n",
       "      <td>3736</td>\n",
       "      <td>5.1</td>\n",
       "    </tr>\n",
       "    <tr>\n",
       "      <th>25439</th>\n",
       "      <td>중랑구</td>\n",
       "      <td>중화2동</td>\n",
       "      <td>2</td>\n",
       "      <td>60</td>\n",
       "      <td>2215.0</td>\n",
       "      <td>799.0</td>\n",
       "      <td>3.6</td>\n",
       "      <td>339</td>\n",
       "      <td>53.7</td>\n",
       "      <td>554</td>\n",
       "      <td>...</td>\n",
       "      <td>346</td>\n",
       "      <td>-1.2</td>\n",
       "      <td>2130</td>\n",
       "      <td>-2.0</td>\n",
       "      <td>2150</td>\n",
       "      <td>27.4</td>\n",
       "      <td>2204</td>\n",
       "      <td>2.2</td>\n",
       "      <td>2208</td>\n",
       "      <td>1.7</td>\n",
       "    </tr>\n",
       "  </tbody>\n",
       "</table>\n",
       "<p>25440 rows × 35 columns</p>\n",
       "</div>"
      ],
      "text/plain": [
       "       자치구   행정동  성별  연령대    총인구수   1인가구수  데이터 사용량  평일 총 이동 횟수 미추정 인구수  \\\n",
       "0      강남구  개포1동   1   20  1128.0   187.0     26.2                  37   \n",
       "1      강남구  개포1동   1   30   906.0   237.0     29.8                  53   \n",
       "2      강남구  개포1동   1   40   806.0    85.0     18.6                  38   \n",
       "3      강남구  개포1동   1   50  1761.0   166.0     11.9                  46   \n",
       "4      강남구  개포1동   1   60   781.0   137.0      5.6                  22   \n",
       "...    ...   ...  ..  ...     ...     ...      ...                 ...   \n",
       "25435  중랑구  중화2동   2   20  1901.0   378.0     25.0                  46   \n",
       "25436  중랑구  중화2동   2   30  1920.0   489.0     23.3                  64   \n",
       "25437  중랑구  중화2동   2   40  2179.0   511.0     12.0                 187   \n",
       "25438  중랑구  중화2동   2   50  3775.0  1041.0      7.1                 326   \n",
       "25439  중랑구  중화2동   2   60  2215.0   799.0      3.6                 339   \n",
       "\n",
       "       평일 총 이동 횟수  휴일 이동 미추정 인구수  ...  유튜브 사용 미추정 인구수  유튜브 사용일수  \\\n",
       "0            68.0             46  ...               9       0.5   \n",
       "1            80.8             93  ...              18       0.4   \n",
       "2            87.8             52  ...               8       0.1   \n",
       "3           132.3            125  ...              38      -0.1   \n",
       "4            93.5             75  ...              26      -0.6   \n",
       "...           ...            ...  ...             ...       ...   \n",
       "25435        63.4             82  ...              11       0.3   \n",
       "25436        63.1            103  ...              16       0.1   \n",
       "25437        57.5            250  ...              60      -0.1   \n",
       "25438        81.0            423  ...             122      -0.5   \n",
       "25439        53.7            554  ...             346      -1.2   \n",
       "\n",
       "       넷플릭스 사용 미추정 인구수  넷플릭스 사용일수  배달 서비스 사용 미추정 인구수  배달 서비스 사용일수  \\\n",
       "0                  178       -0.2                356         16.7   \n",
       "1                  184       -0.2                234         17.9   \n",
       "2                  260       -0.4                316         16.9   \n",
       "3                 1069       -1.3               1334         16.3   \n",
       "4                  649       -1.8                738         13.9   \n",
       "...                ...        ...                ...          ...   \n",
       "25435              368       -0.2                188         31.9   \n",
       "25436              598       -0.3                298         33.4   \n",
       "25437             1102       -0.7                872         24.1   \n",
       "25438             2996       -1.7               3092         25.4   \n",
       "25439             2130       -2.0               2150         27.4   \n",
       "\n",
       "       배달_브랜드 서비스 사용 미추정 인구수  배달_브랜드 서비스 사용일수  배달_식재료 서비스 사용 미추정 인구수  \\\n",
       "0                       1036              4.9                   1128   \n",
       "1                        768              6.3                    890   \n",
       "2                        705              7.1                    792   \n",
       "3                       1682              6.1                   1755   \n",
       "4                        781              0.0                    778   \n",
       "...                      ...              ...                    ...   \n",
       "25435                   1807              5.8                   1794   \n",
       "25436                   1764              6.4                   1789   \n",
       "25437                   2007              6.8                   2093   \n",
       "25438                   3728              8.5                   3736   \n",
       "25439                   2204              2.2                   2208   \n",
       "\n",
       "       배달_식재료 서비스 사용일수  \n",
       "0                  0.0  \n",
       "1                  1.7  \n",
       "2                  1.7  \n",
       "3                  1.7  \n",
       "4                  1.7  \n",
       "...                ...  \n",
       "25435              3.4  \n",
       "25436              3.4  \n",
       "25437              3.4  \n",
       "25438              5.1  \n",
       "25439              1.7  \n",
       "\n",
       "[25440 rows x 35 columns]"
      ]
     },
     "execution_count": 49,
     "metadata": {},
     "output_type": "execute_result"
    }
   ],
   "source": [
    "import pandas as pd\n",
    "import numpy as np\n",
    "import seaborn as sns\n",
    "\n",
    "data = pd.read_csv(\"final_data.csv\")\n",
    "data.drop([\"Unnamed: 0\"], axis = 1, inplace = True)\n",
    "data"
   ]
  },
  {
   "cell_type": "code",
   "execution_count": 50,
   "id": "1386b019",
   "metadata": {},
   "outputs": [
    {
     "data": {
      "text/plain": [
       "Index(['자치구', '행정동', '성별', '연령대', '총인구수', '1인가구수', '데이터 사용량',\n",
       "       '평일 총 이동 횟수 미추정 인구수', '평일 총 이동 횟수', '휴일 이동 미추정 인구수', '휴일 총 이동 횟수 평균',\n",
       "       '평일 총 이동 거리 미추정 인구수', '평일 총 이동 거리 합계', '휴일 총 이동 거리 미추정 인구수',\n",
       "       '휴일 총 이동 거리 합계', '지하철 이용 미추정 인구수', '지하철이동일수 합계', '게임 서비스 사용 미추정 인구수',\n",
       "       '게임 서비스 사용일수', '금융 서비스 사용 미추정 인구수', '금융 서비스 사용일수', '쇼핑 서비스 사용 미추정 인구수',\n",
       "       '쇼핑 서비스 사용일수', '동영상/방송 서비스 사용 미추정 인구수', '동영상/방송 서비스 사용일수',\n",
       "       '유튜브 사용 미추정 인구수', '유튜브 사용일수', '넷플릭스 사용 미추정 인구수', '넷플릭스 사용일수',\n",
       "       '배달 서비스 사용 미추정 인구수', '배달 서비스 사용일수', '배달_브랜드 서비스 사용 미추정 인구수',\n",
       "       '배달_브랜드 서비스 사용일수', '배달_식재료 서비스 사용 미추정 인구수', '배달_식재료 서비스 사용일수'],\n",
       "      dtype='object')"
      ]
     },
     "execution_count": 50,
     "metadata": {},
     "output_type": "execute_result"
    }
   ],
   "source": [
    "# 전체 column 확인\n",
    "\n",
    "data.columns"
   ]
  },
  {
   "cell_type": "code",
   "execution_count": 51,
   "id": "a6c6d264",
   "metadata": {},
   "outputs": [
    {
     "data": {
      "text/html": [
       "<div>\n",
       "<style scoped>\n",
       "    .dataframe tbody tr th:only-of-type {\n",
       "        vertical-align: middle;\n",
       "    }\n",
       "\n",
       "    .dataframe tbody tr th {\n",
       "        vertical-align: top;\n",
       "    }\n",
       "\n",
       "    .dataframe thead th {\n",
       "        text-align: right;\n",
       "    }\n",
       "</style>\n",
       "<table border=\"1\" class=\"dataframe\">\n",
       "  <thead>\n",
       "    <tr style=\"text-align: right;\">\n",
       "      <th></th>\n",
       "      <th>자치구</th>\n",
       "      <th>행정동</th>\n",
       "      <th>성별</th>\n",
       "      <th>연령대</th>\n",
       "      <th>총인구수</th>\n",
       "      <th>1인가구수</th>\n",
       "      <th>데이터 사용량</th>\n",
       "      <th>동영상/방송 서비스 사용 미추정 인구수</th>\n",
       "      <th>동영상/방송 서비스 사용일수</th>\n",
       "      <th>유튜브 사용 미추정 인구수</th>\n",
       "      <th>유튜브 사용일수</th>\n",
       "      <th>넷플릭스 사용 미추정 인구수</th>\n",
       "      <th>넷플릭스 사용일수</th>\n",
       "      <th>게임 서비스 사용일수</th>\n",
       "      <th>게임 서비스 사용 미추정 인구수</th>\n",
       "      <th>금융 서비스 사용 미추정 인구수</th>\n",
       "      <th>금융 서비스 사용일수</th>\n",
       "      <th>쇼핑 서비스 사용 미추정 인구수</th>\n",
       "      <th>쇼핑 서비스 사용일수</th>\n",
       "    </tr>\n",
       "  </thead>\n",
       "  <tbody>\n",
       "    <tr>\n",
       "      <th>0</th>\n",
       "      <td>강남구</td>\n",
       "      <td>개포1동</td>\n",
       "      <td>1</td>\n",
       "      <td>20</td>\n",
       "      <td>1128.0</td>\n",
       "      <td>187.0</td>\n",
       "      <td>26.2</td>\n",
       "      <td>84</td>\n",
       "      <td>46.3</td>\n",
       "      <td>9</td>\n",
       "      <td>0.5</td>\n",
       "      <td>178</td>\n",
       "      <td>-0.2</td>\n",
       "      <td>128.1</td>\n",
       "      <td>19</td>\n",
       "      <td>27</td>\n",
       "      <td>166.2</td>\n",
       "      <td>46</td>\n",
       "      <td>138.9</td>\n",
       "    </tr>\n",
       "    <tr>\n",
       "      <th>1</th>\n",
       "      <td>강남구</td>\n",
       "      <td>개포1동</td>\n",
       "      <td>1</td>\n",
       "      <td>30</td>\n",
       "      <td>906.0</td>\n",
       "      <td>237.0</td>\n",
       "      <td>29.8</td>\n",
       "      <td>119</td>\n",
       "      <td>61.2</td>\n",
       "      <td>18</td>\n",
       "      <td>0.4</td>\n",
       "      <td>184</td>\n",
       "      <td>-0.2</td>\n",
       "      <td>114.6</td>\n",
       "      <td>50</td>\n",
       "      <td>96</td>\n",
       "      <td>262.3</td>\n",
       "      <td>103</td>\n",
       "      <td>215.2</td>\n",
       "    </tr>\n",
       "    <tr>\n",
       "      <th>2</th>\n",
       "      <td>강남구</td>\n",
       "      <td>개포1동</td>\n",
       "      <td>1</td>\n",
       "      <td>40</td>\n",
       "      <td>806.0</td>\n",
       "      <td>85.0</td>\n",
       "      <td>18.6</td>\n",
       "      <td>74</td>\n",
       "      <td>55.4</td>\n",
       "      <td>8</td>\n",
       "      <td>0.1</td>\n",
       "      <td>260</td>\n",
       "      <td>-0.4</td>\n",
       "      <td>108.8</td>\n",
       "      <td>16</td>\n",
       "      <td>75</td>\n",
       "      <td>256.4</td>\n",
       "      <td>58</td>\n",
       "      <td>258.5</td>\n",
       "    </tr>\n",
       "    <tr>\n",
       "      <th>3</th>\n",
       "      <td>강남구</td>\n",
       "      <td>개포1동</td>\n",
       "      <td>1</td>\n",
       "      <td>50</td>\n",
       "      <td>1761.0</td>\n",
       "      <td>166.0</td>\n",
       "      <td>11.9</td>\n",
       "      <td>264</td>\n",
       "      <td>55.5</td>\n",
       "      <td>38</td>\n",
       "      <td>-0.1</td>\n",
       "      <td>1069</td>\n",
       "      <td>-1.3</td>\n",
       "      <td>124.9</td>\n",
       "      <td>32</td>\n",
       "      <td>155</td>\n",
       "      <td>239.1</td>\n",
       "      <td>137</td>\n",
       "      <td>216.3</td>\n",
       "    </tr>\n",
       "    <tr>\n",
       "      <th>4</th>\n",
       "      <td>강남구</td>\n",
       "      <td>개포1동</td>\n",
       "      <td>1</td>\n",
       "      <td>60</td>\n",
       "      <td>781.0</td>\n",
       "      <td>137.0</td>\n",
       "      <td>5.6</td>\n",
       "      <td>264</td>\n",
       "      <td>32.7</td>\n",
       "      <td>26</td>\n",
       "      <td>-0.6</td>\n",
       "      <td>649</td>\n",
       "      <td>-1.8</td>\n",
       "      <td>98.1</td>\n",
       "      <td>33</td>\n",
       "      <td>152</td>\n",
       "      <td>97.7</td>\n",
       "      <td>195</td>\n",
       "      <td>90.5</td>\n",
       "    </tr>\n",
       "    <tr>\n",
       "      <th>...</th>\n",
       "      <td>...</td>\n",
       "      <td>...</td>\n",
       "      <td>...</td>\n",
       "      <td>...</td>\n",
       "      <td>...</td>\n",
       "      <td>...</td>\n",
       "      <td>...</td>\n",
       "      <td>...</td>\n",
       "      <td>...</td>\n",
       "      <td>...</td>\n",
       "      <td>...</td>\n",
       "      <td>...</td>\n",
       "      <td>...</td>\n",
       "      <td>...</td>\n",
       "      <td>...</td>\n",
       "      <td>...</td>\n",
       "      <td>...</td>\n",
       "      <td>...</td>\n",
       "      <td>...</td>\n",
       "    </tr>\n",
       "    <tr>\n",
       "      <th>25435</th>\n",
       "      <td>중랑구</td>\n",
       "      <td>중화2동</td>\n",
       "      <td>2</td>\n",
       "      <td>20</td>\n",
       "      <td>1901.0</td>\n",
       "      <td>378.0</td>\n",
       "      <td>25.0</td>\n",
       "      <td>100</td>\n",
       "      <td>48.0</td>\n",
       "      <td>11</td>\n",
       "      <td>0.3</td>\n",
       "      <td>368</td>\n",
       "      <td>-0.2</td>\n",
       "      <td>95.3</td>\n",
       "      <td>18</td>\n",
       "      <td>51</td>\n",
       "      <td>189.8</td>\n",
       "      <td>34</td>\n",
       "      <td>283.5</td>\n",
       "    </tr>\n",
       "    <tr>\n",
       "      <th>25436</th>\n",
       "      <td>중랑구</td>\n",
       "      <td>중화2동</td>\n",
       "      <td>2</td>\n",
       "      <td>30</td>\n",
       "      <td>1920.0</td>\n",
       "      <td>489.0</td>\n",
       "      <td>23.3</td>\n",
       "      <td>154</td>\n",
       "      <td>60.3</td>\n",
       "      <td>16</td>\n",
       "      <td>0.1</td>\n",
       "      <td>598</td>\n",
       "      <td>-0.3</td>\n",
       "      <td>98.1</td>\n",
       "      <td>33</td>\n",
       "      <td>94</td>\n",
       "      <td>233.7</td>\n",
       "      <td>63</td>\n",
       "      <td>383.4</td>\n",
       "    </tr>\n",
       "    <tr>\n",
       "      <th>25437</th>\n",
       "      <td>중랑구</td>\n",
       "      <td>중화2동</td>\n",
       "      <td>2</td>\n",
       "      <td>40</td>\n",
       "      <td>2179.0</td>\n",
       "      <td>511.0</td>\n",
       "      <td>12.0</td>\n",
       "      <td>334</td>\n",
       "      <td>48.8</td>\n",
       "      <td>60</td>\n",
       "      <td>-0.1</td>\n",
       "      <td>1102</td>\n",
       "      <td>-0.7</td>\n",
       "      <td>97.8</td>\n",
       "      <td>88</td>\n",
       "      <td>201</td>\n",
       "      <td>198.0</td>\n",
       "      <td>134</td>\n",
       "      <td>357.3</td>\n",
       "    </tr>\n",
       "    <tr>\n",
       "      <th>25438</th>\n",
       "      <td>중랑구</td>\n",
       "      <td>중화2동</td>\n",
       "      <td>2</td>\n",
       "      <td>50</td>\n",
       "      <td>3775.0</td>\n",
       "      <td>1041.0</td>\n",
       "      <td>7.1</td>\n",
       "      <td>1076</td>\n",
       "      <td>42.0</td>\n",
       "      <td>122</td>\n",
       "      <td>-0.5</td>\n",
       "      <td>2996</td>\n",
       "      <td>-1.7</td>\n",
       "      <td>133.6</td>\n",
       "      <td>161</td>\n",
       "      <td>540</td>\n",
       "      <td>172.4</td>\n",
       "      <td>451</td>\n",
       "      <td>254.7</td>\n",
       "    </tr>\n",
       "    <tr>\n",
       "      <th>25439</th>\n",
       "      <td>중랑구</td>\n",
       "      <td>중화2동</td>\n",
       "      <td>2</td>\n",
       "      <td>60</td>\n",
       "      <td>2215.0</td>\n",
       "      <td>799.0</td>\n",
       "      <td>3.6</td>\n",
       "      <td>1380</td>\n",
       "      <td>30.0</td>\n",
       "      <td>346</td>\n",
       "      <td>-1.2</td>\n",
       "      <td>2130</td>\n",
       "      <td>-2.0</td>\n",
       "      <td>101.9</td>\n",
       "      <td>364</td>\n",
       "      <td>1160</td>\n",
       "      <td>69.8</td>\n",
       "      <td>1112</td>\n",
       "      <td>113.2</td>\n",
       "    </tr>\n",
       "  </tbody>\n",
       "</table>\n",
       "<p>25440 rows × 19 columns</p>\n",
       "</div>"
      ],
      "text/plain": [
       "       자치구   행정동  성별  연령대    총인구수   1인가구수  데이터 사용량  동영상/방송 서비스 사용 미추정 인구수  \\\n",
       "0      강남구  개포1동   1   20  1128.0   187.0     26.2                     84   \n",
       "1      강남구  개포1동   1   30   906.0   237.0     29.8                    119   \n",
       "2      강남구  개포1동   1   40   806.0    85.0     18.6                     74   \n",
       "3      강남구  개포1동   1   50  1761.0   166.0     11.9                    264   \n",
       "4      강남구  개포1동   1   60   781.0   137.0      5.6                    264   \n",
       "...    ...   ...  ..  ...     ...     ...      ...                    ...   \n",
       "25435  중랑구  중화2동   2   20  1901.0   378.0     25.0                    100   \n",
       "25436  중랑구  중화2동   2   30  1920.0   489.0     23.3                    154   \n",
       "25437  중랑구  중화2동   2   40  2179.0   511.0     12.0                    334   \n",
       "25438  중랑구  중화2동   2   50  3775.0  1041.0      7.1                   1076   \n",
       "25439  중랑구  중화2동   2   60  2215.0   799.0      3.6                   1380   \n",
       "\n",
       "       동영상/방송 서비스 사용일수  유튜브 사용 미추정 인구수  유튜브 사용일수  넷플릭스 사용 미추정 인구수  넷플릭스 사용일수  \\\n",
       "0                 46.3               9       0.5              178       -0.2   \n",
       "1                 61.2              18       0.4              184       -0.2   \n",
       "2                 55.4               8       0.1              260       -0.4   \n",
       "3                 55.5              38      -0.1             1069       -1.3   \n",
       "4                 32.7              26      -0.6              649       -1.8   \n",
       "...                ...             ...       ...              ...        ...   \n",
       "25435             48.0              11       0.3              368       -0.2   \n",
       "25436             60.3              16       0.1              598       -0.3   \n",
       "25437             48.8              60      -0.1             1102       -0.7   \n",
       "25438             42.0             122      -0.5             2996       -1.7   \n",
       "25439             30.0             346      -1.2             2130       -2.0   \n",
       "\n",
       "       게임 서비스 사용일수  게임 서비스 사용 미추정 인구수  금융 서비스 사용 미추정 인구수  금융 서비스 사용일수  \\\n",
       "0            128.1                 19                 27        166.2   \n",
       "1            114.6                 50                 96        262.3   \n",
       "2            108.8                 16                 75        256.4   \n",
       "3            124.9                 32                155        239.1   \n",
       "4             98.1                 33                152         97.7   \n",
       "...            ...                ...                ...          ...   \n",
       "25435         95.3                 18                 51        189.8   \n",
       "25436         98.1                 33                 94        233.7   \n",
       "25437         97.8                 88                201        198.0   \n",
       "25438        133.6                161                540        172.4   \n",
       "25439        101.9                364               1160         69.8   \n",
       "\n",
       "       쇼핑 서비스 사용 미추정 인구수  쇼핑 서비스 사용일수  \n",
       "0                     46        138.9  \n",
       "1                    103        215.2  \n",
       "2                     58        258.5  \n",
       "3                    137        216.3  \n",
       "4                    195         90.5  \n",
       "...                  ...          ...  \n",
       "25435                 34        283.5  \n",
       "25436                 63        383.4  \n",
       "25437                134        357.3  \n",
       "25438                451        254.7  \n",
       "25439               1112        113.2  \n",
       "\n",
       "[25440 rows x 19 columns]"
      ]
     },
     "execution_count": 51,
     "metadata": {},
     "output_type": "execute_result"
    }
   ],
   "source": [
    "# 필요 column 추출\n",
    "data = data[['자치구', '행정동', '성별', '연령대', '총인구수', '1인가구수', '데이터 사용량','동영상/방송 서비스 사용 미추정 인구수', '동영상/방송 서비스 사용일수',\n",
    "       '유튜브 사용 미추정 인구수', '유튜브 사용일수', '넷플릭스 사용 미추정 인구수', '넷플릭스 사용일수','게임 서비스 사용일수','게임 서비스 사용 미추정 인구수',\n",
    "            '금융 서비스 사용 미추정 인구수', '금융 서비스 사용일수', '쇼핑 서비스 사용 미추정 인구수',\n",
    "       '쇼핑 서비스 사용일수']]\n",
    "data"
   ]
  },
  {
   "cell_type": "code",
   "execution_count": 53,
   "id": "6865fb3f",
   "metadata": {},
   "outputs": [],
   "source": [
    "# 연령대별로 데이터프레임 새로 추출\n",
    "\n",
    "a = data[data[\"연령대\"] == 20]\n",
    "b = data[data[\"연령대\"] == 30]\n",
    "c = data[data[\"연령대\"] == 40]\n",
    "d = data[data[\"연령대\"] == 50]\n",
    "e = data[data[\"연령대\"] == 60]"
   ]
  },
  {
   "cell_type": "code",
   "execution_count": 54,
   "id": "a359a832",
   "metadata": {},
   "outputs": [
    {
     "data": {
      "text/plain": [
       "array([20, 30, 40, 50, 60], dtype=int64)"
      ]
     },
     "execution_count": 54,
     "metadata": {},
     "output_type": "execute_result"
    }
   ],
   "source": [
    "data[\"연령대\"].unique()\n",
    "\n",
    "# 연령대는 20대부터 60대 이상 까지 분포"
   ]
  },
  {
   "cell_type": "code",
   "execution_count": 55,
   "id": "e44bebd7",
   "metadata": {},
   "outputs": [],
   "source": [
    "import pandas as pd\n",
    "import matplotlib.pyplot as plt\n",
    "import numpy as np\n",
    "import matplotlib as mpl\n",
    "import seaborn as sns\n",
    "from matplotlib import font_manager, rc\n",
    "\n",
    "font_name = font_manager.FontProperties(fname=\"c:/Windows/Fonts/malgun.ttf\").get_name()\n",
    "rc('font', family=font_name)"
   ]
  },
  {
   "cell_type": "markdown",
   "id": "c39bf507",
   "metadata": {},
   "source": [
    "## 주요 columns의 주요 통계량 분석\n",
    "## 연령대 별로 주요 통계량 계산"
   ]
  },
  {
   "cell_type": "code",
   "execution_count": 56,
   "id": "d98bbfae",
   "metadata": {},
   "outputs": [
    {
     "data": {
      "text/plain": [
       "<AxesSubplot:xlabel='연령대', ylabel='데이터 사용량'>"
      ]
     },
     "execution_count": 56,
     "metadata": {},
     "output_type": "execute_result"
    },
    {
     "data": {
      "image/png": "[encoded data removed]",
      "text/plain": [
       "<Figure size 432x288 with 1 Axes>"
      ]
     },
     "metadata": {},
     "output_type": "display_data"
    }
   ],
   "source": [
    "# 연령대별 데이터 사용량\n",
    "sns.boxplot(x = \"연령대\", y = '데이터 사용량', data = data)"
   ]
  },
  {
   "cell_type": "code",
   "execution_count": 90,
   "id": "57fcd8a4",
   "metadata": {},
   "outputs": [
    {
     "name": "stdout",
     "output_type": "stream",
     "text": [
      "데이터 사용량 평균\n",
      "20대: 27.52079402515717\n",
      "30대: 23.02541273584904\n",
      "40대: 14.32686713836477\n",
      "50대: 9.84553852201259\n",
      "60대: 3.9516705974842727\n",
      "\n",
      "데이터 사용량 median\n",
      "20대: 26.6\n",
      "30대: 22.5\n",
      "40대: 14.2\n",
      "50대: 10.25\n",
      "60대: 3.9\n",
      "\n",
      "데이터 사용량 std\n",
      "20대: 6.4851335335165015\n",
      "30대: 5.766042894835122\n",
      "40대: 4.376769933473477\n",
      "50대: 3.324809455763116\n",
      "60대: 1.2463404894616934\n"
     ]
    }
   ],
   "source": [
    "# 연령대별 데이터 사용량 평균\n",
    "print(\"데이터 사용량 평균\")\n",
    "print(\"20대:\",a[\"데이터 사용량\"].mean())\n",
    "print(\"30대:\",b[\"데이터 사용량\"].mean())\n",
    "print(\"40대:\",c[\"데이터 사용량\"].mean())\n",
    "print(\"50대:\",d[\"데이터 사용량\"].mean())\n",
    "print(\"60대:\",e[\"데이터 사용량\"].mean())\n",
    "\n",
    "print()\n",
    "print(\"데이터 사용량 median\")\n",
    "print(\"20대:\", a[\"데이터 사용량\"].median())\n",
    "print(\"30대:\",b[\"데이터 사용량\"].median())\n",
    "print(\"40대:\",c[\"데이터 사용량\"].median())\n",
    "print(\"50대:\",d[\"데이터 사용량\"].median())\n",
    "print(\"60대:\", e[\"데이터 사용량\"].median())\n",
    "print()\n",
    "print('데이터 사용량 std')\n",
    "print(\"20대:\", a[\"데이터 사용량\"].std())\n",
    "print(\"30대:\",b[\"데이터 사용량\"].std())\n",
    "print(\"40대:\",c[\"데이터 사용량\"].std())\n",
    "print(\"50대:\",d[\"데이터 사용량\"].std())\n",
    "print(\"60대:\", e[\"데이터 사용량\"].std())"
   ]
  },
  {
   "cell_type": "code",
   "execution_count": 58,
   "id": "c4dadaaf",
   "metadata": {},
   "outputs": [
    {
     "data": {
      "text/plain": [
       "<AxesSubplot:xlabel='연령대', ylabel='동영상/방송 서비스 사용일수'>"
      ]
     },
     "execution_count": 58,
     "metadata": {},
     "output_type": "execute_result"
    },
    {
     "data": {
      "image/png": "[encoded data removed]",
      "text/plain": [
       "<Figure size 432x288 with 1 Axes>"
      ]
     },
     "metadata": {},
     "output_type": "display_data"
    }
   ],
   "source": [
    "sns.boxplot(x = \"연령대\", y = '동영상/방송 서비스 사용일수', data = data)"
   ]
  },
  {
   "cell_type": "code",
   "execution_count": 88,
   "id": "443d5896",
   "metadata": {},
   "outputs": [
    {
     "name": "stdout",
     "output_type": "stream",
     "text": [
      "동영상/방송 서비스 사용일수 평균\n",
      "20대: 54.14373034591206\n",
      "30대: 59.33979952830204\n",
      "40대: 49.360082547169924\n",
      "50대: 50.16863207547176\n",
      "60대: 33.021933962264214\n",
      "\n",
      "동영상/방송 서비스 사용일수 median\n",
      "20대: 54.2\n",
      "30대: 59.400000000000006\n",
      "40대: 49.3\n",
      "50대: 49.6\n",
      "60대: 33.0\n",
      "\n",
      "동영상/방송 서비스 사용일수 std\n",
      "20대: 7.521550193827668\n",
      "30대: 6.632356167910631\n",
      "40대: 7.259783672192978\n",
      "50대: 9.015498021530654\n",
      "60대: 4.637357222280792\n"
     ]
    }
   ],
   "source": [
    "print('동영상/방송 서비스 사용일수 평균')\n",
    "print(\"20대:\", a[\"동영상/방송 서비스 사용일수\"].mean())\n",
    "print(\"30대:\",b[\"동영상/방송 서비스 사용일수\"].mean())\n",
    "print(\"40대:\",c[\"동영상/방송 서비스 사용일수\"].mean())\n",
    "print(\"50대:\",d[\"동영상/방송 서비스 사용일수\"].mean())\n",
    "print(\"60대:\", e[\"동영상/방송 서비스 사용일수\"].mean())\n",
    "\n",
    "\n",
    "print()\n",
    "print(\"동영상/방송 서비스 사용일수 median\")\n",
    "print(\"20대:\", a['동영상/방송 서비스 사용일수'].median())\n",
    "print(\"30대:\",b['동영상/방송 서비스 사용일수'].median())\n",
    "print(\"40대:\",c['동영상/방송 서비스 사용일수'].median())\n",
    "print(\"50대:\",d['동영상/방송 서비스 사용일수'].median())\n",
    "print(\"60대:\", e['동영상/방송 서비스 사용일수'].median())\n",
    "print()\n",
    "print('동영상/방송 서비스 사용일수 std')\n",
    "print(\"20대:\", a['동영상/방송 서비스 사용일수'].std())\n",
    "print(\"30대:\",b['동영상/방송 서비스 사용일수'].std())\n",
    "print(\"40대:\",c['동영상/방송 서비스 사용일수'].std())\n",
    "print(\"50대:\",d['동영상/방송 서비스 사용일수'].std())\n",
    "print(\"60대:\", e['동영상/방송 서비스 사용일수'].std())"
   ]
  },
  {
   "cell_type": "code",
   "execution_count": 65,
   "id": "ba106937",
   "metadata": {},
   "outputs": [
    {
     "data": {
      "text/plain": [
       "<AxesSubplot:xlabel='연령대', ylabel='유튜브 사용일수'>"
      ]
     },
     "execution_count": 65,
     "metadata": {},
     "output_type": "execute_result"
    },
    {
     "data": {
      "image/png": "[encoded data removed]",
      "text/plain": [
       "<Figure size 432x288 with 1 Axes>"
      ]
     },
     "metadata": {},
     "output_type": "display_data"
    }
   ],
   "source": [
    "sns.boxplot(x = \"연령대\", y =  '유튜브 사용일수', data = data)"
   ]
  },
  {
   "cell_type": "code",
   "execution_count": 86,
   "id": "d981b37e",
   "metadata": {},
   "outputs": [
    {
     "name": "stdout",
     "output_type": "stream",
     "text": [
      "유튜브 사용일수 평균\n",
      "0.3964033018867919\n",
      "0.19589229559748395\n",
      "-0.03421776729559729\n",
      "-0.30455974842767475\n",
      "-0.9665290880503118\n",
      "\n",
      "유튜브 사용일수 median\n",
      "20대: 0.4\n",
      "30대: 0.2\n",
      "40대: -0.1\n",
      "50대: -0.3\n",
      "60대: -1.0\n",
      "\n",
      "유튜브 사용일수 std\n",
      "20대: 0.143589976904288\n",
      "30대: 0.11852589525946788\n",
      "40대: 0.12933475636736919\n",
      "50대: 0.13666692433968725\n",
      "60대: 0.2121018703355423\n"
     ]
    }
   ],
   "source": [
    "# '유튜브 사용일수' 유튜브 사용일수의 경우 표준정규분포를 기준으로 함\n",
    "print(\"유튜브 사용일수 평균\")\n",
    "print(a['유튜브 사용일수'].mean())\n",
    "print(b['유튜브 사용일수'].mean())\n",
    "print(c['유튜브 사용일수'].mean())\n",
    "print(d['유튜브 사용일수'].mean())\n",
    "print(e['유튜브 사용일수'].mean())\n",
    "\n",
    "print()\n",
    "print(\"유튜브 사용일수 median\")\n",
    "print(\"20대:\", a['유튜브 사용일수'].median())\n",
    "print(\"30대:\",b['유튜브 사용일수'].median())\n",
    "print(\"40대:\",c['유튜브 사용일수'].median())\n",
    "print(\"50대:\",d['유튜브 사용일수'].median())\n",
    "print(\"60대:\", e['유튜브 사용일수'].median())\n",
    "print()\n",
    "print('유튜브 사용일수 std')\n",
    "print(\"20대:\", a['유튜브 사용일수'].std())\n",
    "print(\"30대:\",b['유튜브 사용일수'].std())\n",
    "print(\"40대:\",c['유튜브 사용일수'].std())\n",
    "print(\"50대:\",d['유튜브 사용일수'].std())\n",
    "print(\"60대:\", e['유튜브 사용일수'].std())"
   ]
  },
  {
   "cell_type": "code",
   "execution_count": 60,
   "id": "507595e8",
   "metadata": {},
   "outputs": [
    {
     "data": {
      "text/plain": [
       "<AxesSubplot:xlabel='연령대', ylabel='게임 서비스 사용일수'>"
      ]
     },
     "execution_count": 60,
     "metadata": {},
     "output_type": "execute_result"
    },
    {
     "data": {
      "image/png": "[encoded data removed]",
      "text/plain": [
       "<Figure size 432x288 with 1 Axes>"
      ]
     },
     "metadata": {},
     "output_type": "display_data"
    }
   ],
   "source": [
    "sns.boxplot(x = \"연령대\", y =  '게임 서비스 사용일수', data = data)"
   ]
  },
  {
   "cell_type": "code",
   "execution_count": 85,
   "id": "f00eebb8",
   "metadata": {},
   "outputs": [
    {
     "name": "stdout",
     "output_type": "stream",
     "text": [
      "게임 서비스 사용일수 평균\n",
      "110.60113993710728\n",
      "107.11570361635205\n",
      "102.79679638364756\n",
      "123.6856721698111\n",
      "96.02275943396242\n",
      "\n",
      "게임 서비스 사용일수 median\n",
      "20대: 107.05000000000001\n",
      "30대: 106.6\n",
      "40대: 100.3\n",
      "50대: 125.3\n",
      "60대: 96.6\n",
      "\n",
      "게임 서비스 사용일수 std\n",
      "20대: 29.94583444269836\n",
      "30대: 26.06596814539987\n",
      "40대: 21.90474938371606\n",
      "50대: 15.950325911958524\n",
      "60대: 6.889426097401184\n"
     ]
    }
   ],
   "source": [
    "print('게임 서비스 사용일수 평균')\n",
    "print(a['게임 서비스 사용일수'].mean())\n",
    "print(b['게임 서비스 사용일수'].mean())\n",
    "print(c['게임 서비스 사용일수'].mean())\n",
    "print(d['게임 서비스 사용일수'].mean())\n",
    "print(e['게임 서비스 사용일수'].mean())\n",
    "\n",
    "print()\n",
    "print(\"게임 서비스 사용일수 median\")\n",
    "print(\"20대:\", a['게임 서비스 사용일수'].median())\n",
    "print(\"30대:\",b['게임 서비스 사용일수'].median())\n",
    "print(\"40대:\",c['게임 서비스 사용일수'].median())\n",
    "print(\"50대:\",d['게임 서비스 사용일수'].median())\n",
    "print(\"60대:\", e['게임 서비스 사용일수'].median())\n",
    "print()\n",
    "print('게임 서비스 사용일수 std')\n",
    "print(\"20대:\", a['게임 서비스 사용일수'].std())\n",
    "print(\"30대:\",b['게임 서비스 사용일수'].std())\n",
    "print(\"40대:\",c['게임 서비스 사용일수'].std())\n",
    "print(\"50대:\",d['게임 서비스 사용일수'].std())\n",
    "print(\"60대:\", e['게임 서비스 사용일수'].std())"
   ]
  },
  {
   "cell_type": "code",
   "execution_count": 61,
   "id": "4e21d9e2",
   "metadata": {},
   "outputs": [
    {
     "data": {
      "text/plain": [
       "<AxesSubplot:xlabel='연령대', ylabel='금융 서비스 사용일수'>"
      ]
     },
     "execution_count": 61,
     "metadata": {},
     "output_type": "execute_result"
    },
    {
     "data": {
      "image/png": "[encoded data removed]",
      "text/plain": [
       "<Figure size 432x288 with 1 Axes>"
      ]
     },
     "metadata": {},
     "output_type": "display_data"
    }
   ],
   "source": [
    "sns.boxplot(x = \"연령대\", y =  '금융 서비스 사용일수', data = data)"
   ]
  },
  {
   "cell_type": "code",
   "execution_count": 83,
   "id": "bd065275",
   "metadata": {},
   "outputs": [
    {
     "name": "stdout",
     "output_type": "stream",
     "text": [
      "금융 서비스 사용일수 평균\n",
      "178.4618121069181\n",
      "234.8098073899377\n",
      "203.15283018867925\n",
      "184.15127751572368\n",
      "78.7170400943397\n",
      "\n",
      "금융 서비스 사용일수 median\n",
      "20대: 178.05\n",
      "30대: 232.5\n",
      "40대: 200.3\n",
      "50대: 178.7\n",
      "60대: 77.4\n",
      "\n",
      "금융 서비스 사용일수 std\n",
      "20대: 20.29226539865159\n",
      "30대: 30.7671885299198\n",
      "40대: 30.116966526251016\n",
      "50대: 28.074299647665807\n",
      "60대: 12.136103792373117\n"
     ]
    }
   ],
   "source": [
    "print('금융 서비스 사용일수 평균')\n",
    "\n",
    "print(a['금융 서비스 사용일수'].mean())\n",
    "print(b['금융 서비스 사용일수'].mean())\n",
    "print(c['금융 서비스 사용일수'].mean())\n",
    "print(d['금융 서비스 사용일수'].mean())\n",
    "print(e['금융 서비스 사용일수'].mean())\n",
    "\n",
    "print()\n",
    "print(\"금융 서비스 사용일수 median\")\n",
    "print(\"20대:\", a['금융 서비스 사용일수'].median())\n",
    "print(\"30대:\",b['금융 서비스 사용일수'].median())\n",
    "print(\"40대:\",c['금융 서비스 사용일수'].median())\n",
    "print(\"50대:\",d['금융 서비스 사용일수'].median())\n",
    "print(\"60대:\", e['금융 서비스 사용일수'].median())\n",
    "print()\n",
    "print('금융 서비스 사용일수 std')\n",
    "print(\"20대:\", a['금융 서비스 사용일수'].std())\n",
    "print(\"30대:\",b['금융 서비스 사용일수'].std())\n",
    "print(\"40대:\",c['금융 서비스 사용일수'].std())\n",
    "print(\"50대:\",d['금융 서비스 사용일수'].std())\n",
    "print(\"60대:\", e['금융 서비스 사용일수'].std())"
   ]
  },
  {
   "cell_type": "code",
   "execution_count": 67,
   "id": "f5b1f787",
   "metadata": {},
   "outputs": [
    {
     "data": {
      "text/plain": [
       "<AxesSubplot:xlabel='연령대', ylabel='쇼핑 서비스 사용일수'>"
      ]
     },
     "execution_count": 67,
     "metadata": {},
     "output_type": "execute_result"
    },
    {
     "data": {
      "image/png": "[encoded data removed]",
      "text/plain": [
       "<Figure size 432x288 with 1 Axes>"
      ]
     },
     "metadata": {},
     "output_type": "display_data"
    }
   ],
   "source": [
    "sns.boxplot(x = \"연령대\", y =  '쇼핑 서비스 사용일수', data = data)"
   ]
  },
  {
   "cell_type": "code",
   "execution_count": 80,
   "id": "b07d6c44",
   "metadata": {},
   "outputs": [
    {
     "name": "stdout",
     "output_type": "stream",
     "text": [
      "쇼핑 서비스 사용일수 평균\n",
      "216.1301297169816\n",
      "301.47594339622646\n",
      "281.30210298742253\n",
      "233.87955974842725\n",
      "102.54278694968542\n",
      "\n",
      "쇼핑 서비스 사용일수 median\n",
      "20대: 217.3\n",
      "30대: 300.1\n",
      "40대: 274.6\n",
      "50대: 229.3\n",
      "60대: 101.3\n",
      "\n",
      "쇼핑 서비스 사용일수 std\n",
      "20대: 30.010595439456097\n",
      "30대: 35.302315679397445\n",
      "40대: 31.159856414287376\n",
      "50대: 27.41498062398177\n",
      "60대: 12.701156402056066\n"
     ]
    }
   ],
   "source": [
    "print('쇼핑 서비스 사용일수 평균')\n",
    "print(a['쇼핑 서비스 사용일수'].mean())\n",
    "print(b['쇼핑 서비스 사용일수'].mean())\n",
    "print(c['쇼핑 서비스 사용일수'].mean())\n",
    "print(d['쇼핑 서비스 사용일수'].mean())\n",
    "print(e['쇼핑 서비스 사용일수'].mean())\n",
    "\n",
    "print()\n",
    "print(\"쇼핑 서비스 사용일수 median\")\n",
    "print(\"20대:\", a['쇼핑 서비스 사용일수'].median())\n",
    "print(\"30대:\",b['쇼핑 서비스 사용일수'].median())\n",
    "print(\"40대:\",c['쇼핑 서비스 사용일수'].median())\n",
    "print(\"50대:\",d['쇼핑 서비스 사용일수'].median())\n",
    "print(\"60대:\", e['쇼핑 서비스 사용일수'].median())\n",
    "\n",
    "print()\n",
    "print(\"쇼핑 서비스 사용일수 std\")\n",
    "print(\"20대:\", a['쇼핑 서비스 사용일수'].std())\n",
    "print(\"30대:\",b['쇼핑 서비스 사용일수'].std())\n",
    "print(\"40대:\",c['쇼핑 서비스 사용일수'].std())\n",
    "print(\"50대:\",d['쇼핑 서비스 사용일수'].std())\n",
    "print(\"60대:\", e['쇼핑 서비스 사용일수'].std())"
   ]
  },
  {
   "cell_type": "code",
   "execution_count": 68,
   "id": "f90f029d",
   "metadata": {},
   "outputs": [
    {
     "data": {
      "text/plain": [
       "<AxesSubplot:xlabel='연령대', ylabel='넷플릭스 사용일수'>"
      ]
     },
     "execution_count": 68,
     "metadata": {},
     "output_type": "execute_result"
    },
    {
     "data": {
      "image/png": "[encoded data removed]",
      "text/plain": [
       "<Figure size 432x288 with 1 Axes>"
      ]
     },
     "metadata": {},
     "output_type": "display_data"
    }
   ],
   "source": [
    "sns.boxplot(x = \"연령대\", y =  '넷플릭스 사용일수', data = data)"
   ]
  },
  {
   "cell_type": "code",
   "execution_count": 77,
   "id": "6cfd8ddf",
   "metadata": {},
   "outputs": [
    {
     "name": "stdout",
     "output_type": "stream",
     "text": [
      "넷플릭스 사용일수 평균\n",
      "20대: -0.21079009433962692\n",
      "30대: -0.34944968553458783\n",
      "40대: -0.6440644654087712\n",
      "50대: -1.5845322327043958\n",
      "60대: -1.8977201257860692\n",
      "\n",
      "넷플릭스 사용일수 중앙값\n",
      "20대: -0.2\n",
      "30대: -0.3\n",
      "40대: -0.7\n",
      "50대: -1.6\n",
      "60대: -1.9\n",
      "\n",
      "넷플릭스 사용일수 std\n",
      "20대: 0.09197997215866344\n",
      "30대: 0.07997746281659635\n",
      "40대: 0.09532078506357049\n",
      "50대: 0.10697393048489853\n",
      "60대: 0.07289885366695557\n"
     ]
    }
   ],
   "source": [
    "# 넷플릭스 사용일수 평균 -> 넷플릭스 사용일수의 경우 표준정규분포를 기준으로 함\n",
    "print(\"넷플릭스 사용일수 평균\")\n",
    "print(\"20대:\", a['넷플릭스 사용일수'].mean())\n",
    "print(\"30대:\",b['넷플릭스 사용일수'].mean())\n",
    "print(\"40대:\",c['넷플릭스 사용일수'].mean())\n",
    "print(\"50대:\",d['넷플릭스 사용일수'].mean())\n",
    "print(\"60대:\", e['넷플릭스 사용일수'].mean())\n",
    "print()\n",
    "print(\"넷플릭스 사용일수 중앙값\")\n",
    "print(\"20대:\", a['넷플릭스 사용일수'].median())\n",
    "print(\"30대:\",b['넷플릭스 사용일수'].median())\n",
    "print(\"40대:\",c['넷플릭스 사용일수'].median())\n",
    "print(\"50대:\",d['넷플릭스 사용일수'].median())\n",
    "print(\"60대:\", e['넷플릭스 사용일수'].median())\n",
    "print()\n",
    "print(\"넷플릭스 사용일수 std\")\n",
    "print(\"20대:\", a['넷플릭스 사용일수'].std())\n",
    "print(\"30대:\",b['넷플릭스 사용일수'].std())\n",
    "print(\"40대:\",c['넷플릭스 사용일수'].std())\n",
    "print(\"50대:\",d['넷플릭스 사용일수'].std())\n",
    "print(\"60대:\", e['넷플릭스 사용일수'].std())"
   ]
  },
  {
   "cell_type": "markdown",
   "id": "9d3f19bb",
   "metadata": {},
   "source": [
    "## 주요 columns을 포함한 나머지 columns들의 통계량 확인"
   ]
  },
  {
   "cell_type": "code",
   "execution_count": 94,
   "id": "852851e0",
   "metadata": {},
   "outputs": [
    {
     "name": "stdout",
     "output_type": "stream",
     "text": [
      "성별's mean: 1.5\n",
      "연령대's mean: 20.0\n",
      "총인구수's mean: 1744.2564858490566\n",
      "1인가구수's mean: 458.20990566037733\n",
      "데이터 사용량's mean: 27.52079402515717\n",
      "동영상/방송 서비스 사용 미추정 인구수's mean: 104.61360062893081\n",
      "동영상/방송 서비스 사용일수's mean: 54.14373034591206\n",
      "유튜브 사용 미추정 인구수's mean: 14.476611635220126\n",
      "유튜브 사용일수's mean: 0.3964033018867919\n",
      "넷플릭스 사용 미추정 인구수's mean: 383.74685534591197\n",
      "넷플릭스 사용일수's mean: -0.21079009433962692\n",
      "게임 서비스 사용일수's mean: 110.60113993710728\n",
      "게임 서비스 사용 미추정 인구수's mean: 27.17059748427673\n",
      "금융 서비스 사용 미추정 인구수's mean: 64.15251572327044\n",
      "금융 서비스 사용일수's mean: 178.4618121069181\n",
      "쇼핑 서비스 사용 미추정 인구수's mean: 54.087067610062896\n",
      "쇼핑 서비스 사용일수's mean: 216.1301297169816\n"
     ]
    }
   ],
   "source": [
    "# 20대 column들의 모든 평균값 계산\n",
    "len(a.columns)\n",
    "for i in range(len(a.columns)):\n",
    "    try:\n",
    "        print(f\"{a.columns[i]}'s mean: {a.iloc[:, i].mean()}\")\n",
    "    except:\n",
    "        pass"
   ]
  },
  {
   "cell_type": "code",
   "execution_count": 92,
   "id": "5d671fe6",
   "metadata": {},
   "outputs": [
    {
     "name": "stdout",
     "output_type": "stream",
     "text": [
      "성별's median: 1.5\n",
      "연령대's median: 20.0\n",
      "총인구수's median: 1645.0\n",
      "1인가구수's median: 261.0\n",
      "데이터 사용량's median: 26.6\n",
      "동영상/방송 서비스 사용 미추정 인구수's median: 100.0\n",
      "동영상/방송 서비스 사용일수's median: 54.2\n",
      "유튜브 사용 미추정 인구수's median: 13.0\n",
      "유튜브 사용일수's median: 0.4\n",
      "넷플릭스 사용 미추정 인구수's median: 360.0\n",
      "넷플릭스 사용일수's median: -0.2\n",
      "게임 서비스 사용일수's median: 107.05000000000001\n",
      "게임 서비스 사용 미추정 인구수's median: 25.0\n",
      "금융 서비스 사용 미추정 인구수's median: 58.0\n",
      "금융 서비스 사용일수's median: 178.05\n",
      "쇼핑 서비스 사용 미추정 인구수's median: 48.0\n",
      "쇼핑 서비스 사용일수's median: 217.3\n"
     ]
    }
   ],
   "source": [
    "#20대 column들의 모든 중앙값 계산\n",
    "\n",
    "len(data.columns)\n",
    "for i in range(len(a.columns)):\n",
    "    try:\n",
    "        print(f\"{a.columns[i]}'s median: {a.iloc[:, i].median()}\")\n",
    "    except:\n",
    "        pass"
   ]
  },
  {
   "cell_type": "code",
   "execution_count": 95,
   "id": "fb03966b",
   "metadata": {},
   "outputs": [
    {
     "name": "stdout",
     "output_type": "stream",
     "text": [
      "성별's sd: 0.5000491424641218\n",
      "연령대's sd: 0.0\n",
      "총인구수's sd: 842.4418616187013\n",
      "1인가구수's sd: 586.524270125111\n",
      "데이터 사용량's sd: 6.4851335335165015\n",
      "동영상/방송 서비스 사용 미추정 인구수's sd: 49.58826412003615\n",
      "동영상/방송 서비스 사용일수's sd: 7.521550193827668\n",
      "유튜브 사용 미추정 인구수's sd: 10.14395322653056\n",
      "유튜브 사용일수's sd: 0.143589976904288\n",
      "넷플릭스 사용 미추정 인구수's sd: 185.4819393445536\n",
      "넷플릭스 사용일수's sd: 0.09197997215866344\n",
      "게임 서비스 사용일수's sd: 29.94583444269836\n",
      "게임 서비스 사용 미추정 인구수's sd: 15.423871025197696\n",
      "금융 서비스 사용 미추정 인구수's sd: 35.79593905131022\n",
      "금융 서비스 사용일수's sd: 20.29226539865159\n",
      "쇼핑 서비스 사용 미추정 인구수's sd: 33.152940176000875\n",
      "쇼핑 서비스 사용일수's sd: 30.010595439456097\n"
     ]
    }
   ],
   "source": [
    "# 20대 column들의 모든 표준편차 계산\n",
    "\n",
    "len(a.columns)\n",
    "for i in range(len(a.columns)):\n",
    "    try:\n",
    "        print(f\"{a.columns[i]}'s sd: {a.iloc[:, i].std()}\")\n",
    "    except:\n",
    "        pass"
   ]
  },
  {
   "cell_type": "code",
   "execution_count": 97,
   "id": "081e4333",
   "metadata": {},
   "outputs": [
    {
     "name": "stdout",
     "output_type": "stream",
     "text": [
      "성별's mean: 1.5\n",
      "연령대's mean: 30.0\n",
      "총인구수's mean: 1952.364386792453\n",
      "1인가구수's mean: 439.3439465408805\n",
      "데이터 사용량's mean: 23.02541273584904\n",
      "동영상/방송 서비스 사용 미추정 인구수's mean: 187.4555817610063\n",
      "동영상/방송 서비스 사용일수's mean: 59.33979952830204\n",
      "유튜브 사용 미추정 인구수's mean: 40.396619496855344\n",
      "유튜브 사용일수's mean: 0.19589229559748395\n",
      "넷플릭스 사용 미추정 인구수's mean: 596.8264544025158\n",
      "넷플릭스 사용일수's mean: -0.34944968553458783\n",
      "게임 서비스 사용일수's mean: 107.11570361635205\n",
      "게임 서비스 사용 미추정 인구수's mean: 71.68317610062893\n",
      "금융 서비스 사용 미추정 인구수's mean: 149.1316823899371\n",
      "금융 서비스 사용일수's mean: 234.8098073899377\n",
      "쇼핑 서비스 사용 미추정 인구수's mean: 118.51788522012579\n",
      "쇼핑 서비스 사용일수's mean: 301.47594339622646\n"
     ]
    }
   ],
   "source": [
    "# 30대 column의 모든 평균값 계산\n",
    "len(b.columns)\n",
    "for i in range(len(b.columns)):\n",
    "    try:\n",
    "        print(f\"{b.columns[i]}'s mean: {b.iloc[:, i].mean()}\")\n",
    "    except:\n",
    "        pass"
   ]
  },
  {
   "cell_type": "code",
   "execution_count": 99,
   "id": "30f30193",
   "metadata": {},
   "outputs": [
    {
     "name": "stdout",
     "output_type": "stream",
     "text": [
      "성별's sd: 0.5000491424641218\n",
      "연령대's sd: 0.0\n",
      "총인구수's sd: 860.1669424860053\n",
      "1인가구수's sd: 399.02706721754356\n",
      "데이터 사용량's sd: 5.766042894835122\n",
      "동영상/방송 서비스 사용 미추정 인구수's sd: 94.68437627700142\n",
      "동영상/방송 서비스 사용일수's sd: 6.632356167910631\n",
      "유튜브 사용 미추정 인구수's sd: 24.752486643118576\n",
      "유튜브 사용일수's sd: 0.11852589525946788\n",
      "넷플릭스 사용 미추정 인구수's sd: 273.7081563587939\n",
      "넷플릭스 사용일수's sd: 0.07997746281659635\n",
      "게임 서비스 사용일수's sd: 26.06596814539987\n",
      "게임 서비스 사용 미추정 인구수's sd: 38.00782430046065\n",
      "금융 서비스 사용 미추정 인구수's sd: 84.80358297173217\n",
      "금융 서비스 사용일수's sd: 30.7671885299198\n",
      "쇼핑 서비스 사용 미추정 인구수's sd: 71.30114051386373\n",
      "쇼핑 서비스 사용일수's sd: 35.302315679397445\n"
     ]
    }
   ],
   "source": [
    "# 30대 column들의 모든 표준편차 계산\n",
    "len(b.columns)\n",
    "for i in range(len(b.columns)):\n",
    "    try:\n",
    "        print(f\"{b.columns[i]}'s sd: {b.iloc[:, i].std()}\")\n",
    "    except:\n",
    "        pass"
   ]
  },
  {
   "cell_type": "code",
   "execution_count": 100,
   "id": "e04b9db1",
   "metadata": {},
   "outputs": [
    {
     "name": "stdout",
     "output_type": "stream",
     "text": [
      "성별's median: 1.5\n",
      "연령대's median: 30.0\n",
      "총인구수's median: 1857.5\n",
      "1인가구수's median: 322.0\n",
      "데이터 사용량's median: 22.5\n",
      "동영상/방송 서비스 사용 미추정 인구수's median: 175.0\n",
      "동영상/방송 서비스 사용일수's median: 59.400000000000006\n",
      "유튜브 사용 미추정 인구수's median: 36.0\n",
      "유튜브 사용일수's median: 0.2\n",
      "넷플릭스 사용 미추정 인구수's median: 573.0\n",
      "넷플릭스 사용일수's median: -0.3\n",
      "게임 서비스 사용일수's median: 106.6\n",
      "게임 서비스 사용 미추정 인구수's median: 65.0\n",
      "금융 서비스 사용 미추정 인구수's median: 131.5\n",
      "금융 서비스 사용일수's median: 232.5\n",
      "쇼핑 서비스 사용 미추정 인구수's median: 102.0\n",
      "쇼핑 서비스 사용일수's median: 300.1\n"
     ]
    }
   ],
   "source": [
    "# 30대 column들의 모든 중앙값 계산\n",
    "\n",
    "len(b.columns)\n",
    "for i in range(len(b.columns)):\n",
    "    try:\n",
    "        print(f\"{b.columns[i]}'s median: {b.iloc[:, i].median()}\")\n",
    "    except:\n",
    "        pass"
   ]
  },
  {
   "cell_type": "code",
   "execution_count": 101,
   "id": "ec9b0162",
   "metadata": {},
   "outputs": [
    {
     "name": "stdout",
     "output_type": "stream",
     "text": [
      "성별's sd: 1.5\n",
      "연령대's sd: 40.0\n",
      "총인구수's sd: 1967.282822327044\n",
      "1인가구수's sd: 256.7313286163522\n",
      "데이터 사용량's sd: 14.32686713836477\n",
      "동영상/방송 서비스 사용 미추정 인구수's sd: 283.25216194968556\n",
      "동영상/방송 서비스 사용일수's sd: 49.360082547169924\n",
      "유튜브 사용 미추정 인구수's sd: 55.541863207547166\n",
      "유튜브 사용일수's sd: -0.03421776729559729\n",
      "넷플릭스 사용 미추정 인구수's sd: 930.0112028301887\n",
      "넷플릭스 사용일수's sd: -0.6440644654087712\n",
      "게임 서비스 사용일수's sd: 102.79679638364756\n",
      "게임 서비스 사용 미추정 인구수's sd: 84.04697327044025\n",
      "금융 서비스 사용 미추정 인구수's sd: 197.07252358490567\n",
      "금융 서비스 사용일수's sd: 203.15283018867925\n",
      "쇼핑 서비스 사용 미추정 인구수's sd: 152.62755503144655\n",
      "쇼핑 서비스 사용일수's sd: 281.30210298742253\n"
     ]
    }
   ],
   "source": [
    "# 40대\n",
    "\n",
    "len(c.columns)\n",
    "for i in range(len(c.columns)):\n",
    "    try:\n",
    "        print(f\"{c.columns[i]}'s mean: {c.iloc[:, i].mean()}\")\n",
    "    except:\n",
    "        pass"
   ]
  },
  {
   "cell_type": "code",
   "execution_count": 103,
   "id": "eee1f7ab",
   "metadata": {},
   "outputs": [
    {
     "name": "stdout",
     "output_type": "stream",
     "text": [
      "성별's sd: 1.5\n",
      "연령대's sd: 40.0\n",
      "총인구수's sd: 1855.5\n",
      "1인가구수's sd: 224.0\n",
      "데이터 사용량's sd: 14.2\n",
      "동영상/방송 서비스 사용 미추정 인구수's sd: 271.5\n",
      "동영상/방송 서비스 사용일수's sd: 49.3\n",
      "유튜브 사용 미추정 인구수's sd: 50.0\n",
      "유튜브 사용일수's sd: -0.1\n",
      "넷플릭스 사용 미추정 인구수's sd: 895.0\n",
      "넷플릭스 사용일수's sd: -0.7\n",
      "게임 서비스 사용일수's sd: 100.3\n",
      "게임 서비스 사용 미추정 인구수's sd: 78.0\n",
      "금융 서비스 사용 미추정 인구수's sd: 182.0\n",
      "금융 서비스 사용일수's sd: 200.3\n",
      "쇼핑 서비스 사용 미추정 인구수's sd: 137.0\n",
      "쇼핑 서비스 사용일수's sd: 274.6\n"
     ]
    }
   ],
   "source": [
    "# 40대 중앙값\n",
    "len(c.columns)\n",
    "for i in range(len(c.columns)):\n",
    "    try:\n",
    "        print(f\"{c.columns[i]}'s median: {c.iloc[:, i].median()}\")\n",
    "    except:\n",
    "        pass"
   ]
  },
  {
   "cell_type": "code",
   "execution_count": 102,
   "id": "1867e068",
   "metadata": {},
   "outputs": [
    {
     "name": "stdout",
     "output_type": "stream",
     "text": [
      "성별's sd: 0.5000491424641218\n",
      "연령대's sd: 0.0\n",
      "총인구수's sd: 839.5198914417309\n",
      "1인가구수's sd: 151.46767185607374\n",
      "데이터 사용량's sd: 4.376769933473477\n",
      "동영상/방송 서비스 사용 미추정 인구수's sd: 118.82378919705643\n",
      "동영상/방송 서비스 사용일수's sd: 7.259783672192978\n",
      "유튜브 사용 미추정 인구수's sd: 29.294788009284225\n",
      "유튜브 사용일수's sd: 0.12933475636736919\n",
      "넷플릭스 사용 미추정 인구수's sd: 393.77231917395915\n",
      "넷플릭스 사용일수's sd: 0.09532078506357049\n",
      "게임 서비스 사용일수's sd: 21.90474938371606\n",
      "게임 서비스 사용 미추정 인구수's sd: 40.2901745662538\n",
      "금융 서비스 사용 미추정 인구수's sd: 98.5659812086362\n",
      "금융 서비스 사용일수's sd: 30.116966526251016\n",
      "쇼핑 서비스 사용 미추정 인구수's sd: 80.85827835691916\n",
      "쇼핑 서비스 사용일수's sd: 31.159856414287376\n"
     ]
    }
   ],
   "source": [
    "# 40대 표준편차\n",
    "len(c.columns)\n",
    "for i in range(len(c.columns)):\n",
    "    try:\n",
    "        print(f\"{c.columns[i]}'s sd: {c.iloc[:, i].std()}\")\n",
    "    except:\n",
    "        pass"
   ]
  },
  {
   "cell_type": "code",
   "execution_count": 109,
   "id": "7f03f3c2",
   "metadata": {},
   "outputs": [
    {
     "name": "stdout",
     "output_type": "stream",
     "text": [
      "성별's mean: 1.5\n",
      "연령대's mean: 50.0\n",
      "총인구수's mean: 2569.784787735849\n",
      "1인가구수's mean: 318.718356918239\n",
      "데이터 사용량's mean: 9.84553852201259\n",
      "동영상/방송 서비스 사용 미추정 인구수's mean: 615.3630110062893\n",
      "동영상/방송 서비스 사용일수's mean: 50.16863207547176\n",
      "유튜브 사용 미추정 인구수's mean: 74.74724842767296\n",
      "유튜브 사용일수's mean: -0.30455974842767475\n",
      "넷플릭스 사용 미추정 인구수's mean: 1902.2095125786163\n",
      "넷플릭스 사용일수's mean: -1.5845322327043958\n",
      "게임 서비스 사용일수's mean: 123.6856721698111\n",
      "게임 서비스 사용 미추정 인구수's mean: 100.74587264150944\n",
      "금융 서비스 사용 미추정 인구수's mean: 346.5131682389937\n",
      "금융 서비스 사용일수's mean: 184.15127751572368\n",
      "쇼핑 서비스 사용 미추정 인구수's mean: 299.7672955974843\n",
      "쇼핑 서비스 사용일수's mean: 233.87955974842725\n"
     ]
    }
   ],
   "source": [
    "# 50대 평균\n",
    "len(d.columns)\n",
    "for i in range(len(d.columns)):\n",
    "    try:\n",
    "        print(f\"{d.columns[i]}'s mean: {d.iloc[:, i].mean()}\")\n",
    "    except:\n",
    "        pass"
   ]
  },
  {
   "cell_type": "code",
   "execution_count": 111,
   "id": "a3d5ce33",
   "metadata": {},
   "outputs": [
    {
     "name": "stdout",
     "output_type": "stream",
     "text": [
      "성별's median: 1.5\n",
      "연령대's median: 50.0\n",
      "총인구수's median: 2526.0\n",
      "1인가구수's median: 279.0\n",
      "데이터 사용량's median: 10.25\n",
      "동영상/방송 서비스 사용 미추정 인구수's median: 580.0\n",
      "동영상/방송 서비스 사용일수's median: 49.6\n",
      "유튜브 사용 미추정 인구수's median: 70.0\n",
      "유튜브 사용일수's median: -0.3\n",
      "넷플릭스 사용 미추정 인구수's median: 1843.5\n",
      "넷플릭스 사용일수's median: -1.6\n",
      "게임 서비스 사용일수's median: 125.3\n",
      "게임 서비스 사용 미추정 인구수's median: 96.0\n",
      "금융 서비스 사용 미추정 인구수's median: 328.0\n",
      "금융 서비스 사용일수's median: 178.7\n",
      "쇼핑 서비스 사용 미추정 인구수's median: 282.0\n",
      "쇼핑 서비스 사용일수's median: 229.3\n"
     ]
    }
   ],
   "source": [
    "# 50대 중앙값\n",
    "len(d.columns)\n",
    "for i in range(len(d.columns)):\n",
    "    try:\n",
    "        print(f\"{d.columns[i]}'s median: {d.iloc[:, i].median()}\")\n",
    "    except:\n",
    "        pass"
   ]
  },
  {
   "cell_type": "code",
   "execution_count": 114,
   "id": "3002bf7b",
   "metadata": {},
   "outputs": [
    {
     "name": "stdout",
     "output_type": "stream",
     "text": [
      "성별's sd: 0.5000491424641218\n",
      "연령대's sd: 0.0\n",
      "총인구수's sd: 1007.5519092734577\n",
      "1인가구수's sd: 183.17185892166574\n",
      "데이터 사용량's sd: 3.324809455763116\n",
      "동영상/방송 서비스 사용 미추정 인구수's sd: 277.2234121276607\n",
      "동영상/방송 서비스 사용일수's sd: 9.015498021530654\n",
      "유튜브 사용 미추정 인구수's sd: 35.90480873428136\n",
      "유튜브 사용일수's sd: 0.13666692433968725\n",
      "넷플릭스 사용 미추정 인구수's sd: 786.1246548745877\n",
      "넷플릭스 사용일수's sd: 0.10697393048489853\n",
      "게임 서비스 사용일수's sd: 15.950325911958524\n",
      "게임 서비스 사용 미추정 인구수's sd: 42.85977339661852\n",
      "금융 서비스 사용 미추정 인구수's sd: 155.41857666452043\n",
      "금융 서비스 사용일수's sd: 28.074299647665807\n",
      "쇼핑 서비스 사용 미추정 인구수's sd: 143.35586752169257\n",
      "쇼핑 서비스 사용일수's sd: 27.41498062398177\n"
     ]
    }
   ],
   "source": [
    "# 50대 표준편차\n",
    "len(data.columns)\n",
    "for i in range(len(d.columns)):\n",
    "    try:\n",
    "        print(f\"{d.columns[i]}'s sd: {d.iloc[:, i].std()}\")\n",
    "    except:\n",
    "        pass"
   ]
  },
  {
   "cell_type": "code",
   "execution_count": 115,
   "id": "9bbb6d1e",
   "metadata": {},
   "outputs": [
    {
     "name": "stdout",
     "output_type": "stream",
     "text": [
      "성별's mean: 1.5\n",
      "연령대's mean: 60.0\n",
      "총인구수's mean: 1435.969143081761\n",
      "1인가구수's mean: 343.74115566037733\n",
      "데이터 사용량's mean: 3.9516705974842727\n",
      "동영상/방송 서비스 사용 미추정 인구수's mean: 758.9638364779875\n",
      "동영상/방송 서비스 사용일수's mean: 33.021933962264214\n",
      "유튜브 사용 미추정 인구수's mean: 158.907036163522\n",
      "유튜브 사용일수's mean: -0.9665290880503118\n",
      "넷플릭스 사용 미추정 인구수's mean: 1337.2482311320755\n",
      "넷플릭스 사용일수's mean: -1.8977201257860692\n",
      "게임 서비스 사용일수's mean: 96.02275943396242\n",
      "게임 서비스 사용 미추정 인구수's mean: 178.64445754716982\n",
      "금융 서비스 사용 미추정 인구수's mean: 662.5033411949686\n",
      "금융 서비스 사용일수's mean: 78.7170400943397\n",
      "쇼핑 서비스 사용 미추정 인구수's mean: 623.3632075471698\n",
      "쇼핑 서비스 사용일수's mean: 102.54278694968542\n"
     ]
    }
   ],
   "source": [
    "# 60대 이상 평균\n",
    "len(e.columns)\n",
    "for i in range(len(e.columns)):\n",
    "    try:\n",
    "        print(f\"{e.columns[i]}'s mean: {e.iloc[:, i].mean()}\")\n",
    "    except:\n",
    "        pass"
   ]
  },
  {
   "cell_type": "code",
   "execution_count": 116,
   "id": "6d5cef9f",
   "metadata": {},
   "outputs": [
    {
     "name": "stdout",
     "output_type": "stream",
     "text": [
      "성별's sd: 1.5\n",
      "연령대's sd: 60.0\n",
      "총인구수's sd: 1358.5\n",
      "1인가구수's sd: 301.0\n",
      "데이터 사용량's sd: 3.9\n",
      "동영상/방송 서비스 사용 미추정 인구수's sd: 685.0\n",
      "동영상/방송 서비스 사용일수's sd: 33.0\n",
      "유튜브 사용 미추정 인구수's sd: 137.0\n",
      "유튜브 사용일수's sd: -1.0\n",
      "넷플릭스 사용 미추정 인구수's sd: 1252.0\n",
      "넷플릭스 사용일수's sd: -1.9\n",
      "게임 서비스 사용일수's sd: 96.6\n",
      "게임 서비스 사용 미추정 인구수's sd: 153.0\n",
      "금융 서비스 사용 미추정 인구수's sd: 595.0\n",
      "금융 서비스 사용일수's sd: 77.4\n",
      "쇼핑 서비스 사용 미추정 인구수's sd: 561.0\n",
      "쇼핑 서비스 사용일수's sd: 101.3\n"
     ]
    }
   ],
   "source": [
    "# 60대 중앙값\n",
    "len(e.columns)\n",
    "for i in range(len(e.columns)):\n",
    "    try:\n",
    "        print(f\"{e.columns[i]}'s median: {e.iloc[:, i].median()}\")\n",
    "    except:\n",
    "        pass"
   ]
  },
  {
   "cell_type": "code",
   "execution_count": 117,
   "id": "4deeece3",
   "metadata": {},
   "outputs": [
    {
     "name": "stdout",
     "output_type": "stream",
     "text": [
      "성별's sd: 0.5000491424641218\n",
      "연령대's sd: 0.0\n",
      "총인구수's sd: 595.5250105301925\n",
      "1인가구수's sd: 191.44912192801235\n",
      "데이터 사용량's sd: 1.2463404894616934\n",
      "동영상/방송 서비스 사용 미추정 인구수's sd: 382.8053476819011\n",
      "동영상/방송 서비스 사용일수's sd: 4.637357222280792\n",
      "유튜브 사용 미추정 인구수's sd: 97.8970656785467\n",
      "유튜브 사용일수's sd: 0.2121018703355423\n",
      "넷플릭스 사용 미추정 인구수's sd: 569.1306382594069\n",
      "넷플릭스 사용일수's sd: 0.07289885366695557\n",
      "게임 서비스 사용일수's sd: 6.889426097401184\n",
      "게임 서비스 사용 미추정 인구수's sd: 106.47441397018093\n",
      "금융 서비스 사용 미추정 인구수's sd: 342.4024356549487\n",
      "금융 서비스 사용일수's sd: 12.136103792373117\n",
      "쇼핑 서비스 사용 미추정 인구수's sd: 321.8578882893347\n",
      "쇼핑 서비스 사용일수's sd: 12.701156402056066\n"
     ]
    }
   ],
   "source": [
    "# 60대 표준편차\n",
    "len(e.columns)\n",
    "for i in range(len(e.columns)):\n",
    "    try:\n",
    "        print(f\"{e.columns[i]}'s sd: {e.iloc[:, i].std()}\")\n",
    "    except:\n",
    "        pass"
   ]
  },
  {
   "cell_type": "code",
   "execution_count": 118,
   "id": "77613ccd",
   "metadata": {},
   "outputs": [
    {
     "data": {
      "image/png": "[encoded data removed]",
      "text/plain": [
       "<Figure size 432x288 with 2 Axes>"
      ]
     },
     "metadata": {},
     "output_type": "display_data"
    }
   ],
   "source": [
    "corr_data = data.drop(columns = [\"자치구\", \"행정동\"])\n",
    "\n",
    "# correlation 계산 및 plotting\n",
    "corr = corr_data.corr()\n",
    "fig = plt.figure()\n",
    "ax = fig.add_subplot(111)\n",
    "cax = ax.matshow(corr, cmap = 'coolwarm', vmin=-1, vmax=1)\n",
    "fig.colorbar(cax)\n",
    "ticks = np.arange(0,len(corr_data.columns),1)\n",
    "ax.set_xticks(ticks)\n",
    "plt.xticks(rotation=90)\n",
    "ax.set_yticks(ticks)\n",
    "ax.set_xticklabels(corr_data.columns)\n",
    "ax.set_yticklabels(corr_data.columns)\n",
    "plt.show()"
   ]
  },
  {
   "cell_type": "markdown",
   "id": "1c5e1e36",
   "metadata": {},
   "source": [
    "## Hypothesis 1"
   ]
  },
  {
   "cell_type": "markdown",
   "id": "f6d7244a",
   "metadata": {},
   "source": [
    "### H0: 연령대별 데이터 사용량에는 차이가 없다.\n",
    "\n",
    "### H1: 연령대별 데이터 사용량에는 차이가 있다."
   ]
  },
  {
   "cell_type": "code",
   "execution_count": 122,
   "id": "60d11339",
   "metadata": {},
   "outputs": [],
   "source": [
    "from scipy import stats\n",
    "import statsmodels.api as sm\n",
    "from scipy.stats import shapiro\n",
    "from scipy.stats import kstest\n",
    "from scipy.stats import bartlett\n",
    "from scipy.stats import levene\n",
    "from scipy.stats import fligner\n",
    "from scipy.stats import chi2\n",
    "from scipy.stats import chisquare\n",
    "from scipy.stats import chi2_contingency\n",
    "from scipy.stats import f_oneway\n",
    "from scipy.stats import f\n",
    "from statsmodels.stats.multitest import multipletests\n",
    "from statsmodels.stats.multicomp import pairwise_tukeyhsd\n",
    "import statsmodels.api as sm"
   ]
  },
  {
   "cell_type": "code",
   "execution_count": 119,
   "id": "74f6b687",
   "metadata": {},
   "outputs": [],
   "source": [
    "use_data_20 = a[\"데이터 사용량\"]\n",
    "use_data_30 = b[\"데이터 사용량\"]\n",
    "use_data_40 = c[\"데이터 사용량\"]\n",
    "use_data_50 = d[\"데이터 사용량\"]\n",
    "use_data_60 = e[\"데이터 사용량\"]"
   ]
  },
  {
   "cell_type": "code",
   "execution_count": 124,
   "id": "d203493b",
   "metadata": {},
   "outputs": [
    {
     "name": "stdout",
     "output_type": "stream",
     "text": [
      "ShapiroResult(statistic=0.9328960180282593, pvalue=5.05868745621259e-43)\n",
      "ShapiroResult(statistic=0.9264141321182251, pvalue=1.8216880036222622e-44)\n",
      "ShapiroResult(statistic=0.9024242758750916, pvalue=0.0)\n",
      "ShapiroResult(statistic=0.8771405220031738, pvalue=0.0)\n",
      "ShapiroResult(statistic=0.9585699439048767, pvalue=8.524238195077235e-36)\n"
     ]
    },
    {
     "name": "stderr",
     "output_type": "stream",
     "text": [
      "C:\\ProgramData\\Anaconda3\\lib\\site-packages\\scipy\\stats\\morestats.py:1760: UserWarning: p-value may not be accurate for N > 5000.\n",
      "  warnings.warn(\"p-value may not be accurate for N > 5000.\")\n"
     ]
    }
   ],
   "source": [
    "from scipy.stats import shapiro\n",
    "\n",
    "print(shapiro(use_data_20))\n",
    "print(shapiro(use_data_30))\n",
    "print(shapiro(use_data_40))\n",
    "print(shapiro(use_data_50))\n",
    "print(shapiro(use_data_60))"
   ]
  },
  {
   "cell_type": "code",
   "execution_count": 128,
   "id": "d61e30b2",
   "metadata": {},
   "outputs": [
    {
     "name": "stdout",
     "output_type": "stream",
     "text": [
      "LeveneResult(statistic=5127.600933781037, pvalue=0.0)\n",
      "BartlettResult(statistic=11603.889583647006, pvalue=0.0)\n"
     ]
    }
   ],
   "source": [
    "# 동분산 검정\n",
    "print(levene(use_data_20, use_data_30, use_data_40, use_data_50, use_data_60))\n",
    "print(bartlett(use_data_20, use_data_30, use_data_40, use_data_50, use_data_60))"
   ]
  },
  {
   "cell_type": "code",
   "execution_count": 130,
   "id": "28c3c9b0",
   "metadata": {},
   "outputs": [
    {
     "data": {
      "text/plain": [
       "KruskalResult(statistic=21066.865051249664, pvalue=0.0)"
      ]
     },
     "execution_count": 130,
     "metadata": {},
     "output_type": "execute_result"
    }
   ],
   "source": [
    "stats.kruskal(use_data_20, use_data_30, use_data_40, use_data_50, use_data_60)"
   ]
  },
  {
   "cell_type": "code",
   "execution_count": 146,
   "id": "6e3c06a2",
   "metadata": {},
   "outputs": [
    {
     "data": {
      "text/plain": [
       "F_onewayResult(statistic=21834.230558978696, pvalue=0.0)"
      ]
     },
     "execution_count": 146,
     "metadata": {},
     "output_type": "execute_result"
    }
   ],
   "source": [
    "f_oneway(use_data_20, use_data_30, use_data_40, use_data_50, use_data_60)"
   ]
  },
  {
   "cell_type": "code",
   "execution_count": 136,
   "id": "6965c0f8",
   "metadata": {},
   "outputs": [
    {
     "name": "stdout",
     "output_type": "stream",
     "text": [
      " Multiple Comparison of Means - Tukey HSD, FWER=0.05 \n",
      "=====================================================\n",
      "group1 group2 meandiff p-adj  lower    upper   reject\n",
      "-----------------------------------------------------\n",
      "    20     30  -4.4954 0.001  -4.7457  -4.2451   True\n",
      "    20     40 -13.1939 0.001 -13.4442 -12.9436   True\n",
      "    20     50 -17.6753 0.001 -17.9255  -17.425   True\n",
      "    20     60 -23.5691 0.001 -23.8194 -23.3188   True\n",
      "    30     40  -8.6985 0.001  -8.9488  -8.4483   True\n",
      "    30     50 -13.1799 0.001 -13.4302 -12.9296   True\n",
      "    30     60 -19.0737 0.001  -19.324 -18.8235   True\n",
      "    40     50  -4.4813 0.001  -4.7316  -4.2311   True\n",
      "    40     60 -10.3752 0.001 -10.6255 -10.1249   True\n",
      "    50     60  -5.8939 0.001  -6.1441  -5.6436   True\n",
      "-----------------------------------------------------\n"
     ]
    }
   ],
   "source": [
    "tukey = pairwise_tukeyhsd(endog = data[\"데이터 사용량\"], groups = data[\"연령대\"], alpha = 0.05)\n",
    "print(tukey)\n",
    "\n",
    "# 모든 연령대에서 데이터 사용량은 차이가 있ㅇ므을 확인 할 수 있었음."
   ]
  },
  {
   "cell_type": "markdown",
   "id": "4291e298",
   "metadata": {},
   "source": [
    "## Hypothesis 2\n",
    "## H0: 연령대별 동영상/방송 서비스 사용량에는 차이가 없다.\n",
    "## H1: 연령대별 동영상/방송 서비스 사용량에는 차이가 있다."
   ]
  },
  {
   "cell_type": "code",
   "execution_count": 140,
   "id": "1fd2674e",
   "metadata": {},
   "outputs": [],
   "source": [
    "use_video_20 = a[\"동영상/방송 서비스 사용일수\"]\n",
    "use_video_30 = b[\"동영상/방송 서비스 사용일수\"]\n",
    "use_video_40 = c[\"동영상/방송 서비스 사용일수\"]\n",
    "use_video_50 = d[\"동영상/방송 서비스 사용일수\"]\n",
    "use_video_60 = e[\"동영상/방송 서비스 사용일수\"]"
   ]
  },
  {
   "cell_type": "code",
   "execution_count": 139,
   "id": "38932f33",
   "metadata": {},
   "outputs": [
    {
     "data": {
      "text/plain": [
       "Index(['자치구', '행정동', '성별', '연령대', '총인구수', '1인가구수', '데이터 사용량',\n",
       "       '동영상/방송 서비스 사용 미추정 인구수', '동영상/방송 서비스 사용일수', '유튜브 사용 미추정 인구수',\n",
       "       '유튜브 사용일수', '넷플릭스 사용 미추정 인구수', '넷플릭스 사용일수', '게임 서비스 사용일수',\n",
       "       '게임 서비스 사용 미추정 인구수', '금융 서비스 사용 미추정 인구수', '금융 서비스 사용일수',\n",
       "       '쇼핑 서비스 사용 미추정 인구수', '쇼핑 서비스 사용일수'],\n",
       "      dtype='object')"
      ]
     },
     "execution_count": 139,
     "metadata": {},
     "output_type": "execute_result"
    }
   ],
   "source": [
    "data.columns"
   ]
  },
  {
   "cell_type": "code",
   "execution_count": 141,
   "id": "f3a937db",
   "metadata": {},
   "outputs": [
    {
     "name": "stdout",
     "output_type": "stream",
     "text": [
      "ShapiroResult(statistic=0.9470958113670349, pvalue=2.2580075038621518e-39)\n",
      "ShapiroResult(statistic=0.9681028723716736, pvalue=3.628778685105646e-32)\n",
      "ShapiroResult(statistic=0.9483638405799866, pvalue=5.207600641419459e-39)\n",
      "ShapiroResult(statistic=0.9231544733047485, pvalue=4.203895392974451e-45)\n",
      "ShapiroResult(statistic=0.9911060929298401, pvalue=2.3332846021099788e-17)\n"
     ]
    },
    {
     "name": "stderr",
     "output_type": "stream",
     "text": [
      "C:\\ProgramData\\Anaconda3\\lib\\site-packages\\scipy\\stats\\morestats.py:1760: UserWarning: p-value may not be accurate for N > 5000.\n",
      "  warnings.warn(\"p-value may not be accurate for N > 5000.\")\n"
     ]
    }
   ],
   "source": [
    "from scipy.stats import shapiro\n",
    "\n",
    "print(shapiro(use_video_20))\n",
    "print(shapiro(use_video_30))\n",
    "print(shapiro(use_video_40))\n",
    "print(shapiro(use_video_50))\n",
    "print(shapiro(use_video_60))"
   ]
  },
  {
   "cell_type": "code",
   "execution_count": 144,
   "id": "7b5061be",
   "metadata": {},
   "outputs": [
    {
     "name": "stdout",
     "output_type": "stream",
     "text": [
      "LeveneResult(statistic=1332.9068308297844, pvalue=0.0)\n",
      "BartlettResult(statistic=2183.889822187747, pvalue=0.0)\n"
     ]
    }
   ],
   "source": [
    "# 동분산 검정\n",
    "print(levene(use_video_20, use_video_30, use_video_40, use_video_50, use_video_60))\n",
    "print(bartlett(use_video_20, use_video_30, use_video_40, use_video_50, use_video_60))"
   ]
  },
  {
   "cell_type": "code",
   "execution_count": 145,
   "id": "87970725",
   "metadata": {},
   "outputs": [
    {
     "data": {
      "text/plain": [
       "KruskalResult(statistic=14312.75309954946, pvalue=0.0)"
      ]
     },
     "execution_count": 145,
     "metadata": {},
     "output_type": "execute_result"
    }
   ],
   "source": [
    "stats.kruskal(use_video_20, use_video_30, use_video_40, use_video_50, use_video_60)"
   ]
  },
  {
   "cell_type": "code",
   "execution_count": 147,
   "id": "4b56d767",
   "metadata": {},
   "outputs": [
    {
     "data": {
      "text/plain": [
       "F_onewayResult(statistic=9685.89214020866, pvalue=0.0)"
      ]
     },
     "execution_count": 147,
     "metadata": {},
     "output_type": "execute_result"
    }
   ],
   "source": [
    "f_oneway(use_video_20, use_video_30, use_video_40, use_video_50, use_video_60)"
   ]
  },
  {
   "cell_type": "code",
   "execution_count": 148,
   "id": "083e0772",
   "metadata": {},
   "outputs": [
    {
     "name": "stdout",
     "output_type": "stream",
     "text": [
      " Multiple Comparison of Means - Tukey HSD, FWER=0.05 \n",
      "=====================================================\n",
      "group1 group2 meandiff p-adj  lower    upper   reject\n",
      "-----------------------------------------------------\n",
      "    20     30   5.1961 0.001    4.809   5.5831   True\n",
      "    20     40  -4.7836 0.001  -5.1707  -4.3966   True\n",
      "    20     50  -3.9751 0.001  -4.3621  -3.5881   True\n",
      "    20     60 -21.1218 0.001 -21.5088 -20.7348   True\n",
      "    30     40  -9.9797 0.001 -10.3668  -9.5927   True\n",
      "    30     50  -9.1712 0.001  -9.5582  -8.7841   True\n",
      "    30     60 -26.3179 0.001 -26.7049 -25.9308   True\n",
      "    40     50   0.8085 0.001   0.4215   1.1956   True\n",
      "    40     60 -16.3381 0.001 -16.7252 -15.9511   True\n",
      "    50     60 -17.1467 0.001 -17.5337 -16.7597   True\n",
      "-----------------------------------------------------\n"
     ]
    }
   ],
   "source": [
    "tukey = pairwise_tukeyhsd(endog = data[\"동영상/방송 서비스 사용일수\"], groups = data[\"연령대\"], alpha = 0.05)\n",
    "print(tukey)"
   ]
  },
  {
   "cell_type": "markdown",
   "id": "8cd48b62",
   "metadata": {},
   "source": [
    "## Hypothesis 3\n",
    "## H0: 연령대별 유튜브 사용일수 차이가 없다\n",
    "## H1: 연령대별 유튜브 사용일수 차이가 있다."
   ]
  },
  {
   "cell_type": "code",
   "execution_count": 150,
   "id": "0744dc1c",
   "metadata": {},
   "outputs": [],
   "source": [
    "use_you_20 = a['유튜브 사용일수']\n",
    "use_you_30 = b['유튜브 사용일수']\n",
    "use_you_40 = c['유튜브 사용일수']\n",
    "use_you_50 = d['유튜브 사용일수']\n",
    "use_you_60 = e['유튜브 사용일수']"
   ]
  },
  {
   "cell_type": "code",
   "execution_count": 180,
   "id": "8ab873bd",
   "metadata": {},
   "outputs": [
    {
     "name": "stdout",
     "output_type": "stream",
     "text": [
      "ShapiroResult(statistic=0.8958590030670166, pvalue=0.0)\n",
      "ShapiroResult(statistic=0.8304201364517212, pvalue=0.0)\n",
      "ShapiroResult(statistic=0.8968252539634705, pvalue=0.0)\n",
      "ShapiroResult(statistic=0.9328743815422058, pvalue=5.002635517639597e-43)\n",
      "ShapiroResult(statistic=0.9659560322761536, pvalue=4.729108914932082e-33)\n"
     ]
    }
   ],
   "source": [
    "from scipy.stats import shapiro\n",
    "\n",
    "print(shapiro(use_you_20))\n",
    "print(shapiro(use_you_30))\n",
    "print(shapiro(use_you_40))\n",
    "print(shapiro(use_you_50))\n",
    "print(shapiro(use_you_60))"
   ]
  },
  {
   "cell_type": "code",
   "execution_count": 181,
   "id": "61174bd3",
   "metadata": {},
   "outputs": [
    {
     "data": {
      "text/plain": [
       "KruskalResult(statistic=22859.46653653344, pvalue=0.0)"
      ]
     },
     "execution_count": 181,
     "metadata": {},
     "output_type": "execute_result"
    }
   ],
   "source": [
    "stats.kruskal(use_you_20, use_you_30, use_you_40, use_you_50, use_you_60)"
   ]
  },
  {
   "cell_type": "code",
   "execution_count": 168,
   "id": "0ff2ab1d",
   "metadata": {},
   "outputs": [
    {
     "name": "stdout",
     "output_type": "stream",
     "text": [
      "LeveneResult(statistic=459.83555514338775, pvalue=0.0)\n",
      "BartlettResult(statistic=2342.8392691805693, pvalue=0.0)\n"
     ]
    }
   ],
   "source": [
    "# 동분산 검정\n",
    "print(levene(use_you_20, use_you_30, use_you_40, use_you_50, use_you_60))\n",
    "print(bartlett(use_you_20, use_you_30, use_you_40, use_you_50, use_you_60))"
   ]
  },
  {
   "cell_type": "code",
   "execution_count": 170,
   "id": "5a11b148",
   "metadata": {},
   "outputs": [
    {
     "data": {
      "text/plain": [
       "F_onewayResult(statistic=62016.25464230307, pvalue=0.0)"
      ]
     },
     "execution_count": 170,
     "metadata": {},
     "output_type": "execute_result"
    }
   ],
   "source": [
    "f_oneway(use_you_20, use_you_30, use_you_40, use_you_50, use_you_60)"
   ]
  },
  {
   "cell_type": "code",
   "execution_count": 171,
   "id": "3c1ce5b1",
   "metadata": {},
   "outputs": [
    {
     "name": "stdout",
     "output_type": "stream",
     "text": [
      "Multiple Comparison of Means - Tukey HSD, FWER=0.05\n",
      "===================================================\n",
      "group1 group2 meandiff p-adj  lower   upper  reject\n",
      "---------------------------------------------------\n",
      "    20     30  -0.2005 0.001 -0.2087 -0.1923   True\n",
      "    20     40  -0.4306 0.001 -0.4388 -0.4224   True\n",
      "    20     50   -0.701 0.001 -0.7092 -0.6928   True\n",
      "    20     60  -1.3629 0.001 -1.3711 -1.3547   True\n",
      "    30     40  -0.2301 0.001 -0.2383 -0.2219   True\n",
      "    30     50  -0.5005 0.001 -0.5087 -0.4922   True\n",
      "    30     60  -1.1624 0.001 -1.1706 -1.1542   True\n",
      "    40     50  -0.2703 0.001 -0.2785 -0.2621   True\n",
      "    40     60  -0.9323 0.001 -0.9405 -0.9241   True\n",
      "    50     60   -0.662 0.001 -0.6702 -0.6538   True\n",
      "---------------------------------------------------\n"
     ]
    }
   ],
   "source": [
    "tukey = pairwise_tukeyhsd(endog = data[\"유튜브 사용일수\"], groups = data[\"연령대\"], alpha = 0.05)\n",
    "print(tukey)"
   ]
  },
  {
   "cell_type": "markdown",
   "id": "a8d466f4",
   "metadata": {},
   "source": [
    "## Hypothesis 4\n",
    "## H0: 연령대별 금융 서비스 사용일수에 차이가 없다\n",
    "## H1: 연령대별 금융 서비스 사용일수에 차이가 있다"
   ]
  },
  {
   "cell_type": "code",
   "execution_count": 156,
   "id": "0f20fcf4",
   "metadata": {},
   "outputs": [],
   "source": [
    "use_bank_20 = a[\"금융 서비스 사용일수\"]\n",
    "use_bank_30 = b[\"금융 서비스 사용일수\"]\n",
    "use_bank_40 = c[\"금융 서비스 사용일수\"]\n",
    "use_bank_50 = d[\"금융 서비스 사용일수\"]\n",
    "use_bank_60 = e[\"금융 서비스 사용일수\"]"
   ]
  },
  {
   "cell_type": "code",
   "execution_count": 157,
   "id": "23e8c85a",
   "metadata": {},
   "outputs": [
    {
     "name": "stdout",
     "output_type": "stream",
     "text": [
      "ShapiroResult(statistic=0.9963554739952087, pvalue=7.123057144120537e-10)\n",
      "ShapiroResult(statistic=0.9594045281410217, pvalue=1.661045120700303e-35)\n",
      "ShapiroResult(statistic=0.9625296592712402, pvalue=2.2330877662008016e-34)\n",
      "ShapiroResult(statistic=0.954984188079834, pvalue=5.446420239266392e-37)\n",
      "ShapiroResult(statistic=0.9811996221542358, pvalue=1.8875814436321794e-25)\n"
     ]
    }
   ],
   "source": [
    "from scipy.stats import shapiro\n",
    "\n",
    "print(shapiro(use_bank_20))\n",
    "print(shapiro(use_bank_30))\n",
    "print(shapiro(use_bank_40))\n",
    "print(shapiro(use_bank_50))\n",
    "print(shapiro(use_bank_60))"
   ]
  },
  {
   "cell_type": "code",
   "execution_count": 158,
   "id": "2629f891",
   "metadata": {},
   "outputs": [
    {
     "name": "stdout",
     "output_type": "stream",
     "text": [
      "LeveneResult(statistic=1534.5719034473227, pvalue=0.0)\n",
      "BartlettResult(statistic=4898.806326990045, pvalue=0.0)\n"
     ]
    }
   ],
   "source": [
    "# 동분산 검정\n",
    "print(levene(use_bank_20, use_bank_30, use_bank_40, use_bank_50, use_bank_60))\n",
    "print(bartlett(use_bank_20, use_bank_30, use_bank_40, use_bank_50, use_bank_60))"
   ]
  },
  {
   "cell_type": "code",
   "execution_count": 164,
   "id": "9a947e1f",
   "metadata": {},
   "outputs": [
    {
     "name": "stdout",
     "output_type": "stream",
     "text": [
      "KruskalResult(statistic=16973.60649087972, pvalue=0.0)\n",
      "F_onewayResult(statistic=27285.34815244906, pvalue=0.0)\n",
      "  Multiple Comparison of Means - Tukey HSD, FWER=0.05   \n",
      "========================================================\n",
      "group1 group2  meandiff p-adj   lower     upper   reject\n",
      "--------------------------------------------------------\n",
      "    20     30    56.348 0.001   54.9796   57.7164   True\n",
      "    20     40    24.691 0.001   23.3226   26.0595   True\n",
      "    20     50    5.6895 0.001     4.321    7.0579   True\n",
      "    20     60  -99.7448 0.001 -101.1132  -98.3763   True\n",
      "    30     40   -31.657 0.001  -33.0254  -30.2885   True\n",
      "    30     50  -50.6585 0.001   -52.027  -49.2901   True\n",
      "    30     60 -156.0928 0.001 -157.4612 -154.7243   True\n",
      "    40     50  -19.0016 0.001    -20.37  -17.6331   True\n",
      "    40     60 -124.4358 0.001 -125.8042 -123.0673   True\n",
      "    50     60 -105.4342 0.001 -106.8027 -104.0658   True\n",
      "--------------------------------------------------------\n"
     ]
    }
   ],
   "source": [
    "print(stats.kruskal(use_bank_20, use_bank_30, use_bank_40, use_bank_50, use_bank_60))\n",
    "print(f_oneway(use_bank_20, use_bank_30, use_bank_40, use_bank_50, use_bank_60))\n",
    "tukey = pairwise_tukeyhsd(endog = data[\"금융 서비스 사용일수\"], groups = data[\"연령대\"], alpha = 0.05)\n",
    "print(tukey)"
   ]
  },
  {
   "cell_type": "markdown",
   "id": "058bec09",
   "metadata": {},
   "source": [
    "## Hypothesis 5\n",
    "## H0: 연령대별 쇼핑 서비스 사용일수에 차이가 없다\n",
    "## H1: 연령대별 쇼핑 서비스 사용일수에 차이가 있다"
   ]
  },
  {
   "cell_type": "code",
   "execution_count": 165,
   "id": "cafa396b",
   "metadata": {},
   "outputs": [],
   "source": [
    "use_shop_20 = a[\"쇼핑 서비스 사용일수\"]\n",
    "use_shop_30 = b[\"쇼핑 서비스 사용일수\"]\n",
    "use_shop_40 = c[\"쇼핑 서비스 사용일수\"]\n",
    "use_shop_50 = d[\"쇼핑 서비스 사용일수\"]\n",
    "use_shop_60 = e[\"쇼핑 서비스 사용일수\"]"
   ]
  },
  {
   "cell_type": "code",
   "execution_count": 166,
   "id": "9b156da7",
   "metadata": {},
   "outputs": [
    {
     "name": "stdout",
     "output_type": "stream",
     "text": [
      "ShapiroResult(statistic=0.9963311553001404, pvalue=6.389716533661272e-10)\n",
      "ShapiroResult(statistic=0.9844946265220642, pvalue=3.293764700816034e-23)\n",
      "ShapiroResult(statistic=0.9672216176986694, pvalue=1.5524451201514614e-32)\n",
      "ShapiroResult(statistic=0.9785858988761902, pvalue=5.001578435815431e-27)\n",
      "ShapiroResult(statistic=0.9517422318458557, pvalue=5.242885897270544e-38)\n"
     ]
    }
   ],
   "source": [
    "from scipy.stats import shapiro\n",
    "\n",
    "print(shapiro(use_shop_20))\n",
    "print(shapiro(use_shop_30))\n",
    "print(shapiro(use_shop_40))\n",
    "print(shapiro(use_shop_50))\n",
    "print(shapiro(use_shop_60))"
   ]
  },
  {
   "cell_type": "code",
   "execution_count": 167,
   "id": "cf6c6159",
   "metadata": {},
   "outputs": [
    {
     "name": "stdout",
     "output_type": "stream",
     "text": [
      "LeveneResult(statistic=830.4619618593653, pvalue=0.0)\n",
      "BartlettResult(statistic=4814.443408605254, pvalue=0.0)\n"
     ]
    }
   ],
   "source": [
    "# 동분산 검정\n",
    "print(levene(use_shop_20, use_shop_30, use_shop_40, use_shop_50, use_shop_60))\n",
    "print(bartlett(use_shop_20, use_shop_30, use_shop_40, use_shop_50, use_shop_60))"
   ]
  },
  {
   "cell_type": "code",
   "execution_count": 173,
   "id": "cf37be38",
   "metadata": {},
   "outputs": [
    {
     "name": "stdout",
     "output_type": "stream",
     "text": [
      "KruskalResult(statistic=19892.42760479377, pvalue=0.0)\n",
      "F_onewayResult(statistic=38106.4844422645, pvalue=0.0)\n",
      "  Multiple Comparison of Means - Tukey HSD, FWER=0.05   \n",
      "========================================================\n",
      "group1 group2  meandiff p-adj   lower     upper   reject\n",
      "--------------------------------------------------------\n",
      "    20     30   85.3458 0.001   83.8102   86.8814   True\n",
      "    20     40    65.172 0.001   63.6364   66.7076   True\n",
      "    20     50   17.7494 0.001   16.2138   19.2851   True\n",
      "    20     60 -113.5873 0.001  -115.123 -112.0517   True\n",
      "    30     40  -20.1738 0.001  -21.7095  -18.6382   True\n",
      "    30     50  -67.5964 0.001   -69.132  -66.0608   True\n",
      "    30     60 -198.9332 0.001 -200.4688 -197.3975   True\n",
      "    40     50  -47.4225 0.001  -48.9582  -45.8869   True\n",
      "    40     60 -178.7593 0.001 -180.2949 -177.2237   True\n",
      "    50     60 -131.3368 0.001 -132.8724 -129.8012   True\n",
      "--------------------------------------------------------\n"
     ]
    }
   ],
   "source": [
    "print(stats.kruskal(use_shop_20, use_shop_30, use_shop_40, use_shop_50, use_shop_60))\n",
    "print(f_oneway(use_shop_20, use_shop_30, use_shop_40, use_shop_50, use_shop_60))\n",
    "tukey = pairwise_tukeyhsd(endog = data[\"쇼핑 서비스 사용일수\"], groups = data[\"연령대\"], alpha = 0.05)\n",
    "print(tukey)"
   ]
  },
  {
   "cell_type": "markdown",
   "id": "a2d4cf82",
   "metadata": {},
   "source": [
    "## Hypothesis 6\n",
    "## H0: 연령대별 게임 서비스 사용일수에 차이가 없다\n",
    "## H1: 연령대별 게임 서비스 사용일수에 차이가 있다"
   ]
  },
  {
   "cell_type": "code",
   "execution_count": 174,
   "id": "80a07808",
   "metadata": {},
   "outputs": [],
   "source": [
    "use_game_20 = a[\"게임 서비스 사용일수\"]\n",
    "use_game_30 = b[\"게임 서비스 사용일수\"]\n",
    "use_game_40 = c[\"게임 서비스 사용일수\"]\n",
    "use_game_50 = d[\"게임 서비스 사용일수\"]\n",
    "use_game_60 = e[\"게임 서비스 사용일수\"]"
   ]
  },
  {
   "cell_type": "code",
   "execution_count": 175,
   "id": "f3fa5358",
   "metadata": {},
   "outputs": [
    {
     "name": "stdout",
     "output_type": "stream",
     "text": [
      "ShapiroResult(statistic=0.8459686040878296, pvalue=0.0)\n",
      "ShapiroResult(statistic=0.9035314917564392, pvalue=0.0)\n",
      "ShapiroResult(statistic=0.913625955581665, pvalue=0.0)\n",
      "ShapiroResult(statistic=0.9588041305541992, pvalue=1.026811965077686e-35)\n",
      "ShapiroResult(statistic=0.9952771067619324, pvalue=8.302171450313978e-12)\n"
     ]
    }
   ],
   "source": [
    "from scipy.stats import shapiro\n",
    "\n",
    "print(shapiro(use_game_20))\n",
    "print(shapiro(use_game_30))\n",
    "print(shapiro(use_game_40))\n",
    "print(shapiro(use_game_50))\n",
    "print(shapiro(use_game_60))"
   ]
  },
  {
   "cell_type": "code",
   "execution_count": 176,
   "id": "78b0a1e6",
   "metadata": {},
   "outputs": [
    {
     "name": "stdout",
     "output_type": "stream",
     "text": [
      "LeveneResult(statistic=6764.085685919541, pvalue=0.0)\n",
      "BartlettResult(statistic=9603.626715080101, pvalue=0.0)\n"
     ]
    }
   ],
   "source": [
    "# 동분산 검정\n",
    "print(levene(use_game_20, use_game_30, use_game_40, use_game_50, use_game_60))\n",
    "print(bartlett(use_game_20, use_game_30, use_game_40, use_game_50, use_game_60))"
   ]
  },
  {
   "cell_type": "code",
   "execution_count": 177,
   "id": "fb39ec8d",
   "metadata": {},
   "outputs": [
    {
     "name": "stdout",
     "output_type": "stream",
     "text": [
      "KruskalResult(statistic=3636.2730481796575, pvalue=0.0)\n",
      "F_onewayResult(statistic=1143.955915860839, pvalue=0.0)\n",
      " Multiple Comparison of Means - Tukey HSD, FWER=0.05 \n",
      "=====================================================\n",
      "group1 group2 meandiff p-adj  lower    upper   reject\n",
      "-----------------------------------------------------\n",
      "    20     30  -3.4854 0.001  -4.6599  -2.3109   True\n",
      "    20     40  -7.8043 0.001  -8.9788  -6.6298   True\n",
      "    20     50  13.0845 0.001    11.91   14.259   True\n",
      "    20     60 -14.5784 0.001 -15.7529 -13.4039   True\n",
      "    30     40  -4.3189 0.001  -5.4934  -3.1444   True\n",
      "    30     50    16.57 0.001  15.3955  17.7445   True\n",
      "    30     60 -11.0929 0.001 -12.2674  -9.9184   True\n",
      "    40     50  20.8889 0.001  19.7144  22.0634   True\n",
      "    40     60   -6.774 0.001  -7.9485  -5.5995   True\n",
      "    50     60 -27.6629 0.001 -28.8374 -26.4884   True\n",
      "-----------------------------------------------------\n"
     ]
    }
   ],
   "source": [
    "print(stats.kruskal(use_game_20, use_game_30, use_game_40, use_game_50, use_game_60))\n",
    "print(f_oneway(use_game_20, use_game_30, use_game_40, use_game_50, use_game_60))\n",
    "tukey = pairwise_tukeyhsd(endog = data[\"게임 서비스 사용일수\"], groups = data[\"연령대\"], alpha = 0.05)\n",
    "print(tukey)"
   ]
  },
  {
   "cell_type": "markdown",
   "id": "b4c32127",
   "metadata": {},
   "source": [
    "## Hypothesis 7\n",
    "## H0: 연령대별 넷플릭스 사용일수에 차이가 없다\n",
    "## H1: 연령대별 넷플릭스 사용일수에 차이가 있다"
   ]
  },
  {
   "cell_type": "code",
   "execution_count": 178,
   "id": "f839d4b4",
   "metadata": {},
   "outputs": [],
   "source": [
    "use_net_20 = a[\"넷플릭스 사용일수\"]\n",
    "use_net_30 = b[\"넷플릭스 사용일수\"]\n",
    "use_net_40 = c[\"넷플릭스 사용일수\"]\n",
    "use_net_50 = d[\"넷플릭스 사용일수\"]\n",
    "use_net_60 = e[\"넷플릭스 사용일수\"]"
   ]
  },
  {
   "cell_type": "code",
   "execution_count": 179,
   "id": "406729ba",
   "metadata": {},
   "outputs": [
    {
     "name": "stdout",
     "output_type": "stream",
     "text": [
      "ShapiroResult(statistic=0.8750167489051819, pvalue=0.0)\n",
      "ShapiroResult(statistic=0.7852198481559753, pvalue=0.0)\n",
      "ShapiroResult(statistic=0.8240010738372803, pvalue=0.0)\n",
      "ShapiroResult(statistic=0.8533827662467957, pvalue=0.0)\n",
      "ShapiroResult(statistic=0.8372595310211182, pvalue=0.0)\n"
     ]
    }
   ],
   "source": [
    "from scipy.stats import shapiro\n",
    "\n",
    "print(shapiro(use_net_20))\n",
    "print(shapiro(use_net_30))\n",
    "print(shapiro(use_net_40))\n",
    "print(shapiro(use_net_50))\n",
    "print(shapiro(use_net_60))\n"
   ]
  },
  {
   "cell_type": "code",
   "execution_count": 182,
   "id": "8153ff32",
   "metadata": {},
   "outputs": [
    {
     "name": "stdout",
     "output_type": "stream",
     "text": [
      "LeveneResult(statistic=163.96301660162058, pvalue=7.848333685394458e-139)\n",
      "BartlettResult(statistic=907.1253582204263, pvalue=4.7623909167361155e-195)\n"
     ]
    }
   ],
   "source": [
    "# 동분산 검정\n",
    "print(levene(use_net_20, use_net_30, use_net_40, use_net_50, use_net_60))\n",
    "print(bartlett(use_net_20, use_net_30, use_net_40, use_net_50, use_net_60))"
   ]
  },
  {
   "cell_type": "code",
   "execution_count": 183,
   "id": "6bb8b192",
   "metadata": {},
   "outputs": [
    {
     "name": "stdout",
     "output_type": "stream",
     "text": [
      "KruskalResult(statistic=23963.850786453848, pvalue=0.0)\n",
      "F_onewayResult(statistic=359514.0767088952, pvalue=0.0)\n",
      "Multiple Comparison of Means - Tukey HSD, FWER=0.05\n",
      "===================================================\n",
      "group1 group2 meandiff p-adj  lower   upper  reject\n",
      "---------------------------------------------------\n",
      "    20     30  -0.1387 0.001 -0.1435 -0.1338   True\n",
      "    20     40  -0.4333 0.001 -0.4382 -0.4284   True\n",
      "    20     50  -1.3737 0.001 -1.3786 -1.3689   True\n",
      "    20     60  -1.6869 0.001 -1.6918 -1.6821   True\n",
      "    30     40  -0.2946 0.001 -0.2995 -0.2897   True\n",
      "    30     50  -1.2351 0.001   -1.24 -1.2302   True\n",
      "    30     60  -1.5483 0.001 -1.5532 -1.5434   True\n",
      "    40     50  -0.9405 0.001 -0.9453 -0.9356   True\n",
      "    40     60  -1.2537 0.001 -1.2585 -1.2488   True\n",
      "    50     60  -0.3132 0.001 -0.3181 -0.3083   True\n",
      "---------------------------------------------------\n"
     ]
    }
   ],
   "source": [
    "print(stats.kruskal(use_net_20, use_net_30, use_net_40, use_net_50, use_net_60))\n",
    "print(f_oneway(use_net_20, use_net_30, use_net_40, use_net_50, use_net_60))\n",
    "tukey = pairwise_tukeyhsd(endog = data[\"넷플릭스 사용일수\"], groups = data[\"연령대\"], alpha = 0.05)\n",
    "print(tukey)"
   ]
  },
  {
   "cell_type": "markdown",
   "id": "62b0dcee",
   "metadata": {},
   "source": [
    "### 모든 가설검정에서 H1을 채택한다. \n",
    "\n",
    "### 즉 모든 가설에 있어서, 연령대에 따라 각 변수들의 차이가 난다는 것을 알 수 있다."
   ]
  },
  {
   "cell_type": "code",
   "execution_count": null,
   "id": "13133fe4",
   "metadata": {},
   "outputs": [],
   "source": []
  },
  {
   "cell_type": "code",
   "execution_count": null,
   "id": "fee0598c",
   "metadata": {},
   "outputs": [],
   "source": []
  }
 ],
 "metadata": {
  "kernelspec": {
   "display_name": "Python 3 (ipykernel)",
   "language": "python",
   "name": "python3"
  },
  "language_info": {
   "codemirror_mode": {
    "name": "ipython",
    "version": 3
   },
   "file_extension": ".py",
   "mimetype": "text/x-python",
   "name": "python",
   "nbconvert_exporter": "python",
   "pygments_lexer": "ipython3",
   "version": "3.9.7"
  }
 },
 "nbformat": 4,
 "nbformat_minor": 5
}

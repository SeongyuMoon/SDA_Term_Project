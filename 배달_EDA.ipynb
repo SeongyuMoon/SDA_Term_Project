{
 "cells": [
  {
   "cell_type": "code",
   "execution_count": 2,
   "metadata": {
    "scrolled": true
   },
   "outputs": [
    {
     "data": {
      "text/html": [
       "<div>\n",
       "<style scoped>\n",
       "    .dataframe tbody tr th:only-of-type {\n",
       "        vertical-align: middle;\n",
       "    }\n",
       "\n",
       "    .dataframe tbody tr th {\n",
       "        vertical-align: top;\n",
       "    }\n",
       "\n",
       "    .dataframe thead th {\n",
       "        text-align: right;\n",
       "    }\n",
       "</style>\n",
       "<table border=\"1\" class=\"dataframe\">\n",
       "  <thead>\n",
       "    <tr style=\"text-align: right;\">\n",
       "      <th></th>\n",
       "      <th>자치구</th>\n",
       "      <th>행정동</th>\n",
       "      <th>성별</th>\n",
       "      <th>연령대</th>\n",
       "      <th>총인구수</th>\n",
       "      <th>1인가구수</th>\n",
       "      <th>데이터 사용량</th>\n",
       "      <th>평일 총 이동 횟수 미추정 인구수</th>\n",
       "      <th>평일 총 이동 횟수</th>\n",
       "      <th>휴일 이동 미추정 인구수</th>\n",
       "      <th>...</th>\n",
       "      <th>유튜브 사용 미추정 인구수</th>\n",
       "      <th>유튜브 사용일수</th>\n",
       "      <th>넷플릭스 사용 미추정 인구수</th>\n",
       "      <th>넷플릭스 사용일수</th>\n",
       "      <th>배달 서비스 사용 미추정 인구수</th>\n",
       "      <th>배달 서비스 사용일수</th>\n",
       "      <th>배달_브랜드 서비스 사용 미추정 인구수</th>\n",
       "      <th>배달_브랜드 서비스 사용일수</th>\n",
       "      <th>배달_식재료 서비스 사용 미추정 인구수</th>\n",
       "      <th>배달_식재료 서비스 사용일수</th>\n",
       "    </tr>\n",
       "  </thead>\n",
       "  <tbody>\n",
       "    <tr>\n",
       "      <th>0</th>\n",
       "      <td>강남구</td>\n",
       "      <td>개포1동</td>\n",
       "      <td>1</td>\n",
       "      <td>20</td>\n",
       "      <td>1128.0</td>\n",
       "      <td>187.0</td>\n",
       "      <td>26.2</td>\n",
       "      <td>37</td>\n",
       "      <td>68.0</td>\n",
       "      <td>46</td>\n",
       "      <td>...</td>\n",
       "      <td>9</td>\n",
       "      <td>0.5</td>\n",
       "      <td>178</td>\n",
       "      <td>-0.2</td>\n",
       "      <td>356</td>\n",
       "      <td>16.7</td>\n",
       "      <td>1036</td>\n",
       "      <td>4.9</td>\n",
       "      <td>1128</td>\n",
       "      <td>0.0</td>\n",
       "    </tr>\n",
       "    <tr>\n",
       "      <th>1</th>\n",
       "      <td>강남구</td>\n",
       "      <td>개포1동</td>\n",
       "      <td>1</td>\n",
       "      <td>30</td>\n",
       "      <td>906.0</td>\n",
       "      <td>237.0</td>\n",
       "      <td>29.8</td>\n",
       "      <td>53</td>\n",
       "      <td>80.8</td>\n",
       "      <td>93</td>\n",
       "      <td>...</td>\n",
       "      <td>18</td>\n",
       "      <td>0.4</td>\n",
       "      <td>184</td>\n",
       "      <td>-0.2</td>\n",
       "      <td>234</td>\n",
       "      <td>17.9</td>\n",
       "      <td>768</td>\n",
       "      <td>6.3</td>\n",
       "      <td>890</td>\n",
       "      <td>1.7</td>\n",
       "    </tr>\n",
       "    <tr>\n",
       "      <th>2</th>\n",
       "      <td>강남구</td>\n",
       "      <td>개포1동</td>\n",
       "      <td>1</td>\n",
       "      <td>40</td>\n",
       "      <td>806.0</td>\n",
       "      <td>85.0</td>\n",
       "      <td>18.6</td>\n",
       "      <td>38</td>\n",
       "      <td>87.8</td>\n",
       "      <td>52</td>\n",
       "      <td>...</td>\n",
       "      <td>8</td>\n",
       "      <td>0.1</td>\n",
       "      <td>260</td>\n",
       "      <td>-0.4</td>\n",
       "      <td>316</td>\n",
       "      <td>16.9</td>\n",
       "      <td>705</td>\n",
       "      <td>7.1</td>\n",
       "      <td>792</td>\n",
       "      <td>1.7</td>\n",
       "    </tr>\n",
       "  </tbody>\n",
       "</table>\n",
       "<p>3 rows × 35 columns</p>\n",
       "</div>"
      ],
      "text/plain": [
       "   자치구   행정동  성별  연령대    총인구수  1인가구수  데이터 사용량  평일 총 이동 횟수 미추정 인구수  평일 총 이동 횟수  \\\n",
       "0  강남구  개포1동   1   20  1128.0  187.0     26.2                  37        68.0   \n",
       "1  강남구  개포1동   1   30   906.0  237.0     29.8                  53        80.8   \n",
       "2  강남구  개포1동   1   40   806.0   85.0     18.6                  38        87.8   \n",
       "\n",
       "   휴일 이동 미추정 인구수  ...  유튜브 사용 미추정 인구수  유튜브 사용일수  넷플릭스 사용 미추정 인구수  넷플릭스 사용일수  \\\n",
       "0             46  ...               9       0.5              178       -0.2   \n",
       "1             93  ...              18       0.4              184       -0.2   \n",
       "2             52  ...               8       0.1              260       -0.4   \n",
       "\n",
       "   배달 서비스 사용 미추정 인구수  배달 서비스 사용일수  배달_브랜드 서비스 사용 미추정 인구수  배달_브랜드 서비스 사용일수  \\\n",
       "0                356         16.7                   1036              4.9   \n",
       "1                234         17.9                    768              6.3   \n",
       "2                316         16.9                    705              7.1   \n",
       "\n",
       "   배달_식재료 서비스 사용 미추정 인구수  배달_식재료 서비스 사용일수  \n",
       "0                   1128              0.0  \n",
       "1                    890              1.7  \n",
       "2                    792              1.7  \n",
       "\n",
       "[3 rows x 35 columns]"
      ]
     },
     "execution_count": 2,
     "metadata": {},
     "output_type": "execute_result"
    }
   ],
   "source": [
    "# load csv file\n",
    "import pandas as pd\n",
    "data = pd.read_csv('./final_data.csv')\n",
    "\n",
    "# 필요없는 컬럼 제거\n",
    "data.drop([\"Unnamed: 0\"], axis = 1, inplace = True)\n",
    "data.head(3)"
   ]
  },
  {
   "cell_type": "code",
   "execution_count": 3,
   "metadata": {},
   "outputs": [],
   "source": [
    "import numpy as np\n",
    "import seaborn as sns\n",
    "import matplotlib as mpl\n",
    "import matplotlib.pyplot as plt\n",
    "from matplotlib import font_manager, rc\n",
    "\n",
    "# 한글 깨짐 방지\n",
    "font = font_manager.FontProperties(fname=\"c:/Windows/Fonts/malgun.ttf\").get_name()\n",
    "rc('font', family=font)"
   ]
  },
  {
   "cell_type": "code",
   "execution_count": 5,
   "metadata": {
    "scrolled": true
   },
   "outputs": [],
   "source": [
    "# 배달 분석과 관련하여 필요한 컬럼만 추출하여 재구성\n",
    "data = data[['자치구','행정동','성별','연령대','총인구수','1인가구수','배달 서비스 사용 미추정 인구수',\n",
    "             '배달 서비스 사용일수','배달_브랜드 서비스 사용 미추정 인구수','배달_브랜드 서비스 사용일수',\n",
    "             '배달_식재료 서비스 사용 미추정 인구수','배달_식재료 서비스 사용일수']]"
   ]
  },
  {
   "cell_type": "code",
   "execution_count": 6,
   "metadata": {
    "scrolled": false
   },
   "outputs": [
    {
     "data": {
      "text/html": [
       "<div>\n",
       "<style scoped>\n",
       "    .dataframe tbody tr th:only-of-type {\n",
       "        vertical-align: middle;\n",
       "    }\n",
       "\n",
       "    .dataframe tbody tr th {\n",
       "        vertical-align: top;\n",
       "    }\n",
       "\n",
       "    .dataframe thead th {\n",
       "        text-align: right;\n",
       "    }\n",
       "</style>\n",
       "<table border=\"1\" class=\"dataframe\">\n",
       "  <thead>\n",
       "    <tr style=\"text-align: right;\">\n",
       "      <th></th>\n",
       "      <th>자치구</th>\n",
       "      <th>행정동</th>\n",
       "      <th>성별</th>\n",
       "      <th>연령대</th>\n",
       "      <th>총인구수</th>\n",
       "      <th>1인가구수</th>\n",
       "      <th>배달 서비스 사용 미추정 인구수</th>\n",
       "      <th>배달 서비스 사용일수</th>\n",
       "      <th>배달_브랜드 서비스 사용 미추정 인구수</th>\n",
       "      <th>배달_브랜드 서비스 사용일수</th>\n",
       "      <th>배달_식재료 서비스 사용 미추정 인구수</th>\n",
       "      <th>배달_식재료 서비스 사용일수</th>\n",
       "    </tr>\n",
       "  </thead>\n",
       "  <tbody>\n",
       "    <tr>\n",
       "      <th>0</th>\n",
       "      <td>강남구</td>\n",
       "      <td>개포1동</td>\n",
       "      <td>1</td>\n",
       "      <td>20</td>\n",
       "      <td>1128.0</td>\n",
       "      <td>187.0</td>\n",
       "      <td>356</td>\n",
       "      <td>16.7</td>\n",
       "      <td>1036</td>\n",
       "      <td>4.9</td>\n",
       "      <td>1128</td>\n",
       "      <td>0.0</td>\n",
       "    </tr>\n",
       "    <tr>\n",
       "      <th>1</th>\n",
       "      <td>강남구</td>\n",
       "      <td>개포1동</td>\n",
       "      <td>1</td>\n",
       "      <td>30</td>\n",
       "      <td>906.0</td>\n",
       "      <td>237.0</td>\n",
       "      <td>234</td>\n",
       "      <td>17.9</td>\n",
       "      <td>768</td>\n",
       "      <td>6.3</td>\n",
       "      <td>890</td>\n",
       "      <td>1.7</td>\n",
       "    </tr>\n",
       "    <tr>\n",
       "      <th>2</th>\n",
       "      <td>강남구</td>\n",
       "      <td>개포1동</td>\n",
       "      <td>1</td>\n",
       "      <td>40</td>\n",
       "      <td>806.0</td>\n",
       "      <td>85.0</td>\n",
       "      <td>316</td>\n",
       "      <td>16.9</td>\n",
       "      <td>705</td>\n",
       "      <td>7.1</td>\n",
       "      <td>792</td>\n",
       "      <td>1.7</td>\n",
       "    </tr>\n",
       "    <tr>\n",
       "      <th>3</th>\n",
       "      <td>강남구</td>\n",
       "      <td>개포1동</td>\n",
       "      <td>1</td>\n",
       "      <td>50</td>\n",
       "      <td>1761.0</td>\n",
       "      <td>166.0</td>\n",
       "      <td>1334</td>\n",
       "      <td>16.3</td>\n",
       "      <td>1682</td>\n",
       "      <td>6.1</td>\n",
       "      <td>1755</td>\n",
       "      <td>1.7</td>\n",
       "    </tr>\n",
       "    <tr>\n",
       "      <th>4</th>\n",
       "      <td>강남구</td>\n",
       "      <td>개포1동</td>\n",
       "      <td>1</td>\n",
       "      <td>60</td>\n",
       "      <td>781.0</td>\n",
       "      <td>137.0</td>\n",
       "      <td>738</td>\n",
       "      <td>13.9</td>\n",
       "      <td>781</td>\n",
       "      <td>0.0</td>\n",
       "      <td>778</td>\n",
       "      <td>1.7</td>\n",
       "    </tr>\n",
       "    <tr>\n",
       "      <th>5</th>\n",
       "      <td>강남구</td>\n",
       "      <td>개포1동</td>\n",
       "      <td>2</td>\n",
       "      <td>20</td>\n",
       "      <td>1164.0</td>\n",
       "      <td>204.0</td>\n",
       "      <td>307</td>\n",
       "      <td>21.6</td>\n",
       "      <td>1115</td>\n",
       "      <td>3.4</td>\n",
       "      <td>1156</td>\n",
       "      <td>0.0</td>\n",
       "    </tr>\n",
       "    <tr>\n",
       "      <th>6</th>\n",
       "      <td>강남구</td>\n",
       "      <td>개포1동</td>\n",
       "      <td>2</td>\n",
       "      <td>30</td>\n",
       "      <td>902.0</td>\n",
       "      <td>202.0</td>\n",
       "      <td>215</td>\n",
       "      <td>19.4</td>\n",
       "      <td>828</td>\n",
       "      <td>6.3</td>\n",
       "      <td>875</td>\n",
       "      <td>3.4</td>\n",
       "    </tr>\n",
       "    <tr>\n",
       "      <th>7</th>\n",
       "      <td>강남구</td>\n",
       "      <td>개포1동</td>\n",
       "      <td>2</td>\n",
       "      <td>40</td>\n",
       "      <td>1062.0</td>\n",
       "      <td>107.0</td>\n",
       "      <td>305</td>\n",
       "      <td>16.4</td>\n",
       "      <td>979</td>\n",
       "      <td>4.9</td>\n",
       "      <td>1045</td>\n",
       "      <td>3.4</td>\n",
       "    </tr>\n",
       "    <tr>\n",
       "      <th>8</th>\n",
       "      <td>강남구</td>\n",
       "      <td>개포1동</td>\n",
       "      <td>2</td>\n",
       "      <td>50</td>\n",
       "      <td>2038.0</td>\n",
       "      <td>208.0</td>\n",
       "      <td>1447</td>\n",
       "      <td>16.4</td>\n",
       "      <td>1975</td>\n",
       "      <td>9.8</td>\n",
       "      <td>2010</td>\n",
       "      <td>5.1</td>\n",
       "    </tr>\n",
       "    <tr>\n",
       "      <th>9</th>\n",
       "      <td>강남구</td>\n",
       "      <td>개포1동</td>\n",
       "      <td>2</td>\n",
       "      <td>60</td>\n",
       "      <td>929.0</td>\n",
       "      <td>198.0</td>\n",
       "      <td>866</td>\n",
       "      <td>11.1</td>\n",
       "      <td>929</td>\n",
       "      <td>0.0</td>\n",
       "      <td>929</td>\n",
       "      <td>0.0</td>\n",
       "    </tr>\n",
       "  </tbody>\n",
       "</table>\n",
       "</div>"
      ],
      "text/plain": [
       "   자치구   행정동  성별  연령대    총인구수  1인가구수  배달 서비스 사용 미추정 인구수  배달 서비스 사용일수  \\\n",
       "0  강남구  개포1동   1   20  1128.0  187.0                356         16.7   \n",
       "1  강남구  개포1동   1   30   906.0  237.0                234         17.9   \n",
       "2  강남구  개포1동   1   40   806.0   85.0                316         16.9   \n",
       "3  강남구  개포1동   1   50  1761.0  166.0               1334         16.3   \n",
       "4  강남구  개포1동   1   60   781.0  137.0                738         13.9   \n",
       "5  강남구  개포1동   2   20  1164.0  204.0                307         21.6   \n",
       "6  강남구  개포1동   2   30   902.0  202.0                215         19.4   \n",
       "7  강남구  개포1동   2   40  1062.0  107.0                305         16.4   \n",
       "8  강남구  개포1동   2   50  2038.0  208.0               1447         16.4   \n",
       "9  강남구  개포1동   2   60   929.0  198.0                866         11.1   \n",
       "\n",
       "   배달_브랜드 서비스 사용 미추정 인구수  배달_브랜드 서비스 사용일수  배달_식재료 서비스 사용 미추정 인구수  \\\n",
       "0                   1036              4.9                   1128   \n",
       "1                    768              6.3                    890   \n",
       "2                    705              7.1                    792   \n",
       "3                   1682              6.1                   1755   \n",
       "4                    781              0.0                    778   \n",
       "5                   1115              3.4                   1156   \n",
       "6                    828              6.3                    875   \n",
       "7                    979              4.9                   1045   \n",
       "8                   1975              9.8                   2010   \n",
       "9                    929              0.0                    929   \n",
       "\n",
       "   배달_식재료 서비스 사용일수  \n",
       "0              0.0  \n",
       "1              1.7  \n",
       "2              1.7  \n",
       "3              1.7  \n",
       "4              1.7  \n",
       "5              0.0  \n",
       "6              3.4  \n",
       "7              3.4  \n",
       "8              5.1  \n",
       "9              0.0  "
      ]
     },
     "execution_count": 6,
     "metadata": {},
     "output_type": "execute_result"
    }
   ],
   "source": [
    "data.head(10)"
   ]
  },
  {
   "cell_type": "code",
   "execution_count": 7,
   "metadata": {},
   "outputs": [
    {
     "data": {
      "text/plain": [
       "<AxesSubplot:xlabel='연령대', ylabel='배달 서비스 사용 미추정 인구수'>"
      ]
     },
     "execution_count": 7,
     "metadata": {},
     "output_type": "execute_result"
    },
    {
     "data": {
      "image/png": "[encoded data removed]",
      "text/plain": [
       "<Figure size 432x288 with 1 Axes>"
      ]
     },
     "metadata": {
      "needs_background": "light"
     },
     "output_type": "display_data"
    }
   ],
   "source": [
    "# 연령대별 배달 서비스 사용 미추정 인구수\n",
    "sns.boxplot(x = \"연령대\", y = '배달 서비스 사용 미추정 인구수', data = data) "
   ]
  },
  {
   "cell_type": "code",
   "execution_count": 10,
   "metadata": {},
   "outputs": [
    {
     "data": {
      "text/plain": [
       "<AxesSubplot:xlabel='연령대', ylabel='배달 서비스 사용일수'>"
      ]
     },
     "execution_count": 10,
     "metadata": {},
     "output_type": "execute_result"
    },
    {
     "data": {
      "image/png": "[encoded data removed]",
      "text/plain": [
       "<Figure size 432x288 with 1 Axes>"
      ]
     },
     "metadata": {
      "needs_background": "light"
     },
     "output_type": "display_data"
    }
   ],
   "source": [
    "# 연령대별 배달 서비스 사용일수\n",
    "sns.boxplot(x = \"연령대\", y = '배달 서비스 사용일수', data = data)"
   ]
  },
  {
   "cell_type": "code",
   "execution_count": 9,
   "metadata": {},
   "outputs": [
    {
     "data": {
      "text/plain": [
       "<AxesSubplot:xlabel='연령대', ylabel='배달_브랜드 서비스 사용 미추정 인구수'>"
      ]
     },
     "execution_count": 9,
     "metadata": {},
     "output_type": "execute_result"
    },
    {
     "data": {
      "image/png": "[encoded data removed]",
      "text/plain": [
       "<Figure size 432x288 with 1 Axes>"
      ]
     },
     "metadata": {
      "needs_background": "light"
     },
     "output_type": "display_data"
    }
   ],
   "source": [
    "# 연령대별 배달_브랜드 서비스 사용 미추정 인구수\n",
    "sns.boxplot(x = \"연령대\", y = '배달_브랜드 서비스 사용 미추정 인구수', data = data)"
   ]
  },
  {
   "cell_type": "code",
   "execution_count": 11,
   "metadata": {},
   "outputs": [
    {
     "data": {
      "text/plain": [
       "<AxesSubplot:xlabel='연령대', ylabel='배달_브랜드 서비스 사용일수'>"
      ]
     },
     "execution_count": 11,
     "metadata": {},
     "output_type": "execute_result"
    },
    {
     "data": {
      "image/png": "[encoded data removed]",
      "text/plain": [
       "<Figure size 432x288 with 1 Axes>"
      ]
     },
     "metadata": {
      "needs_background": "light"
     },
     "output_type": "display_data"
    }
   ],
   "source": [
    "# 연령대별 배달_브랜드 서비스 사용일수\n",
    "sns.boxplot(x = \"연령대\", y = '배달_브랜드 서비스 사용일수', data = data)"
   ]
  },
  {
   "cell_type": "code",
   "execution_count": 15,
   "metadata": {},
   "outputs": [
    {
     "data": {
      "text/plain": [
       "<AxesSubplot:xlabel='연령대', ylabel='배달_식재료 서비스 사용 미추정 인구수'>"
      ]
     },
     "execution_count": 15,
     "metadata": {},
     "output_type": "execute_result"
    },
    {
     "data": {
      "image/png": "[encoded data removed]",
      "text/plain": [
       "<Figure size 432x288 with 1 Axes>"
      ]
     },
     "metadata": {
      "needs_background": "light"
     },
     "output_type": "display_data"
    }
   ],
   "source": [
    "# 연령대별 배달_식재료 서비스 사용 미추정 인구수\n",
    "sns.boxplot(x = \"연령대\", y = '배달_식재료 서비스 사용 미추정 인구수', data = data)"
   ]
  },
  {
   "cell_type": "code",
   "execution_count": 16,
   "metadata": {
    "scrolled": true
   },
   "outputs": [
    {
     "data": {
      "text/plain": [
       "<AxesSubplot:xlabel='연령대', ylabel='배달_식재료 서비스 사용일수'>"
      ]
     },
     "execution_count": 16,
     "metadata": {},
     "output_type": "execute_result"
    },
    {
     "data": {
      "image/png": "[encoded data removed]",
      "text/plain": [
       "<Figure size 432x288 with 1 Axes>"
      ]
     },
     "metadata": {
      "needs_background": "light"
     },
     "output_type": "display_data"
    }
   ],
   "source": [
    "# 연령대별 배달_식재료 서비스 사용일수\n",
    "sns.boxplot(x = \"연령대\", y = '배달_식재료 서비스 사용일수', data = data)"
   ]
  },
  {
   "cell_type": "code",
   "execution_count": 23,
   "metadata": {},
   "outputs": [
    {
     "data": {
      "text/plain": [
       "<seaborn.axisgrid.FacetGrid at 0x243bed3d940>"
      ]
     },
     "execution_count": 23,
     "metadata": {},
     "output_type": "execute_result"
    },
    {
     "data": {
      "image/png": "[encoded data removed]",
      "text/plain": [
       "<Figure size 360x360 with 1 Axes>"
      ]
     },
     "metadata": {
      "needs_background": "light"
     },
     "output_type": "display_data"
    }
   ],
   "source": [
    "sns.displot(data[data[\"연령대\"] == 20][\"배달 서비스 사용 미추정 인구수\"])"
   ]
  },
  {
   "cell_type": "code",
   "execution_count": 24,
   "metadata": {},
   "outputs": [
    {
     "data": {
      "text/plain": [
       "<seaborn.axisgrid.FacetGrid at 0x243bef3b910>"
      ]
     },
     "execution_count": 24,
     "metadata": {},
     "output_type": "execute_result"
    },
    {
     "data": {
      "image/png": "[encoded data removed]",
      "text/plain": [
       "<Figure size 360x360 with 1 Axes>"
      ]
     },
     "metadata": {
      "needs_background": "light"
     },
     "output_type": "display_data"
    }
   ],
   "source": [
    "sns.displot(data[data[\"연령대\"] == 30][\"배달 서비스 사용 미추정 인구수\"])"
   ]
  },
  {
   "cell_type": "code",
   "execution_count": 25,
   "metadata": {},
   "outputs": [
    {
     "data": {
      "text/plain": [
       "<seaborn.axisgrid.FacetGrid at 0x243bf1a49a0>"
      ]
     },
     "execution_count": 25,
     "metadata": {},
     "output_type": "execute_result"
    },
    {
     "data": {
      "image/png": "[encoded data removed]",
      "text/plain": [
       "<Figure size 360x360 with 1 Axes>"
      ]
     },
     "metadata": {
      "needs_background": "light"
     },
     "output_type": "display_data"
    }
   ],
   "source": [
    "sns.displot(data[data[\"연령대\"] == 40][\"배달 서비스 사용 미추정 인구수\"])"
   ]
  },
  {
   "cell_type": "code",
   "execution_count": 26,
   "metadata": {},
   "outputs": [
    {
     "data": {
      "text/plain": [
       "<seaborn.axisgrid.FacetGrid at 0x243bef648b0>"
      ]
     },
     "execution_count": 26,
     "metadata": {},
     "output_type": "execute_result"
    },
    {
     "data": {
      "image/png": "[encoded data removed]",
      "text/plain": [
       "<Figure size 360x360 with 1 Axes>"
      ]
     },
     "metadata": {
      "needs_background": "light"
     },
     "output_type": "display_data"
    }
   ],
   "source": [
    "sns.displot(data[data[\"연령대\"] == 50][\"배달 서비스 사용 미추정 인구수\"])"
   ]
  },
  {
   "cell_type": "code",
   "execution_count": 27,
   "metadata": {},
   "outputs": [
    {
     "data": {
      "text/plain": [
       "<seaborn.axisgrid.FacetGrid at 0x243bf3ba670>"
      ]
     },
     "execution_count": 27,
     "metadata": {},
     "output_type": "execute_result"
    },
    {
     "data": {
      "image/png": "[encoded data removed]",
      "text/plain": [
       "<Figure size 360x360 with 1 Axes>"
      ]
     },
     "metadata": {
      "needs_background": "light"
     },
     "output_type": "display_data"
    }
   ],
   "source": [
    "sns.displot(data[data[\"연령대\"] == 60][\"배달 서비스 사용 미추정 인구수\"])"
   ]
  },
  {
   "cell_type": "code",
   "execution_count": 28,
   "metadata": {},
   "outputs": [
    {
     "data": {
      "text/plain": [
       "<seaborn.axisgrid.FacetGrid at 0x243bf501670>"
      ]
     },
     "execution_count": 28,
     "metadata": {},
     "output_type": "execute_result"
    },
    {
     "data": {
      "image/png": "[encoded data removed]",
      "text/plain": [
       "<Figure size 360x360 with 1 Axes>"
      ]
     },
     "metadata": {
      "needs_background": "light"
     },
     "output_type": "display_data"
    }
   ],
   "source": [
    "sns.displot(data[data[\"연령대\"] == 20][\"배달 서비스 사용일수\"])"
   ]
  },
  {
   "cell_type": "code",
   "execution_count": 29,
   "metadata": {},
   "outputs": [
    {
     "data": {
      "text/plain": [
       "<seaborn.axisgrid.FacetGrid at 0x243c957ebb0>"
      ]
     },
     "execution_count": 29,
     "metadata": {},
     "output_type": "execute_result"
    },
    {
     "data": {
      "image/png": "[encoded data removed]",
      "text/plain": [
       "<Figure size 360x360 with 1 Axes>"
      ]
     },
     "metadata": {
      "needs_background": "light"
     },
     "output_type": "display_data"
    }
   ],
   "source": [
    "sns.displot(data[data[\"연령대\"] == 30][\"배달 서비스 사용일수\"])"
   ]
  },
  {
   "cell_type": "code",
   "execution_count": 30,
   "metadata": {},
   "outputs": [
    {
     "data": {
      "text/plain": [
       "<seaborn.axisgrid.FacetGrid at 0x243bf18faf0>"
      ]
     },
     "execution_count": 30,
     "metadata": {},
     "output_type": "execute_result"
    },
    {
     "data": {
      "image/png": "[encoded data removed]",
      "text/plain": [
       "<Figure size 360x360 with 1 Axes>"
      ]
     },
     "metadata": {
      "needs_background": "light"
     },
     "output_type": "display_data"
    }
   ],
   "source": [
    "sns.displot(data[data[\"연령대\"] == 40][\"배달 서비스 사용일수\"])"
   ]
  },
  {
   "cell_type": "code",
   "execution_count": 31,
   "metadata": {},
   "outputs": [
    {
     "data": {
      "text/plain": [
       "<seaborn.axisgrid.FacetGrid at 0x243c964ffa0>"
      ]
     },
     "execution_count": 31,
     "metadata": {},
     "output_type": "execute_result"
    },
    {
     "data": {
      "image/png": "[encoded data removed]",
      "text/plain": [
       "<Figure size 360x360 with 1 Axes>"
      ]
     },
     "metadata": {
      "needs_background": "light"
     },
     "output_type": "display_data"
    }
   ],
   "source": [
    "sns.displot(data[data[\"연령대\"] == 50][\"배달 서비스 사용일수\"])"
   ]
  },
  {
   "cell_type": "code",
   "execution_count": 32,
   "metadata": {},
   "outputs": [
    {
     "data": {
      "text/plain": [
       "<seaborn.axisgrid.FacetGrid at 0x243c9769550>"
      ]
     },
     "execution_count": 32,
     "metadata": {},
     "output_type": "execute_result"
    },
    {
     "data": {
      "image/png": "[encoded data removed]",
      "text/plain": [
       "<Figure size 360x360 with 1 Axes>"
      ]
     },
     "metadata": {
      "needs_background": "light"
     },
     "output_type": "display_data"
    }
   ],
   "source": [
    "sns.displot(data[data[\"연령대\"] == 60][\"배달 서비스 사용일수\"])"
   ]
  },
  {
   "cell_type": "code",
   "execution_count": 38,
   "metadata": {},
   "outputs": [
    {
     "data": {
      "text/plain": [
       "<seaborn.axisgrid.FacetGrid at 0x243bf50ff10>"
      ]
     },
     "execution_count": 38,
     "metadata": {},
     "output_type": "execute_result"
    },
    {
     "data": {
      "image/png": "[encoded data removed]",
      "text/plain": [
       "<Figure size 360x360 with 1 Axes>"
      ]
     },
     "metadata": {
      "needs_background": "light"
     },
     "output_type": "display_data"
    }
   ],
   "source": [
    "sns.displot(data[data[\"연령대\"] == 20][\"배달_브랜드 서비스 사용 미추정 인구수\"])"
   ]
  },
  {
   "cell_type": "code",
   "execution_count": 39,
   "metadata": {},
   "outputs": [
    {
     "data": {
      "text/plain": [
       "<seaborn.axisgrid.FacetGrid at 0x243bf2da790>"
      ]
     },
     "execution_count": 39,
     "metadata": {},
     "output_type": "execute_result"
    },
    {
     "data": {
      "image/png": "[encoded data removed]",
      "text/plain": [
       "<Figure size 360x360 with 1 Axes>"
      ]
     },
     "metadata": {
      "needs_background": "light"
     },
     "output_type": "display_data"
    }
   ],
   "source": [
    "sns.displot(data[data[\"연령대\"] == 30][\"배달_브랜드 서비스 사용 미추정 인구수\"])"
   ]
  },
  {
   "cell_type": "code",
   "execution_count": 40,
   "metadata": {},
   "outputs": [
    {
     "data": {
      "text/plain": [
       "<seaborn.axisgrid.FacetGrid at 0x243ca9340a0>"
      ]
     },
     "execution_count": 40,
     "metadata": {},
     "output_type": "execute_result"
    },
    {
     "data": {
      "image/png": "[encoded data removed]",
      "text/plain": [
       "<Figure size 360x360 with 1 Axes>"
      ]
     },
     "metadata": {
      "needs_background": "light"
     },
     "output_type": "display_data"
    }
   ],
   "source": [
    "sns.displot(data[data[\"연령대\"] == 40][\"배달_브랜드 서비스 사용 미추정 인구수\"])"
   ]
  },
  {
   "cell_type": "code",
   "execution_count": 41,
   "metadata": {},
   "outputs": [
    {
     "data": {
      "text/plain": [
       "<seaborn.axisgrid.FacetGrid at 0x243c958ec10>"
      ]
     },
     "execution_count": 41,
     "metadata": {},
     "output_type": "execute_result"
    },
    {
     "data": {
      "image/png": "[encoded data removed]",
      "text/plain": [
       "<Figure size 360x360 with 1 Axes>"
      ]
     },
     "metadata": {
      "needs_background": "light"
     },
     "output_type": "display_data"
    }
   ],
   "source": [
    "sns.displot(data[data[\"연령대\"] == 50][\"배달_브랜드 서비스 사용 미추정 인구수\"])"
   ]
  },
  {
   "cell_type": "code",
   "execution_count": 42,
   "metadata": {},
   "outputs": [
    {
     "data": {
      "text/plain": [
       "<seaborn.axisgrid.FacetGrid at 0x243cb271250>"
      ]
     },
     "execution_count": 42,
     "metadata": {},
     "output_type": "execute_result"
    },
    {
     "data": {
      "image/png": "[encoded data removed]",
      "text/plain": [
       "<Figure size 360x360 with 1 Axes>"
      ]
     },
     "metadata": {
      "needs_background": "light"
     },
     "output_type": "display_data"
    }
   ],
   "source": [
    "sns.displot(data[data[\"연령대\"] == 60][\"배달_브랜드 서비스 사용 미추정 인구수\"])"
   ]
  },
  {
   "cell_type": "code",
   "execution_count": null,
   "metadata": {},
   "outputs": [],
   "source": []
  },
  {
   "cell_type": "code",
   "execution_count": 43,
   "metadata": {},
   "outputs": [
    {
     "data": {
      "text/plain": [
       "<seaborn.axisgrid.FacetGrid at 0x243cb198490>"
      ]
     },
     "execution_count": 43,
     "metadata": {},
     "output_type": "execute_result"
    },
    {
     "data": {
      "image/png": "[encoded data removed]",
      "text/plain": [
       "<Figure size 360x360 with 1 Axes>"
      ]
     },
     "metadata": {
      "needs_background": "light"
     },
     "output_type": "display_data"
    }
   ],
   "source": [
    "sns.displot(data[data[\"연령대\"] == 20][\"배달_브랜드 서비스 사용일수\"])"
   ]
  },
  {
   "cell_type": "code",
   "execution_count": 44,
   "metadata": {},
   "outputs": [
    {
     "data": {
      "text/plain": [
       "<seaborn.axisgrid.FacetGrid at 0x243cb271fd0>"
      ]
     },
     "execution_count": 44,
     "metadata": {},
     "output_type": "execute_result"
    },
    {
     "data": {
      "image/png": "[encoded data removed]",
      "text/plain": [
       "<Figure size 360x360 with 1 Axes>"
      ]
     },
     "metadata": {
      "needs_background": "light"
     },
     "output_type": "display_data"
    }
   ],
   "source": [
    "sns.displot(data[data[\"연령대\"] == 20][\"배달_브랜드 서비스 사용일수\"])"
   ]
  },
  {
   "cell_type": "code",
   "execution_count": 45,
   "metadata": {},
   "outputs": [
    {
     "data": {
      "text/plain": [
       "<seaborn.axisgrid.FacetGrid at 0x243cc4a1a00>"
      ]
     },
     "execution_count": 45,
     "metadata": {},
     "output_type": "execute_result"
    },
    {
     "data": {
      "image/png": "[encoded data removed]",
      "text/plain": [
       "<Figure size 360x360 with 1 Axes>"
      ]
     },
     "metadata": {
      "needs_background": "light"
     },
     "output_type": "display_data"
    }
   ],
   "source": [
    "sns.displot(data[data[\"연령대\"] == 40][\"배달_브랜드 서비스 사용일수\"])"
   ]
  },
  {
   "cell_type": "code",
   "execution_count": 46,
   "metadata": {},
   "outputs": [
    {
     "data": {
      "text/plain": [
       "<seaborn.axisgrid.FacetGrid at 0x243cb275130>"
      ]
     },
     "execution_count": 46,
     "metadata": {},
     "output_type": "execute_result"
    },
    {
     "data": {
      "image/png": "[encoded data removed]",
      "text/plain": [
       "<Figure size 360x360 with 1 Axes>"
      ]
     },
     "metadata": {
      "needs_background": "light"
     },
     "output_type": "display_data"
    }
   ],
   "source": [
    "sns.displot(data[data[\"연령대\"] == 50][\"배달_브랜드 서비스 사용일수\"])"
   ]
  },
  {
   "cell_type": "code",
   "execution_count": 47,
   "metadata": {},
   "outputs": [
    {
     "data": {
      "text/plain": [
       "<seaborn.axisgrid.FacetGrid at 0x243cc5ff730>"
      ]
     },
     "execution_count": 47,
     "metadata": {},
     "output_type": "execute_result"
    },
    {
     "data": {
      "image/png": "[encoded data removed]",
      "text/plain": [
       "<Figure size 360x360 with 1 Axes>"
      ]
     },
     "metadata": {
      "needs_background": "light"
     },
     "output_type": "display_data"
    }
   ],
   "source": [
    "sns.displot(data[data[\"연령대\"] == 60][\"배달_브랜드 서비스 사용일수\"])"
   ]
  },
  {
   "cell_type": "code",
   "execution_count": 48,
   "metadata": {},
   "outputs": [
    {
     "data": {
      "text/plain": [
       "<seaborn.axisgrid.FacetGrid at 0x243cc455760>"
      ]
     },
     "execution_count": 48,
     "metadata": {},
     "output_type": "execute_result"
    },
    {
     "data": {
      "image/png": "[encoded data removed]",
      "text/plain": [
       "<Figure size 360x360 with 1 Axes>"
      ]
     },
     "metadata": {
      "needs_background": "light"
     },
     "output_type": "display_data"
    }
   ],
   "source": [
    "sns.displot(data[data[\"연령대\"] == 20][\"배달_식재료 서비스 사용 미추정 인구수\"])"
   ]
  },
  {
   "cell_type": "code",
   "execution_count": 49,
   "metadata": {},
   "outputs": [
    {
     "data": {
      "text/plain": [
       "<seaborn.axisgrid.FacetGrid at 0x243cb220d90>"
      ]
     },
     "execution_count": 49,
     "metadata": {},
     "output_type": "execute_result"
    },
    {
     "data": {
      "image/png": "[encoded data removed]",
      "text/plain": [
       "<Figure size 360x360 with 1 Axes>"
      ]
     },
     "metadata": {
      "needs_background": "light"
     },
     "output_type": "display_data"
    }
   ],
   "source": [
    "sns.displot(data[data[\"연령대\"] == 30][\"배달_식재료 서비스 사용 미추정 인구수\"])"
   ]
  },
  {
   "cell_type": "code",
   "execution_count": 50,
   "metadata": {},
   "outputs": [
    {
     "data": {
      "text/plain": [
       "<seaborn.axisgrid.FacetGrid at 0x243cc5ca670>"
      ]
     },
     "execution_count": 50,
     "metadata": {},
     "output_type": "execute_result"
    },
    {
     "data": {
      "image/png": "[encoded data removed]",
      "text/plain": [
       "<Figure size 360x360 with 1 Axes>"
      ]
     },
     "metadata": {
      "needs_background": "light"
     },
     "output_type": "display_data"
    }
   ],
   "source": [
    "sns.displot(data[data[\"연령대\"] == 40][\"배달_식재료 서비스 사용 미추정 인구수\"])"
   ]
  },
  {
   "cell_type": "code",
   "execution_count": 51,
   "metadata": {},
   "outputs": [
    {
     "data": {
      "text/plain": [
       "<seaborn.axisgrid.FacetGrid at 0x243ccae8ac0>"
      ]
     },
     "execution_count": 51,
     "metadata": {},
     "output_type": "execute_result"
    },
    {
     "data": {
      "image/png": "[encoded data removed]",
      "text/plain": [
       "<Figure size 360x360 with 1 Axes>"
      ]
     },
     "metadata": {
      "needs_background": "light"
     },
     "output_type": "display_data"
    }
   ],
   "source": [
    "sns.displot(data[data[\"연령대\"] == 50][\"배달_식재료 서비스 사용 미추정 인구수\"])"
   ]
  },
  {
   "cell_type": "code",
   "execution_count": 52,
   "metadata": {},
   "outputs": [
    {
     "data": {
      "text/plain": [
       "<seaborn.axisgrid.FacetGrid at 0x243cc3c1bb0>"
      ]
     },
     "execution_count": 52,
     "metadata": {},
     "output_type": "execute_result"
    },
    {
     "data": {
      "image/png": "[encoded data removed]",
      "text/plain": [
       "<Figure size 360x360 with 1 Axes>"
      ]
     },
     "metadata": {
      "needs_background": "light"
     },
     "output_type": "display_data"
    }
   ],
   "source": [
    "sns.displot(data[data[\"연령대\"] == 60][\"배달_식재료 서비스 사용 미추정 인구수\"])"
   ]
  },
  {
   "cell_type": "code",
   "execution_count": 53,
   "metadata": {},
   "outputs": [
    {
     "data": {
      "text/plain": [
       "<seaborn.axisgrid.FacetGrid at 0x243cdc884c0>"
      ]
     },
     "execution_count": 53,
     "metadata": {},
     "output_type": "execute_result"
    },
    {
     "data": {
      "image/png": "[encoded data removed]",
      "text/plain": [
       "<Figure size 360x360 with 1 Axes>"
      ]
     },
     "metadata": {
      "needs_background": "light"
     },
     "output_type": "display_data"
    }
   ],
   "source": [
    "sns.displot(data[data[\"연령대\"] == 20][\"배달_식재료 서비스 사용일수\"])"
   ]
  },
  {
   "cell_type": "code",
   "execution_count": 54,
   "metadata": {},
   "outputs": [
    {
     "data": {
      "text/plain": [
       "<seaborn.axisgrid.FacetGrid at 0x243cca6f8b0>"
      ]
     },
     "execution_count": 54,
     "metadata": {},
     "output_type": "execute_result"
    },
    {
     "data": {
      "image/png": "[encoded data removed]",
      "text/plain": [
       "<Figure size 360x360 with 1 Axes>"
      ]
     },
     "metadata": {
      "needs_background": "light"
     },
     "output_type": "display_data"
    }
   ],
   "source": [
    "sns.displot(data[data[\"연령대\"] == 30][\"배달_식재료 서비스 사용일수\"])"
   ]
  },
  {
   "cell_type": "code",
   "execution_count": 55,
   "metadata": {},
   "outputs": [
    {
     "data": {
      "text/plain": [
       "<seaborn.axisgrid.FacetGrid at 0x243ccb4ffa0>"
      ]
     },
     "execution_count": 55,
     "metadata": {},
     "output_type": "execute_result"
    },
    {
     "data": {
      "image/png": "[encoded data removed]",
      "text/plain": [
       "<Figure size 360x360 with 1 Axes>"
      ]
     },
     "metadata": {
      "needs_background": "light"
     },
     "output_type": "display_data"
    }
   ],
   "source": [
    "sns.displot(data[data[\"연령대\"] == 40][\"배달_식재료 서비스 사용일수\"])"
   ]
  },
  {
   "cell_type": "code",
   "execution_count": 56,
   "metadata": {},
   "outputs": [
    {
     "data": {
      "text/plain": [
       "<seaborn.axisgrid.FacetGrid at 0x243cdd047c0>"
      ]
     },
     "execution_count": 56,
     "metadata": {},
     "output_type": "execute_result"
    },
    {
     "data": {
      "image/png": "[encoded data removed]",
      "text/plain": [
       "<Figure size 360x360 with 1 Axes>"
      ]
     },
     "metadata": {
      "needs_background": "light"
     },
     "output_type": "display_data"
    }
   ],
   "source": [
    "sns.displot(data[data[\"연령대\"] == 50][\"배달_식재료 서비스 사용일수\"])"
   ]
  },
  {
   "cell_type": "code",
   "execution_count": 57,
   "metadata": {},
   "outputs": [
    {
     "data": {
      "text/plain": [
       "<seaborn.axisgrid.FacetGrid at 0x243cdc95d60>"
      ]
     },
     "execution_count": 57,
     "metadata": {},
     "output_type": "execute_result"
    },
    {
     "data": {
      "image/png": "[encoded data removed]",
      "text/plain": [
       "<Figure size 360x360 with 1 Axes>"
      ]
     },
     "metadata": {
      "needs_background": "light"
     },
     "output_type": "display_data"
    }
   ],
   "source": [
    "sns.displot(data[data[\"연령대\"] == 60][\"배달_식재료 서비스 사용일수\"])"
   ]
  },
  {
   "cell_type": "code",
   "execution_count": 69,
   "metadata": {},
   "outputs": [
    {
     "data": {
      "text/html": [
       "<div>\n",
       "<style scoped>\n",
       "    .dataframe tbody tr th:only-of-type {\n",
       "        vertical-align: middle;\n",
       "    }\n",
       "\n",
       "    .dataframe tbody tr th {\n",
       "        vertical-align: top;\n",
       "    }\n",
       "\n",
       "    .dataframe thead th {\n",
       "        text-align: right;\n",
       "    }\n",
       "</style>\n",
       "<table border=\"1\" class=\"dataframe\">\n",
       "  <thead>\n",
       "    <tr style=\"text-align: right;\">\n",
       "      <th></th>\n",
       "      <th>연령대</th>\n",
       "      <th>배달 서비스 사용 미추정 인구수 mean</th>\n",
       "    </tr>\n",
       "  </thead>\n",
       "  <tbody>\n",
       "    <tr>\n",
       "      <th>0</th>\n",
       "      <td>20</td>\n",
       "      <td>301.501965</td>\n",
       "    </tr>\n",
       "    <tr>\n",
       "      <th>1</th>\n",
       "      <td>30</td>\n",
       "      <td>425.708333</td>\n",
       "    </tr>\n",
       "    <tr>\n",
       "      <th>2</th>\n",
       "      <td>40</td>\n",
       "      <td>861.435535</td>\n",
       "    </tr>\n",
       "    <tr>\n",
       "      <th>3</th>\n",
       "      <td>50</td>\n",
       "      <td>2069.152712</td>\n",
       "    </tr>\n",
       "    <tr>\n",
       "      <th>4</th>\n",
       "      <td>60</td>\n",
       "      <td>1387.863994</td>\n",
       "    </tr>\n",
       "  </tbody>\n",
       "</table>\n",
       "</div>"
      ],
      "text/plain": [
       "   연령대  배달 서비스 사용 미추정 인구수 mean\n",
       "0   20              301.501965\n",
       "1   30              425.708333\n",
       "2   40              861.435535\n",
       "3   50             2069.152712\n",
       "4   60             1387.863994"
      ]
     },
     "execution_count": 69,
     "metadata": {},
     "output_type": "execute_result"
    }
   ],
   "source": [
    "# 연령대 별 배달 서비스 사용 미추정 인구수 mean\n",
    "data.groupby('연령대')['배달 서비스 사용 미추정 인구수'].agg(**{'배달 서비스 사용 미추정 인구수 mean':'mean'}).reset_index() "
   ]
  },
  {
   "cell_type": "code",
   "execution_count": 70,
   "metadata": {},
   "outputs": [
    {
     "data": {
      "text/html": [
       "<div>\n",
       "<style scoped>\n",
       "    .dataframe tbody tr th:only-of-type {\n",
       "        vertical-align: middle;\n",
       "    }\n",
       "\n",
       "    .dataframe tbody tr th {\n",
       "        vertical-align: top;\n",
       "    }\n",
       "\n",
       "    .dataframe thead th {\n",
       "        text-align: right;\n",
       "    }\n",
       "</style>\n",
       "<table border=\"1\" class=\"dataframe\">\n",
       "  <thead>\n",
       "    <tr style=\"text-align: right;\">\n",
       "      <th></th>\n",
       "      <th>연령대</th>\n",
       "      <th>배달 서비스 사용 미추정 인구수 median</th>\n",
       "    </tr>\n",
       "  </thead>\n",
       "  <tbody>\n",
       "    <tr>\n",
       "      <th>0</th>\n",
       "      <td>20</td>\n",
       "      <td>284.0</td>\n",
       "    </tr>\n",
       "    <tr>\n",
       "      <th>1</th>\n",
       "      <td>30</td>\n",
       "      <td>403.0</td>\n",
       "    </tr>\n",
       "    <tr>\n",
       "      <th>2</th>\n",
       "      <td>40</td>\n",
       "      <td>820.0</td>\n",
       "    </tr>\n",
       "    <tr>\n",
       "      <th>3</th>\n",
       "      <td>50</td>\n",
       "      <td>2019.5</td>\n",
       "    </tr>\n",
       "    <tr>\n",
       "      <th>4</th>\n",
       "      <td>60</td>\n",
       "      <td>1308.0</td>\n",
       "    </tr>\n",
       "  </tbody>\n",
       "</table>\n",
       "</div>"
      ],
      "text/plain": [
       "   연령대  배달 서비스 사용 미추정 인구수 median\n",
       "0   20                     284.0\n",
       "1   30                     403.0\n",
       "2   40                     820.0\n",
       "3   50                    2019.5\n",
       "4   60                    1308.0"
      ]
     },
     "execution_count": 70,
     "metadata": {},
     "output_type": "execute_result"
    }
   ],
   "source": [
    "# 연령대 별 배달 서비스 사용 미추정 인구수 median\n",
    "data.groupby('연령대')['배달 서비스 사용 미추정 인구수'].agg(**{'배달 서비스 사용 미추정 인구수 median':'median'}).reset_index() "
   ]
  },
  {
   "cell_type": "code",
   "execution_count": 71,
   "metadata": {},
   "outputs": [
    {
     "data": {
      "text/html": [
       "<div>\n",
       "<style scoped>\n",
       "    .dataframe tbody tr th:only-of-type {\n",
       "        vertical-align: middle;\n",
       "    }\n",
       "\n",
       "    .dataframe tbody tr th {\n",
       "        vertical-align: top;\n",
       "    }\n",
       "\n",
       "    .dataframe thead th {\n",
       "        text-align: right;\n",
       "    }\n",
       "</style>\n",
       "<table border=\"1\" class=\"dataframe\">\n",
       "  <thead>\n",
       "    <tr style=\"text-align: right;\">\n",
       "      <th></th>\n",
       "      <th>연령대</th>\n",
       "      <th>배달 서비스 사용 미추정 인구수 std</th>\n",
       "    </tr>\n",
       "  </thead>\n",
       "  <tbody>\n",
       "    <tr>\n",
       "      <th>0</th>\n",
       "      <td>20</td>\n",
       "      <td>143.430060</td>\n",
       "    </tr>\n",
       "    <tr>\n",
       "      <th>1</th>\n",
       "      <td>30</td>\n",
       "      <td>198.939799</td>\n",
       "    </tr>\n",
       "    <tr>\n",
       "      <th>2</th>\n",
       "      <td>40</td>\n",
       "      <td>378.565855</td>\n",
       "    </tr>\n",
       "    <tr>\n",
       "      <th>3</th>\n",
       "      <td>50</td>\n",
       "      <td>831.463983</td>\n",
       "    </tr>\n",
       "    <tr>\n",
       "      <th>4</th>\n",
       "      <td>60</td>\n",
       "      <td>578.618515</td>\n",
       "    </tr>\n",
       "  </tbody>\n",
       "</table>\n",
       "</div>"
      ],
      "text/plain": [
       "   연령대  배달 서비스 사용 미추정 인구수 std\n",
       "0   20             143.430060\n",
       "1   30             198.939799\n",
       "2   40             378.565855\n",
       "3   50             831.463983\n",
       "4   60             578.618515"
      ]
     },
     "execution_count": 71,
     "metadata": {},
     "output_type": "execute_result"
    }
   ],
   "source": [
    "# 연령대 별 배달 서비스 사용 미추정 인구수 std\n",
    "data.groupby('연령대')['배달 서비스 사용 미추정 인구수'].agg(**{'배달 서비스 사용 미추정 인구수 std':'std'}).reset_index() "
   ]
  },
  {
   "cell_type": "code",
   "execution_count": 72,
   "metadata": {},
   "outputs": [
    {
     "data": {
      "text/html": [
       "<div>\n",
       "<style scoped>\n",
       "    .dataframe tbody tr th:only-of-type {\n",
       "        vertical-align: middle;\n",
       "    }\n",
       "\n",
       "    .dataframe tbody tr th {\n",
       "        vertical-align: top;\n",
       "    }\n",
       "\n",
       "    .dataframe thead th {\n",
       "        text-align: right;\n",
       "    }\n",
       "</style>\n",
       "<table border=\"1\" class=\"dataframe\">\n",
       "  <thead>\n",
       "    <tr style=\"text-align: right;\">\n",
       "      <th></th>\n",
       "      <th>연령대</th>\n",
       "      <th>배달 서비스 사용일수 mean</th>\n",
       "    </tr>\n",
       "  </thead>\n",
       "  <tbody>\n",
       "    <tr>\n",
       "      <th>0</th>\n",
       "      <td>20</td>\n",
       "      <td>27.998487</td>\n",
       "    </tr>\n",
       "    <tr>\n",
       "      <th>1</th>\n",
       "      <td>30</td>\n",
       "      <td>28.755169</td>\n",
       "    </tr>\n",
       "    <tr>\n",
       "      <th>2</th>\n",
       "      <td>40</td>\n",
       "      <td>21.535358</td>\n",
       "    </tr>\n",
       "    <tr>\n",
       "      <th>3</th>\n",
       "      <td>50</td>\n",
       "      <td>22.707272</td>\n",
       "    </tr>\n",
       "    <tr>\n",
       "      <th>4</th>\n",
       "      <td>60</td>\n",
       "      <td>22.929855</td>\n",
       "    </tr>\n",
       "  </tbody>\n",
       "</table>\n",
       "</div>"
      ],
      "text/plain": [
       "   연령대  배달 서비스 사용일수 mean\n",
       "0   20         27.998487\n",
       "1   30         28.755169\n",
       "2   40         21.535358\n",
       "3   50         22.707272\n",
       "4   60         22.929855"
      ]
     },
     "execution_count": 72,
     "metadata": {},
     "output_type": "execute_result"
    }
   ],
   "source": [
    "# 연령대 별 배달 서비스 사용일수 mean\n",
    "data.groupby('연령대')['배달 서비스 사용일수'].agg(**{'배달 서비스 사용일수 mean':'mean'}).reset_index() "
   ]
  },
  {
   "cell_type": "code",
   "execution_count": 73,
   "metadata": {},
   "outputs": [
    {
     "data": {
      "text/html": [
       "<div>\n",
       "<style scoped>\n",
       "    .dataframe tbody tr th:only-of-type {\n",
       "        vertical-align: middle;\n",
       "    }\n",
       "\n",
       "    .dataframe tbody tr th {\n",
       "        vertical-align: top;\n",
       "    }\n",
       "\n",
       "    .dataframe thead th {\n",
       "        text-align: right;\n",
       "    }\n",
       "</style>\n",
       "<table border=\"1\" class=\"dataframe\">\n",
       "  <thead>\n",
       "    <tr style=\"text-align: right;\">\n",
       "      <th></th>\n",
       "      <th>연령대</th>\n",
       "      <th>배달 서비스 사용일수 median</th>\n",
       "    </tr>\n",
       "  </thead>\n",
       "  <tbody>\n",
       "    <tr>\n",
       "      <th>0</th>\n",
       "      <td>20</td>\n",
       "      <td>28.0</td>\n",
       "    </tr>\n",
       "    <tr>\n",
       "      <th>1</th>\n",
       "      <td>30</td>\n",
       "      <td>28.8</td>\n",
       "    </tr>\n",
       "    <tr>\n",
       "      <th>2</th>\n",
       "      <td>40</td>\n",
       "      <td>21.4</td>\n",
       "    </tr>\n",
       "    <tr>\n",
       "      <th>3</th>\n",
       "      <td>50</td>\n",
       "      <td>22.5</td>\n",
       "    </tr>\n",
       "    <tr>\n",
       "      <th>4</th>\n",
       "      <td>60</td>\n",
       "      <td>22.3</td>\n",
       "    </tr>\n",
       "  </tbody>\n",
       "</table>\n",
       "</div>"
      ],
      "text/plain": [
       "   연령대  배달 서비스 사용일수 median\n",
       "0   20                28.0\n",
       "1   30                28.8\n",
       "2   40                21.4\n",
       "3   50                22.5\n",
       "4   60                22.3"
      ]
     },
     "execution_count": 73,
     "metadata": {},
     "output_type": "execute_result"
    }
   ],
   "source": [
    "# 연령대 별 배달 서비스 사용일수 median\n",
    "data.groupby('연령대')['배달 서비스 사용일수'].agg(**{'배달 서비스 사용일수 median':'median'}).reset_index() "
   ]
  },
  {
   "cell_type": "code",
   "execution_count": 74,
   "metadata": {},
   "outputs": [
    {
     "data": {
      "text/html": [
       "<div>\n",
       "<style scoped>\n",
       "    .dataframe tbody tr th:only-of-type {\n",
       "        vertical-align: middle;\n",
       "    }\n",
       "\n",
       "    .dataframe tbody tr th {\n",
       "        vertical-align: top;\n",
       "    }\n",
       "\n",
       "    .dataframe thead th {\n",
       "        text-align: right;\n",
       "    }\n",
       "</style>\n",
       "<table border=\"1\" class=\"dataframe\">\n",
       "  <thead>\n",
       "    <tr style=\"text-align: right;\">\n",
       "      <th></th>\n",
       "      <th>연령대</th>\n",
       "      <th>배달 서비스 사용일수 std</th>\n",
       "    </tr>\n",
       "  </thead>\n",
       "  <tbody>\n",
       "    <tr>\n",
       "      <th>0</th>\n",
       "      <td>20</td>\n",
       "      <td>3.540113</td>\n",
       "    </tr>\n",
       "    <tr>\n",
       "      <th>1</th>\n",
       "      <td>30</td>\n",
       "      <td>3.342268</td>\n",
       "    </tr>\n",
       "    <tr>\n",
       "      <th>2</th>\n",
       "      <td>40</td>\n",
       "      <td>2.507290</td>\n",
       "    </tr>\n",
       "    <tr>\n",
       "      <th>3</th>\n",
       "      <td>50</td>\n",
       "      <td>3.254848</td>\n",
       "    </tr>\n",
       "    <tr>\n",
       "      <th>4</th>\n",
       "      <td>60</td>\n",
       "      <td>7.848418</td>\n",
       "    </tr>\n",
       "  </tbody>\n",
       "</table>\n",
       "</div>"
      ],
      "text/plain": [
       "   연령대  배달 서비스 사용일수 std\n",
       "0   20         3.540113\n",
       "1   30         3.342268\n",
       "2   40         2.507290\n",
       "3   50         3.254848\n",
       "4   60         7.848418"
      ]
     },
     "execution_count": 74,
     "metadata": {},
     "output_type": "execute_result"
    }
   ],
   "source": [
    "# 연령대 별 배달 서비스 사용일수 std\n",
    "data.groupby('연령대')['배달 서비스 사용일수'].agg(**{'배달 서비스 사용일수 std':'std'}).reset_index() "
   ]
  },
  {
   "cell_type": "code",
   "execution_count": 75,
   "metadata": {},
   "outputs": [
    {
     "data": {
      "text/html": [
       "<div>\n",
       "<style scoped>\n",
       "    .dataframe tbody tr th:only-of-type {\n",
       "        vertical-align: middle;\n",
       "    }\n",
       "\n",
       "    .dataframe tbody tr th {\n",
       "        vertical-align: top;\n",
       "    }\n",
       "\n",
       "    .dataframe thead th {\n",
       "        text-align: right;\n",
       "    }\n",
       "</style>\n",
       "<table border=\"1\" class=\"dataframe\">\n",
       "  <thead>\n",
       "    <tr style=\"text-align: right;\">\n",
       "      <th></th>\n",
       "      <th>연령대</th>\n",
       "      <th>배달_브랜드 서비스 사용 미추정 인구수 mean</th>\n",
       "    </tr>\n",
       "  </thead>\n",
       "  <tbody>\n",
       "    <tr>\n",
       "      <th>0</th>\n",
       "      <td>20</td>\n",
       "      <td>1569.071934</td>\n",
       "    </tr>\n",
       "    <tr>\n",
       "      <th>1</th>\n",
       "      <td>30</td>\n",
       "      <td>1685.939858</td>\n",
       "    </tr>\n",
       "    <tr>\n",
       "      <th>2</th>\n",
       "      <td>40</td>\n",
       "      <td>1768.196148</td>\n",
       "    </tr>\n",
       "    <tr>\n",
       "      <th>3</th>\n",
       "      <td>50</td>\n",
       "      <td>2502.216588</td>\n",
       "    </tr>\n",
       "    <tr>\n",
       "      <th>4</th>\n",
       "      <td>60</td>\n",
       "      <td>1428.839623</td>\n",
       "    </tr>\n",
       "  </tbody>\n",
       "</table>\n",
       "</div>"
      ],
      "text/plain": [
       "   연령대  배달_브랜드 서비스 사용 미추정 인구수 mean\n",
       "0   20                 1569.071934\n",
       "1   30                 1685.939858\n",
       "2   40                 1768.196148\n",
       "3   50                 2502.216588\n",
       "4   60                 1428.839623"
      ]
     },
     "execution_count": 75,
     "metadata": {},
     "output_type": "execute_result"
    }
   ],
   "source": [
    "# 연령대 별 배달_브랜드 서비스 사용 미추정 인구수 mean\n",
    "data.groupby('연령대')['배달_브랜드 서비스 사용 미추정 인구수'].agg(**{'배달_브랜드 서비스 사용 미추정 인구수 mean':'mean'}).reset_index() "
   ]
  },
  {
   "cell_type": "code",
   "execution_count": 76,
   "metadata": {},
   "outputs": [
    {
     "data": {
      "text/html": [
       "<div>\n",
       "<style scoped>\n",
       "    .dataframe tbody tr th:only-of-type {\n",
       "        vertical-align: middle;\n",
       "    }\n",
       "\n",
       "    .dataframe tbody tr th {\n",
       "        vertical-align: top;\n",
       "    }\n",
       "\n",
       "    .dataframe thead th {\n",
       "        text-align: right;\n",
       "    }\n",
       "</style>\n",
       "<table border=\"1\" class=\"dataframe\">\n",
       "  <thead>\n",
       "    <tr style=\"text-align: right;\">\n",
       "      <th></th>\n",
       "      <th>연령대</th>\n",
       "      <th>배달_브랜드 서비스 사용 미추정 인구수 median</th>\n",
       "    </tr>\n",
       "  </thead>\n",
       "  <tbody>\n",
       "    <tr>\n",
       "      <th>0</th>\n",
       "      <td>20</td>\n",
       "      <td>1461.0</td>\n",
       "    </tr>\n",
       "    <tr>\n",
       "      <th>1</th>\n",
       "      <td>30</td>\n",
       "      <td>1603.0</td>\n",
       "    </tr>\n",
       "    <tr>\n",
       "      <th>2</th>\n",
       "      <td>40</td>\n",
       "      <td>1677.0</td>\n",
       "    </tr>\n",
       "    <tr>\n",
       "      <th>3</th>\n",
       "      <td>50</td>\n",
       "      <td>2457.0</td>\n",
       "    </tr>\n",
       "    <tr>\n",
       "      <th>4</th>\n",
       "      <td>60</td>\n",
       "      <td>1351.0</td>\n",
       "    </tr>\n",
       "  </tbody>\n",
       "</table>\n",
       "</div>"
      ],
      "text/plain": [
       "   연령대  배달_브랜드 서비스 사용 미추정 인구수 median\n",
       "0   20                        1461.0\n",
       "1   30                        1603.0\n",
       "2   40                        1677.0\n",
       "3   50                        2457.0\n",
       "4   60                        1351.0"
      ]
     },
     "execution_count": 76,
     "metadata": {},
     "output_type": "execute_result"
    }
   ],
   "source": [
    "# 연령대 별 배달_브랜드 서비스 사용 미추정 인구수 median\n",
    "data.groupby('연령대')['배달_브랜드 서비스 사용 미추정 인구수'].agg(**{'배달_브랜드 서비스 사용 미추정 인구수 median':'median'}).reset_index() "
   ]
  },
  {
   "cell_type": "code",
   "execution_count": 77,
   "metadata": {},
   "outputs": [
    {
     "data": {
      "text/html": [
       "<div>\n",
       "<style scoped>\n",
       "    .dataframe tbody tr th:only-of-type {\n",
       "        vertical-align: middle;\n",
       "    }\n",
       "\n",
       "    .dataframe tbody tr th {\n",
       "        vertical-align: top;\n",
       "    }\n",
       "\n",
       "    .dataframe thead th {\n",
       "        text-align: right;\n",
       "    }\n",
       "</style>\n",
       "<table border=\"1\" class=\"dataframe\">\n",
       "  <thead>\n",
       "    <tr style=\"text-align: right;\">\n",
       "      <th></th>\n",
       "      <th>연령대</th>\n",
       "      <th>배달_브랜드 서비스 사용 미추정 인구수 std</th>\n",
       "    </tr>\n",
       "  </thead>\n",
       "  <tbody>\n",
       "    <tr>\n",
       "      <th>0</th>\n",
       "      <td>20</td>\n",
       "      <td>759.347862</td>\n",
       "    </tr>\n",
       "    <tr>\n",
       "      <th>1</th>\n",
       "      <td>30</td>\n",
       "      <td>744.795306</td>\n",
       "    </tr>\n",
       "    <tr>\n",
       "      <th>2</th>\n",
       "      <td>40</td>\n",
       "      <td>751.540618</td>\n",
       "    </tr>\n",
       "    <tr>\n",
       "      <th>3</th>\n",
       "      <td>50</td>\n",
       "      <td>984.755964</td>\n",
       "    </tr>\n",
       "    <tr>\n",
       "      <th>4</th>\n",
       "      <td>60</td>\n",
       "      <td>592.829273</td>\n",
       "    </tr>\n",
       "  </tbody>\n",
       "</table>\n",
       "</div>"
      ],
      "text/plain": [
       "   연령대  배달_브랜드 서비스 사용 미추정 인구수 std\n",
       "0   20                 759.347862\n",
       "1   30                 744.795306\n",
       "2   40                 751.540618\n",
       "3   50                 984.755964\n",
       "4   60                 592.829273"
      ]
     },
     "execution_count": 77,
     "metadata": {},
     "output_type": "execute_result"
    }
   ],
   "source": [
    "# 연령대 별 배달_브랜드 서비스 사용 미추정 인구수 std\n",
    "data.groupby('연령대')['배달_브랜드 서비스 사용 미추정 인구수'].agg(**{'배달_브랜드 서비스 사용 미추정 인구수 std':'std'}).reset_index() "
   ]
  },
  {
   "cell_type": "code",
   "execution_count": 78,
   "metadata": {},
   "outputs": [
    {
     "data": {
      "text/html": [
       "<div>\n",
       "<style scoped>\n",
       "    .dataframe tbody tr th:only-of-type {\n",
       "        vertical-align: middle;\n",
       "    }\n",
       "\n",
       "    .dataframe tbody tr th {\n",
       "        vertical-align: top;\n",
       "    }\n",
       "\n",
       "    .dataframe thead th {\n",
       "        text-align: right;\n",
       "    }\n",
       "</style>\n",
       "<table border=\"1\" class=\"dataframe\">\n",
       "  <thead>\n",
       "    <tr style=\"text-align: right;\">\n",
       "      <th></th>\n",
       "      <th>연령대</th>\n",
       "      <th>배달_브랜드 서비스 사용일수 mean</th>\n",
       "    </tr>\n",
       "  </thead>\n",
       "  <tbody>\n",
       "    <tr>\n",
       "      <th>0</th>\n",
       "      <td>20</td>\n",
       "      <td>6.402634</td>\n",
       "    </tr>\n",
       "    <tr>\n",
       "      <th>1</th>\n",
       "      <td>30</td>\n",
       "      <td>7.343534</td>\n",
       "    </tr>\n",
       "    <tr>\n",
       "      <th>2</th>\n",
       "      <td>40</td>\n",
       "      <td>7.530149</td>\n",
       "    </tr>\n",
       "    <tr>\n",
       "      <th>3</th>\n",
       "      <td>50</td>\n",
       "      <td>9.953204</td>\n",
       "    </tr>\n",
       "    <tr>\n",
       "      <th>4</th>\n",
       "      <td>60</td>\n",
       "      <td>5.740645</td>\n",
       "    </tr>\n",
       "  </tbody>\n",
       "</table>\n",
       "</div>"
      ],
      "text/plain": [
       "   연령대  배달_브랜드 서비스 사용일수 mean\n",
       "0   20              6.402634\n",
       "1   30              7.343534\n",
       "2   40              7.530149\n",
       "3   50              9.953204\n",
       "4   60              5.740645"
      ]
     },
     "execution_count": 78,
     "metadata": {},
     "output_type": "execute_result"
    }
   ],
   "source": [
    "# 연령대 별 배달_브랜드 서비스 사용일수 mean\n",
    "data.groupby('연령대')['배달_브랜드 서비스 사용일수'].agg(**{'배달_브랜드 서비스 사용일수 mean':'mean'}).reset_index() "
   ]
  },
  {
   "cell_type": "code",
   "execution_count": 79,
   "metadata": {},
   "outputs": [
    {
     "data": {
      "text/html": [
       "<div>\n",
       "<style scoped>\n",
       "    .dataframe tbody tr th:only-of-type {\n",
       "        vertical-align: middle;\n",
       "    }\n",
       "\n",
       "    .dataframe tbody tr th {\n",
       "        vertical-align: top;\n",
       "    }\n",
       "\n",
       "    .dataframe thead th {\n",
       "        text-align: right;\n",
       "    }\n",
       "</style>\n",
       "<table border=\"1\" class=\"dataframe\">\n",
       "  <thead>\n",
       "    <tr style=\"text-align: right;\">\n",
       "      <th></th>\n",
       "      <th>연령대</th>\n",
       "      <th>배달_브랜드 서비스 사용일수 median</th>\n",
       "    </tr>\n",
       "  </thead>\n",
       "  <tbody>\n",
       "    <tr>\n",
       "      <th>0</th>\n",
       "      <td>20</td>\n",
       "      <td>6.4</td>\n",
       "    </tr>\n",
       "    <tr>\n",
       "      <th>1</th>\n",
       "      <td>30</td>\n",
       "      <td>7.3</td>\n",
       "    </tr>\n",
       "    <tr>\n",
       "      <th>2</th>\n",
       "      <td>40</td>\n",
       "      <td>7.5</td>\n",
       "    </tr>\n",
       "    <tr>\n",
       "      <th>3</th>\n",
       "      <td>50</td>\n",
       "      <td>9.8</td>\n",
       "    </tr>\n",
       "    <tr>\n",
       "      <th>4</th>\n",
       "      <td>60</td>\n",
       "      <td>5.0</td>\n",
       "    </tr>\n",
       "  </tbody>\n",
       "</table>\n",
       "</div>"
      ],
      "text/plain": [
       "   연령대  배달_브랜드 서비스 사용일수 median\n",
       "0   20                     6.4\n",
       "1   30                     7.3\n",
       "2   40                     7.5\n",
       "3   50                     9.8\n",
       "4   60                     5.0"
      ]
     },
     "execution_count": 79,
     "metadata": {},
     "output_type": "execute_result"
    }
   ],
   "source": [
    "# 연령대 별 배달_브랜드 서비스 사용일수 median\n",
    "data.groupby('연령대')['배달_브랜드 서비스 사용일수'].agg(**{'배달_브랜드 서비스 사용일수 median':'median'}).reset_index() "
   ]
  },
  {
   "cell_type": "code",
   "execution_count": 80,
   "metadata": {},
   "outputs": [
    {
     "data": {
      "text/html": [
       "<div>\n",
       "<style scoped>\n",
       "    .dataframe tbody tr th:only-of-type {\n",
       "        vertical-align: middle;\n",
       "    }\n",
       "\n",
       "    .dataframe tbody tr th {\n",
       "        vertical-align: top;\n",
       "    }\n",
       "\n",
       "    .dataframe thead th {\n",
       "        text-align: right;\n",
       "    }\n",
       "</style>\n",
       "<table border=\"1\" class=\"dataframe\">\n",
       "  <thead>\n",
       "    <tr style=\"text-align: right;\">\n",
       "      <th></th>\n",
       "      <th>연령대</th>\n",
       "      <th>배달_브랜드 서비스 사용일수 std</th>\n",
       "    </tr>\n",
       "  </thead>\n",
       "  <tbody>\n",
       "    <tr>\n",
       "      <th>0</th>\n",
       "      <td>20</td>\n",
       "      <td>1.163484</td>\n",
       "    </tr>\n",
       "    <tr>\n",
       "      <th>1</th>\n",
       "      <td>30</td>\n",
       "      <td>1.285843</td>\n",
       "    </tr>\n",
       "    <tr>\n",
       "      <th>2</th>\n",
       "      <td>40</td>\n",
       "      <td>1.394277</td>\n",
       "    </tr>\n",
       "    <tr>\n",
       "      <th>3</th>\n",
       "      <td>50</td>\n",
       "      <td>2.792812</td>\n",
       "    </tr>\n",
       "    <tr>\n",
       "      <th>4</th>\n",
       "      <td>60</td>\n",
       "      <td>4.021381</td>\n",
       "    </tr>\n",
       "  </tbody>\n",
       "</table>\n",
       "</div>"
      ],
      "text/plain": [
       "   연령대  배달_브랜드 서비스 사용일수 std\n",
       "0   20             1.163484\n",
       "1   30             1.285843\n",
       "2   40             1.394277\n",
       "3   50             2.792812\n",
       "4   60             4.021381"
      ]
     },
     "execution_count": 80,
     "metadata": {},
     "output_type": "execute_result"
    }
   ],
   "source": [
    "# 연령대 별 배달_브랜드 서비스 사용일수 std\n",
    "data.groupby('연령대')['배달_브랜드 서비스 사용일수'].agg(**{'배달_브랜드 서비스 사용일수 std':'std'}).reset_index() "
   ]
  },
  {
   "cell_type": "code",
   "execution_count": 84,
   "metadata": {},
   "outputs": [
    {
     "data": {
      "text/html": [
       "<div>\n",
       "<style scoped>\n",
       "    .dataframe tbody tr th:only-of-type {\n",
       "        vertical-align: middle;\n",
       "    }\n",
       "\n",
       "    .dataframe tbody tr th {\n",
       "        vertical-align: top;\n",
       "    }\n",
       "\n",
       "    .dataframe thead th {\n",
       "        text-align: right;\n",
       "    }\n",
       "</style>\n",
       "<table border=\"1\" class=\"dataframe\">\n",
       "  <thead>\n",
       "    <tr style=\"text-align: right;\">\n",
       "      <th></th>\n",
       "      <th>연령대</th>\n",
       "      <th>배달_식재료 서비스 사용 미추정 인구수 mean</th>\n",
       "    </tr>\n",
       "  </thead>\n",
       "  <tbody>\n",
       "    <tr>\n",
       "      <th>0</th>\n",
       "      <td>20</td>\n",
       "      <td>1691.786164</td>\n",
       "    </tr>\n",
       "    <tr>\n",
       "      <th>1</th>\n",
       "      <td>30</td>\n",
       "      <td>1883.841588</td>\n",
       "    </tr>\n",
       "    <tr>\n",
       "      <th>2</th>\n",
       "      <td>40</td>\n",
       "      <td>1926.010024</td>\n",
       "    </tr>\n",
       "    <tr>\n",
       "      <th>3</th>\n",
       "      <td>50</td>\n",
       "      <td>2544.676297</td>\n",
       "    </tr>\n",
       "    <tr>\n",
       "      <th>4</th>\n",
       "      <td>60</td>\n",
       "      <td>1429.861832</td>\n",
       "    </tr>\n",
       "  </tbody>\n",
       "</table>\n",
       "</div>"
      ],
      "text/plain": [
       "   연령대  배달_식재료 서비스 사용 미추정 인구수 mean\n",
       "0   20                 1691.786164\n",
       "1   30                 1883.841588\n",
       "2   40                 1926.010024\n",
       "3   50                 2544.676297\n",
       "4   60                 1429.861832"
      ]
     },
     "execution_count": 84,
     "metadata": {},
     "output_type": "execute_result"
    }
   ],
   "source": [
    "# 연령대 별 배달_식재료 서비스 사용 미추정 인구수 mean\n",
    "data.groupby('연령대')['배달_식재료 서비스 사용 미추정 인구수'].agg(**{'배달_식재료 서비스 사용 미추정 인구수 mean':'mean'}).reset_index() "
   ]
  },
  {
   "cell_type": "code",
   "execution_count": 85,
   "metadata": {},
   "outputs": [
    {
     "data": {
      "text/html": [
       "<div>\n",
       "<style scoped>\n",
       "    .dataframe tbody tr th:only-of-type {\n",
       "        vertical-align: middle;\n",
       "    }\n",
       "\n",
       "    .dataframe tbody tr th {\n",
       "        vertical-align: top;\n",
       "    }\n",
       "\n",
       "    .dataframe thead th {\n",
       "        text-align: right;\n",
       "    }\n",
       "</style>\n",
       "<table border=\"1\" class=\"dataframe\">\n",
       "  <thead>\n",
       "    <tr style=\"text-align: right;\">\n",
       "      <th></th>\n",
       "      <th>연령대</th>\n",
       "      <th>배달_식재료 서비스 사용 미추정 인구수 median</th>\n",
       "    </tr>\n",
       "  </thead>\n",
       "  <tbody>\n",
       "    <tr>\n",
       "      <th>0</th>\n",
       "      <td>20</td>\n",
       "      <td>1595.5</td>\n",
       "    </tr>\n",
       "    <tr>\n",
       "      <th>1</th>\n",
       "      <td>30</td>\n",
       "      <td>1792.0</td>\n",
       "    </tr>\n",
       "    <tr>\n",
       "      <th>2</th>\n",
       "      <td>40</td>\n",
       "      <td>1817.5</td>\n",
       "    </tr>\n",
       "    <tr>\n",
       "      <th>3</th>\n",
       "      <td>50</td>\n",
       "      <td>2502.0</td>\n",
       "    </tr>\n",
       "    <tr>\n",
       "      <th>4</th>\n",
       "      <td>60</td>\n",
       "      <td>1352.5</td>\n",
       "    </tr>\n",
       "  </tbody>\n",
       "</table>\n",
       "</div>"
      ],
      "text/plain": [
       "   연령대  배달_식재료 서비스 사용 미추정 인구수 median\n",
       "0   20                        1595.5\n",
       "1   30                        1792.0\n",
       "2   40                        1817.5\n",
       "3   50                        2502.0\n",
       "4   60                        1352.5"
      ]
     },
     "execution_count": 85,
     "metadata": {},
     "output_type": "execute_result"
    }
   ],
   "source": [
    "# 연령대 별 배달_식재료 서비스 사용 미추정 인구수 median\n",
    "data.groupby('연령대')['배달_식재료 서비스 사용 미추정 인구수'].agg(**{'배달_식재료 서비스 사용 미추정 인구수 median':'median'}).reset_index() "
   ]
  },
  {
   "cell_type": "code",
   "execution_count": 86,
   "metadata": {},
   "outputs": [
    {
     "data": {
      "text/html": [
       "<div>\n",
       "<style scoped>\n",
       "    .dataframe tbody tr th:only-of-type {\n",
       "        vertical-align: middle;\n",
       "    }\n",
       "\n",
       "    .dataframe tbody tr th {\n",
       "        vertical-align: top;\n",
       "    }\n",
       "\n",
       "    .dataframe thead th {\n",
       "        text-align: right;\n",
       "    }\n",
       "</style>\n",
       "<table border=\"1\" class=\"dataframe\">\n",
       "  <thead>\n",
       "    <tr style=\"text-align: right;\">\n",
       "      <th></th>\n",
       "      <th>연령대</th>\n",
       "      <th>배달_식재료 서비스 사용 미추정 인구수 std</th>\n",
       "    </tr>\n",
       "  </thead>\n",
       "  <tbody>\n",
       "    <tr>\n",
       "      <th>0</th>\n",
       "      <td>20</td>\n",
       "      <td>815.986207</td>\n",
       "    </tr>\n",
       "    <tr>\n",
       "      <th>1</th>\n",
       "      <td>30</td>\n",
       "      <td>830.114237</td>\n",
       "    </tr>\n",
       "    <tr>\n",
       "      <th>2</th>\n",
       "      <td>40</td>\n",
       "      <td>821.069566</td>\n",
       "    </tr>\n",
       "    <tr>\n",
       "      <th>3</th>\n",
       "      <td>50</td>\n",
       "      <td>997.677742</td>\n",
       "    </tr>\n",
       "    <tr>\n",
       "      <th>4</th>\n",
       "      <td>60</td>\n",
       "      <td>592.763127</td>\n",
       "    </tr>\n",
       "  </tbody>\n",
       "</table>\n",
       "</div>"
      ],
      "text/plain": [
       "   연령대  배달_식재료 서비스 사용 미추정 인구수 std\n",
       "0   20                 815.986207\n",
       "1   30                 830.114237\n",
       "2   40                 821.069566\n",
       "3   50                 997.677742\n",
       "4   60                 592.763127"
      ]
     },
     "execution_count": 86,
     "metadata": {},
     "output_type": "execute_result"
    }
   ],
   "source": [
    "# 연령대 별 배달_식재료 서비스 사용 미추정 인구수 std\n",
    "data.groupby('연령대')['배달_식재료 서비스 사용 미추정 인구수'].agg(**{'배달_식재료 서비스 사용 미추정 인구수 std':'std'}).reset_index() "
   ]
  },
  {
   "cell_type": "code",
   "execution_count": 87,
   "metadata": {},
   "outputs": [
    {
     "data": {
      "text/html": [
       "<div>\n",
       "<style scoped>\n",
       "    .dataframe tbody tr th:only-of-type {\n",
       "        vertical-align: middle;\n",
       "    }\n",
       "\n",
       "    .dataframe tbody tr th {\n",
       "        vertical-align: top;\n",
       "    }\n",
       "\n",
       "    .dataframe thead th {\n",
       "        text-align: right;\n",
       "    }\n",
       "</style>\n",
       "<table border=\"1\" class=\"dataframe\">\n",
       "  <thead>\n",
       "    <tr style=\"text-align: right;\">\n",
       "      <th></th>\n",
       "      <th>연령대</th>\n",
       "      <th>배달_식재료 서비스 사용일수 mean</th>\n",
       "    </tr>\n",
       "  </thead>\n",
       "  <tbody>\n",
       "    <tr>\n",
       "      <th>0</th>\n",
       "      <td>20</td>\n",
       "      <td>3.229599</td>\n",
       "    </tr>\n",
       "    <tr>\n",
       "      <th>1</th>\n",
       "      <td>30</td>\n",
       "      <td>3.356899</td>\n",
       "    </tr>\n",
       "    <tr>\n",
       "      <th>2</th>\n",
       "      <td>40</td>\n",
       "      <td>3.297425</td>\n",
       "    </tr>\n",
       "    <tr>\n",
       "      <th>3</th>\n",
       "      <td>50</td>\n",
       "      <td>4.415723</td>\n",
       "    </tr>\n",
       "    <tr>\n",
       "      <th>4</th>\n",
       "      <td>60</td>\n",
       "      <td>2.413011</td>\n",
       "    </tr>\n",
       "  </tbody>\n",
       "</table>\n",
       "</div>"
      ],
      "text/plain": [
       "   연령대  배달_식재료 서비스 사용일수 mean\n",
       "0   20              3.229599\n",
       "1   30              3.356899\n",
       "2   40              3.297425\n",
       "3   50              4.415723\n",
       "4   60              2.413011"
      ]
     },
     "execution_count": 87,
     "metadata": {},
     "output_type": "execute_result"
    }
   ],
   "source": [
    "# 연령대 별 배달_식재료 서비스 사용일수 mean\n",
    "data.groupby('연령대')['배달_식재료 서비스 사용일수'].agg(**{'배달_식재료 서비스 사용일수 mean':'mean'}).reset_index() "
   ]
  },
  {
   "cell_type": "code",
   "execution_count": 88,
   "metadata": {},
   "outputs": [
    {
     "data": {
      "text/html": [
       "<div>\n",
       "<style scoped>\n",
       "    .dataframe tbody tr th:only-of-type {\n",
       "        vertical-align: middle;\n",
       "    }\n",
       "\n",
       "    .dataframe tbody tr th {\n",
       "        vertical-align: top;\n",
       "    }\n",
       "\n",
       "    .dataframe thead th {\n",
       "        text-align: right;\n",
       "    }\n",
       "</style>\n",
       "<table border=\"1\" class=\"dataframe\">\n",
       "  <thead>\n",
       "    <tr style=\"text-align: right;\">\n",
       "      <th></th>\n",
       "      <th>연령대</th>\n",
       "      <th>배달_식재료 서비스 사용일수 median</th>\n",
       "    </tr>\n",
       "  </thead>\n",
       "  <tbody>\n",
       "    <tr>\n",
       "      <th>0</th>\n",
       "      <td>20</td>\n",
       "      <td>3.4</td>\n",
       "    </tr>\n",
       "    <tr>\n",
       "      <th>1</th>\n",
       "      <td>30</td>\n",
       "      <td>3.4</td>\n",
       "    </tr>\n",
       "    <tr>\n",
       "      <th>2</th>\n",
       "      <td>40</td>\n",
       "      <td>3.4</td>\n",
       "    </tr>\n",
       "    <tr>\n",
       "      <th>3</th>\n",
       "      <td>50</td>\n",
       "      <td>5.1</td>\n",
       "    </tr>\n",
       "    <tr>\n",
       "      <th>4</th>\n",
       "      <td>60</td>\n",
       "      <td>1.7</td>\n",
       "    </tr>\n",
       "  </tbody>\n",
       "</table>\n",
       "</div>"
      ],
      "text/plain": [
       "   연령대  배달_식재료 서비스 사용일수 median\n",
       "0   20                     3.4\n",
       "1   30                     3.4\n",
       "2   40                     3.4\n",
       "3   50                     5.1\n",
       "4   60                     1.7"
      ]
     },
     "execution_count": 88,
     "metadata": {},
     "output_type": "execute_result"
    }
   ],
   "source": [
    "# 연령대 별 배달_식재료 서비스 사용일수 median\n",
    "data.groupby('연령대')['배달_식재료 서비스 사용일수'].agg(**{'배달_식재료 서비스 사용일수 median':'median'}).reset_index() "
   ]
  },
  {
   "cell_type": "code",
   "execution_count": 89,
   "metadata": {},
   "outputs": [
    {
     "data": {
      "text/html": [
       "<div>\n",
       "<style scoped>\n",
       "    .dataframe tbody tr th:only-of-type {\n",
       "        vertical-align: middle;\n",
       "    }\n",
       "\n",
       "    .dataframe tbody tr th {\n",
       "        vertical-align: top;\n",
       "    }\n",
       "\n",
       "    .dataframe thead th {\n",
       "        text-align: right;\n",
       "    }\n",
       "</style>\n",
       "<table border=\"1\" class=\"dataframe\">\n",
       "  <thead>\n",
       "    <tr style=\"text-align: right;\">\n",
       "      <th></th>\n",
       "      <th>연령대</th>\n",
       "      <th>배달_식재료 서비스 사용일수 std</th>\n",
       "    </tr>\n",
       "  </thead>\n",
       "  <tbody>\n",
       "    <tr>\n",
       "      <th>0</th>\n",
       "      <td>20</td>\n",
       "      <td>0.568497</td>\n",
       "    </tr>\n",
       "    <tr>\n",
       "      <th>1</th>\n",
       "      <td>30</td>\n",
       "      <td>0.297443</td>\n",
       "    </tr>\n",
       "    <tr>\n",
       "      <th>2</th>\n",
       "      <td>40</td>\n",
       "      <td>0.458773</td>\n",
       "    </tr>\n",
       "    <tr>\n",
       "      <th>3</th>\n",
       "      <td>50</td>\n",
       "      <td>1.141514</td>\n",
       "    </tr>\n",
       "    <tr>\n",
       "      <th>4</th>\n",
       "      <td>60</td>\n",
       "      <td>1.573655</td>\n",
       "    </tr>\n",
       "  </tbody>\n",
       "</table>\n",
       "</div>"
      ],
      "text/plain": [
       "   연령대  배달_식재료 서비스 사용일수 std\n",
       "0   20             0.568497\n",
       "1   30             0.297443\n",
       "2   40             0.458773\n",
       "3   50             1.141514\n",
       "4   60             1.573655"
      ]
     },
     "execution_count": 89,
     "metadata": {},
     "output_type": "execute_result"
    }
   ],
   "source": [
    "# 연령대 별 배달_식재료 서비스 사용일수 std\n",
    "data.groupby('연령대')['배달_식재료 서비스 사용일수'].agg(**{'배달_식재료 서비스 사용일수 std':'std'}).reset_index() "
   ]
  },
  {
   "cell_type": "code",
   "execution_count": 90,
   "metadata": {},
   "outputs": [
    {
     "name": "stderr",
     "output_type": "stream",
     "text": [
      "C:\\Users\\leejihui\\anaconda3\\lib\\site-packages\\matplotlib\\backends\\backend_agg.py:238: RuntimeWarning: Glyph 8722 missing from current font.\n",
      "  font.set_text(s, 0.0, flags=flags)\n",
      "C:\\Users\\leejihui\\anaconda3\\lib\\site-packages\\matplotlib\\backends\\backend_agg.py:201: RuntimeWarning: Glyph 8722 missing from current font.\n",
      "  font.set_text(s, 0, flags=flags)\n"
     ]
    },
    {
     "data": {
      "image/png": "[encoded data removed]",
      "text/plain": [
       "<Figure size 432x288 with 2 Axes>"
      ]
     },
     "metadata": {
      "needs_background": "light"
     },
     "output_type": "display_data"
    }
   ],
   "source": [
    "# heatmap\n",
    "corr_data = data.drop(columns = [\"자치구\", \"행정동\"])\n",
    "corr = corr_data.corr()\n",
    "fig = plt.figure()\n",
    "ax = fig.add_subplot(111)\n",
    "cax = ax.matshow(corr, cmap = 'Blues', vmin=-1, vmax=1)\n",
    "fig.colorbar(cax)\n",
    "ticks = np.arange(0,len(corr_data.columns),1)\n",
    "ax.set_xticks(ticks)\n",
    "plt.xticks(rotation=90)\n",
    "ax.set_yticks(ticks)\n",
    "ax.set_xticklabels(corr_data.columns)\n",
    "ax.set_yticklabels(corr_data.columns)\n",
    "plt.show()"
   ]
  },
  {
   "cell_type": "code",
   "execution_count": 97,
   "metadata": {},
   "outputs": [],
   "source": [
    "from scipy import stats\n",
    "import  scipy.signal.signaltools\n",
    "def _centered(arr, newsize):\n",
    "    # Return the center newsize portion of the array.\n",
    "    newsize = np.asarray(newsize)\n",
    "    currsize = np.array(arr.shape)\n",
    "    startind = (currsize - newsize) // 2\n",
    "    endind = startind + newsize\n",
    "    myslice = [slice(startind[k], endind[k]) for k in range(len(endind))]\n",
    "    return arr[tuple(myslice)]\n",
    "scipy.signal.signaltools._centered = _centered\n",
    "import statsmodels.api as sm\n",
    "from scipy.stats import shapiro\n",
    "from scipy.stats import kstest\n",
    "from scipy.stats import bartlett\n",
    "from scipy.stats import levene\n",
    "from scipy.stats import fligner\n",
    "from scipy.stats import chi2\n",
    "from scipy.stats import chisquare\n",
    "from scipy.stats import chi2_contingency\n",
    "from scipy.stats import f_oneway\n",
    "from scipy.stats import f\n",
    "from statsmodels.stats.multitest import multipletests\n",
    "from statsmodels.stats.multicomp import pairwise_tukeyhsd\n",
    "import statsmodels.api as sm"
   ]
  },
  {
   "cell_type": "markdown",
   "metadata": {},
   "source": [
    "## hypothesis1: 배달 서비스 사용 미추정 인구수\n",
    "- H0: 연령대 별 배달 서비스 사용 미추정 인구수는 차이가 존재하지 않는다.\n",
    "- H1: 연령대 별 배달 서비스 사용 미추정 인구수는 차이가 존재한다"
   ]
  },
  {
   "cell_type": "code",
   "execution_count": 117,
   "metadata": {},
   "outputs": [
    {
     "name": "stderr",
     "output_type": "stream",
     "text": [
      "C:\\Users\\leejihui\\anaconda3\\lib\\site-packages\\scipy\\stats\\_morestats.py:1800: UserWarning: p-value may not be accurate for N > 5000.\n",
      "  warnings.warn(\"p-value may not be accurate for N > 5000.\")\n"
     ]
    },
    {
     "data": {
      "text/plain": [
       "ShapiroResult(statistic=0.9667754173278809, pvalue=1.016828327400203e-32)"
      ]
     },
     "execution_count": 117,
     "metadata": {},
     "output_type": "execute_result"
    },
    {
     "data": {
      "image/png": "[encoded data removed]",
      "text/plain": [
       "<Figure size 432x288 with 1 Axes>"
      ]
     },
     "metadata": {
      "needs_background": "light"
     },
     "output_type": "display_data"
    }
   ],
   "source": [
    "# 정규성 검정\n",
    "fig = sm.qqplot(data[data[\"연령대\"] == 20][\"배달 서비스 사용 미추정 인구수\"], line = \"45\")\n",
    "shapiro(data[data[\"연령대\"] == 20][\"배달 서비스 사용 미추정 인구수\"])"
   ]
  },
  {
   "cell_type": "code",
   "execution_count": 118,
   "metadata": {},
   "outputs": [
    {
     "name": "stderr",
     "output_type": "stream",
     "text": [
      "C:\\Users\\leejihui\\anaconda3\\lib\\site-packages\\scipy\\stats\\_morestats.py:1800: UserWarning: p-value may not be accurate for N > 5000.\n",
      "  warnings.warn(\"p-value may not be accurate for N > 5000.\")\n"
     ]
    },
    {
     "data": {
      "text/plain": [
       "ShapiroResult(statistic=0.9670030474662781, pvalue=1.2611446895798395e-32)"
      ]
     },
     "execution_count": 118,
     "metadata": {},
     "output_type": "execute_result"
    },
    {
     "data": {
      "image/png": "[encoded data removed]",
      "text/plain": [
       "<Figure size 432x288 with 1 Axes>"
      ]
     },
     "metadata": {
      "needs_background": "light"
     },
     "output_type": "display_data"
    }
   ],
   "source": [
    "fig = sm.qqplot(data[data[\"연령대\"] == 30][\"배달 서비스 사용 미추정 인구수\"], line = \"45\")\n",
    "shapiro(data[data[\"연령대\"] == 30][\"배달 서비스 사용 미추정 인구수\"])"
   ]
  },
  {
   "cell_type": "code",
   "execution_count": 119,
   "metadata": {},
   "outputs": [
    {
     "name": "stderr",
     "output_type": "stream",
     "text": [
      "C:\\Users\\leejihui\\anaconda3\\lib\\site-packages\\scipy\\stats\\_morestats.py:1800: UserWarning: p-value may not be accurate for N > 5000.\n",
      "  warnings.warn(\"p-value may not be accurate for N > 5000.\")\n"
     ]
    },
    {
     "data": {
      "text/plain": [
       "ShapiroResult(statistic=0.9724084138870239, pvalue=3.0521108965993074e-30)"
      ]
     },
     "execution_count": 119,
     "metadata": {},
     "output_type": "execute_result"
    },
    {
     "data": {
      "image/png": "[encoded data removed]",
      "text/plain": [
       "<Figure size 432x288 with 1 Axes>"
      ]
     },
     "metadata": {
      "needs_background": "light"
     },
     "output_type": "display_data"
    }
   ],
   "source": [
    "fig = sm.qqplot(data[data[\"연령대\"] == 40][\"배달 서비스 사용 미추정 인구수\"], line = \"45\")\n",
    "shapiro(data[data[\"연령대\"] == 40][\"배달 서비스 사용 미추정 인구수\"])"
   ]
  },
  {
   "cell_type": "code",
   "execution_count": 120,
   "metadata": {},
   "outputs": [
    {
     "name": "stderr",
     "output_type": "stream",
     "text": [
      "C:\\Users\\leejihui\\anaconda3\\lib\\site-packages\\scipy\\stats\\_morestats.py:1800: UserWarning: p-value may not be accurate for N > 5000.\n",
      "  warnings.warn(\"p-value may not be accurate for N > 5000.\")\n"
     ]
    },
    {
     "data": {
      "text/plain": [
       "ShapiroResult(statistic=0.9894152879714966, pvalue=4.308855930598378e-19)"
      ]
     },
     "execution_count": 120,
     "metadata": {},
     "output_type": "execute_result"
    },
    {
     "data": {
      "image/png": "[encoded data removed]",
      "text/plain": [
       "<Figure size 432x288 with 1 Axes>"
      ]
     },
     "metadata": {
      "needs_background": "light"
     },
     "output_type": "display_data"
    }
   ],
   "source": [
    "fig = sm.qqplot(data[data[\"연령대\"] == 50][\"배달 서비스 사용 미추정 인구수\"], line = \"45\")\n",
    "shapiro(data[data[\"연령대\"] == 50][\"배달 서비스 사용 미추정 인구수\"])"
   ]
  },
  {
   "cell_type": "code",
   "execution_count": 121,
   "metadata": {},
   "outputs": [
    {
     "name": "stderr",
     "output_type": "stream",
     "text": [
      "C:\\Users\\leejihui\\anaconda3\\lib\\site-packages\\scipy\\stats\\_morestats.py:1800: UserWarning: p-value may not be accurate for N > 5000.\n",
      "  warnings.warn(\"p-value may not be accurate for N > 5000.\")\n"
     ]
    },
    {
     "data": {
      "text/plain": [
       "ShapiroResult(statistic=0.9760697484016418, pvalue=2.0589941294336513e-28)"
      ]
     },
     "execution_count": 121,
     "metadata": {},
     "output_type": "execute_result"
    },
    {
     "data": {
      "image/png": "[encoded data removed]",
      "text/plain": [
       "<Figure size 432x288 with 1 Axes>"
      ]
     },
     "metadata": {
      "needs_background": "light"
     },
     "output_type": "display_data"
    }
   ],
   "source": [
    "fig = sm.qqplot(data[data[\"연령대\"] == 60][\"배달 서비스 사용 미추정 인구수\"], line = \"45\")\n",
    "shapiro(data[data[\"연령대\"] == 60][\"배달 서비스 사용 미추정 인구수\"])"
   ]
  },
  {
   "cell_type": "markdown",
   "metadata": {},
   "source": [
    "- 전 연령대 정규성 없음"
   ]
  },
  {
   "cell_type": "code",
   "execution_count": 122,
   "metadata": {},
   "outputs": [
    {
     "data": {
      "text/plain": [
       "LeveneResult(statistic=2692.920735162542, pvalue=0.0)"
      ]
     },
     "execution_count": 122,
     "metadata": {},
     "output_type": "execute_result"
    }
   ],
   "source": [
    "levene(data[data[\"연령대\"] == 20][\"배달 서비스 사용 미추정 인구수\"],data[data[\"연령대\"] == 30][\"배달 서비스 사용 미추정 인구수\"],data[data[\"연령대\"] == 40][\"배달 서비스 사용 미추정 인구수\"],data[data[\"연령대\"] == 50][\"배달 서비스 사용 미추정 인구수\"],data[data[\"연령대\"] == 60][\"배달 서비스 사용 미추정 인구수\"])"
   ]
  },
  {
   "cell_type": "code",
   "execution_count": 123,
   "metadata": {},
   "outputs": [
    {
     "data": {
      "text/plain": [
       "BartlettResult(statistic=17831.774319359665, pvalue=0.0)"
      ]
     },
     "execution_count": 123,
     "metadata": {},
     "output_type": "execute_result"
    }
   ],
   "source": [
    "bartlett(data[data[\"연령대\"] == 20][\"배달 서비스 사용 미추정 인구수\"],data[data[\"연령대\"] == 30][\"배달 서비스 사용 미추정 인구수\"],data[data[\"연령대\"] == 40][\"배달 서비스 사용 미추정 인구수\"],data[data[\"연령대\"] == 50][\"배달 서비스 사용 미추정 인구수\"],data[data[\"연령대\"] == 60][\"배달 서비스 사용 미추정 인구수\"])"
   ]
  },
  {
   "cell_type": "code",
   "execution_count": 124,
   "metadata": {},
   "outputs": [
    {
     "data": {
      "text/plain": [
       "FlignerResult(statistic=8364.880567116608, pvalue=0.0)"
      ]
     },
     "execution_count": 124,
     "metadata": {},
     "output_type": "execute_result"
    }
   ],
   "source": [
    "fligner(data[data[\"연령대\"] == 20][\"배달 서비스 사용 미추정 인구수\"],data[data[\"연령대\"] == 30][\"배달 서비스 사용 미추정 인구수\"],data[data[\"연령대\"] == 40][\"배달 서비스 사용 미추정 인구수\"],data[data[\"연령대\"] == 50][\"배달 서비스 사용 미추정 인구수\"],data[data[\"연령대\"] == 60][\"배달 서비스 사용 미추정 인구수\"])"
   ]
  },
  {
   "cell_type": "markdown",
   "metadata": {},
   "source": [
    "- 전 연령대 동분산 없음"
   ]
  },
  {
   "cell_type": "code",
   "execution_count": 125,
   "metadata": {},
   "outputs": [
    {
     "data": {
      "text/plain": [
       "KruskalResult(statistic=18188.910072128103, pvalue=0.0)"
      ]
     },
     "execution_count": 125,
     "metadata": {},
     "output_type": "execute_result"
    }
   ],
   "source": [
    "stats.kruskal(data[data[\"연령대\"] == 20][\"배달 서비스 사용 미추정 인구수\"],data[data[\"연령대\"] == 30][\"배달 서비스 사용 미추정 인구수\"],data[data[\"연령대\"] == 40][\"배달 서비스 사용 미추정 인구수\"],data[data[\"연령대\"] == 50][\"배달 서비스 사용 미추정 인구수\"],data[data[\"연령대\"] == 60][\"배달 서비스 사용 미추정 인구수\"])"
   ]
  },
  {
   "cell_type": "code",
   "execution_count": 126,
   "metadata": {},
   "outputs": [
    {
     "name": "stdout",
     "output_type": "stream",
     "text": [
      "  Multiple Comparison of Means - Tukey HSD, FWER=0.05   \n",
      "========================================================\n",
      "group1 group2  meandiff p-adj   lower     upper   reject\n",
      "--------------------------------------------------------\n",
      "    20     30  124.2064 0.001   97.3855  151.0273   True\n",
      "    20     40  559.9336 0.001  533.1127  586.7545   True\n",
      "    20     50 1767.6507 0.001 1740.8299 1794.4716   True\n",
      "    20     60  1086.362 0.001 1059.5411 1113.1829   True\n",
      "    30     40  435.7272 0.001  408.9063  462.5481   True\n",
      "    30     50 1643.4444 0.001 1616.6235 1670.2653   True\n",
      "    30     60  962.1557 0.001  935.3348  988.9765   True\n",
      "    40     50 1207.7172 0.001 1180.8963 1234.5381   True\n",
      "    40     60  526.4285 0.001  499.6076  553.2493   True\n",
      "    50     60 -681.2887 0.001 -708.1096 -654.4678   True\n",
      "--------------------------------------------------------\n"
     ]
    }
   ],
   "source": [
    "tukey = pairwise_tukeyhsd(endog = data[\"배달 서비스 사용 미추정 인구수\"], groups = data[\"연령대\"], alpha = 0.05)\n",
    "print(tukey)"
   ]
  },
  {
   "cell_type": "markdown",
   "metadata": {},
   "source": [
    "### 연령대 별 배달 서비스 사용 미추정 인구수에는 차이가 존재한다."
   ]
  },
  {
   "cell_type": "markdown",
   "metadata": {},
   "source": [
    "## hypothesis2: 배달 서비스 사용일수\n",
    "- H0: 연령대 별 배달 서비스 사용일수는 차이가 존재하지 않는다.\n",
    "- H1: 연령대 별 배달 서비스 사용일수는 차이가 존재한다"
   ]
  },
  {
   "cell_type": "code",
   "execution_count": 127,
   "metadata": {},
   "outputs": [
    {
     "name": "stderr",
     "output_type": "stream",
     "text": [
      "C:\\Users\\leejihui\\anaconda3\\lib\\site-packages\\scipy\\stats\\_morestats.py:1800: UserWarning: p-value may not be accurate for N > 5000.\n",
      "  warnings.warn(\"p-value may not be accurate for N > 5000.\")\n"
     ]
    },
    {
     "data": {
      "text/plain": [
       "ShapiroResult(statistic=0.9972953796386719, pvalue=6.83404763890394e-08)"
      ]
     },
     "execution_count": 127,
     "metadata": {},
     "output_type": "execute_result"
    },
    {
     "data": {
      "image/png": "[encoded data removed]",
      "text/plain": [
       "<Figure size 432x288 with 1 Axes>"
      ]
     },
     "metadata": {
      "needs_background": "light"
     },
     "output_type": "display_data"
    }
   ],
   "source": [
    "# 정규성 검정\n",
    "fig = sm.qqplot(data[data[\"연령대\"] == 20][\"배달 서비스 사용일수\"], line = \"45\")\n",
    "shapiro(data[data[\"연령대\"] == 20][\"배달 서비스 사용일수\"])"
   ]
  },
  {
   "cell_type": "code",
   "execution_count": 128,
   "metadata": {},
   "outputs": [
    {
     "name": "stderr",
     "output_type": "stream",
     "text": [
      "C:\\Users\\leejihui\\anaconda3\\lib\\site-packages\\scipy\\stats\\_morestats.py:1800: UserWarning: p-value may not be accurate for N > 5000.\n",
      "  warnings.warn(\"p-value may not be accurate for N > 5000.\")\n"
     ]
    },
    {
     "data": {
      "text/plain": [
       "ShapiroResult(statistic=0.9958771467208862, pvalue=9.06201849670829e-11)"
      ]
     },
     "execution_count": 128,
     "metadata": {},
     "output_type": "execute_result"
    },
    {
     "data": {
      "image/png": "[encoded data removed]",
      "text/plain": [
       "<Figure size 432x288 with 1 Axes>"
      ]
     },
     "metadata": {
      "needs_background": "light"
     },
     "output_type": "display_data"
    }
   ],
   "source": [
    "fig = sm.qqplot(data[data[\"연령대\"] == 30][\"배달 서비스 사용일수\"], line = \"45\")\n",
    "shapiro(data[data[\"연령대\"] == 30][\"배달 서비스 사용일수\"])"
   ]
  },
  {
   "cell_type": "code",
   "execution_count": 129,
   "metadata": {},
   "outputs": [
    {
     "name": "stderr",
     "output_type": "stream",
     "text": [
      "C:\\Users\\leejihui\\anaconda3\\lib\\site-packages\\scipy\\stats\\_morestats.py:1800: UserWarning: p-value may not be accurate for N > 5000.\n",
      "  warnings.warn(\"p-value may not be accurate for N > 5000.\")\n"
     ]
    },
    {
     "data": {
      "text/plain": [
       "ShapiroResult(statistic=0.9946392178535461, pvalue=7.987587913142746e-13)"
      ]
     },
     "execution_count": 129,
     "metadata": {},
     "output_type": "execute_result"
    },
    {
     "data": {
      "image/png": "[encoded data removed]",
      "text/plain": [
       "<Figure size 432x288 with 1 Axes>"
      ]
     },
     "metadata": {
      "needs_background": "light"
     },
     "output_type": "display_data"
    }
   ],
   "source": [
    "fig = sm.qqplot(data[data[\"연령대\"] == 40][\"배달 서비스 사용일수\"], line = \"45\")\n",
    "shapiro(data[data[\"연령대\"] == 40][\"배달 서비스 사용일수\"])"
   ]
  },
  {
   "cell_type": "code",
   "execution_count": 130,
   "metadata": {},
   "outputs": [
    {
     "name": "stderr",
     "output_type": "stream",
     "text": [
      "C:\\Users\\leejihui\\anaconda3\\lib\\site-packages\\scipy\\stats\\_morestats.py:1800: UserWarning: p-value may not be accurate for N > 5000.\n",
      "  warnings.warn(\"p-value may not be accurate for N > 5000.\")\n"
     ]
    },
    {
     "data": {
      "text/plain": [
       "ShapiroResult(statistic=0.9656367897987366, pvalue=3.523079996321232e-33)"
      ]
     },
     "execution_count": 130,
     "metadata": {},
     "output_type": "execute_result"
    },
    {
     "data": {
      "image/png": "[encoded data removed]",
      "text/plain": [
       "<Figure size 432x288 with 1 Axes>"
      ]
     },
     "metadata": {
      "needs_background": "light"
     },
     "output_type": "display_data"
    }
   ],
   "source": [
    "fig = sm.qqplot(data[data[\"연령대\"] == 50][\"배달 서비스 사용일수\"], line = \"45\")\n",
    "shapiro(data[data[\"연령대\"] == 50][\"배달 서비스 사용일수\"])"
   ]
  },
  {
   "cell_type": "code",
   "execution_count": 131,
   "metadata": {},
   "outputs": [
    {
     "name": "stderr",
     "output_type": "stream",
     "text": [
      "C:\\Users\\leejihui\\anaconda3\\lib\\site-packages\\scipy\\stats\\_morestats.py:1800: UserWarning: p-value may not be accurate for N > 5000.\n",
      "  warnings.warn(\"p-value may not be accurate for N > 5000.\")\n"
     ]
    },
    {
     "data": {
      "text/plain": [
       "ShapiroResult(statistic=0.9764895439147949, pvalue=3.4422586452507845e-28)"
      ]
     },
     "execution_count": 131,
     "metadata": {},
     "output_type": "execute_result"
    },
    {
     "data": {
      "image/png": "[encoded data removed]",
      "text/plain": [
       "<Figure size 432x288 with 1 Axes>"
      ]
     },
     "metadata": {
      "needs_background": "light"
     },
     "output_type": "display_data"
    }
   ],
   "source": [
    "fig = sm.qqplot(data[data[\"연령대\"] == 60][\"배달 서비스 사용일수\"], line = \"45\")\n",
    "shapiro(data[data[\"연령대\"] == 60][\"배달 서비스 사용일수\"])"
   ]
  },
  {
   "cell_type": "markdown",
   "metadata": {},
   "source": [
    "- 전 연령대 정규성 없음"
   ]
  },
  {
   "cell_type": "code",
   "execution_count": 132,
   "metadata": {},
   "outputs": [
    {
     "data": {
      "text/plain": [
       "LeveneResult(statistic=1602.7297246085484, pvalue=0.0)"
      ]
     },
     "execution_count": 132,
     "metadata": {},
     "output_type": "execute_result"
    }
   ],
   "source": [
    "levene(data[data[\"연령대\"] == 20][\"배달 서비스 사용일수\"],data[data[\"연령대\"] == 30][\"배달 서비스 사용일수\"],data[data[\"연령대\"] == 40][\"배달 서비스 사용일수\"],data[data[\"연령대\"] == 50][\"배달 서비스 사용일수\"],data[data[\"연령대\"] == 60][\"배달 서비스 사용일수\"])"
   ]
  },
  {
   "cell_type": "code",
   "execution_count": 133,
   "metadata": {},
   "outputs": [
    {
     "data": {
      "text/plain": [
       "BartlettResult(statistic=9286.201129707755, pvalue=0.0)"
      ]
     },
     "execution_count": 133,
     "metadata": {},
     "output_type": "execute_result"
    }
   ],
   "source": [
    "bartlett(data[data[\"연령대\"] == 20][\"배달 서비스 사용일수\"],data[data[\"연령대\"] == 30][\"배달 서비스 사용일수\"],data[data[\"연령대\"] == 40][\"배달 서비스 사용일수\"],data[data[\"연령대\"] == 50][\"배달 서비스 사용일수\"],data[data[\"연령대\"] == 60][\"배달 서비스 사용일수\"])"
   ]
  },
  {
   "cell_type": "code",
   "execution_count": 134,
   "metadata": {},
   "outputs": [
    {
     "data": {
      "text/plain": [
       "FlignerResult(statistic=4818.541709692436, pvalue=0.0)"
      ]
     },
     "execution_count": 134,
     "metadata": {},
     "output_type": "execute_result"
    }
   ],
   "source": [
    "fligner(data[data[\"연령대\"] == 20][\"배달 서비스 사용일수\"],data[data[\"연령대\"] == 30][\"배달 서비스 사용일수\"],data[data[\"연령대\"] == 40][\"배달 서비스 사용일수\"],data[data[\"연령대\"] == 50][\"배달 서비스 사용일수\"],data[data[\"연령대\"] == 60][\"배달 서비스 사용일수\"])"
   ]
  },
  {
   "cell_type": "markdown",
   "metadata": {},
   "source": [
    "- 전 연령대 동분산 없음"
   ]
  },
  {
   "cell_type": "code",
   "execution_count": 135,
   "metadata": {},
   "outputs": [
    {
     "data": {
      "text/plain": [
       "KruskalResult(statistic=10202.133223154811, pvalue=0.0)"
      ]
     },
     "execution_count": 135,
     "metadata": {},
     "output_type": "execute_result"
    }
   ],
   "source": [
    "stats.kruskal(data[data[\"연령대\"] == 20][\"배달 서비스 사용일수\"],data[data[\"연령대\"] == 30][\"배달 서비스 사용일수\"],data[data[\"연령대\"] == 40][\"배달 서비스 사용일수\"],data[data[\"연령대\"] == 50][\"배달 서비스 사용일수\"],data[data[\"연령대\"] == 60][\"배달 서비스 사용일수\"])"
   ]
  },
  {
   "cell_type": "code",
   "execution_count": 136,
   "metadata": {},
   "outputs": [
    {
     "name": "stdout",
     "output_type": "stream",
     "text": [
      "Multiple Comparison of Means - Tukey HSD, FWER=0.05 \n",
      "====================================================\n",
      "group1 group2 meandiff p-adj   lower   upper  reject\n",
      "----------------------------------------------------\n",
      "    20     30   0.7567  0.001  0.5122  1.0012   True\n",
      "    20     40  -6.4631  0.001 -6.7076 -6.2186   True\n",
      "    20     50  -5.2912  0.001 -5.5357 -5.0467   True\n",
      "    20     60  -5.0686  0.001 -5.3131 -4.8241   True\n",
      "    30     40  -7.2198  0.001 -7.4643 -6.9753   True\n",
      "    30     50  -6.0479  0.001 -6.2924 -5.8034   True\n",
      "    30     60  -5.8253  0.001 -6.0698 -5.5808   True\n",
      "    40     50   1.1719  0.001  0.9274  1.4164   True\n",
      "    40     60   1.3945  0.001    1.15   1.639   True\n",
      "    50     60   0.2226 0.0943 -0.0219  0.4671  False\n",
      "----------------------------------------------------\n"
     ]
    }
   ],
   "source": [
    "tukey = pairwise_tukeyhsd(endog = data[\"배달 서비스 사용일수\"], groups = data[\"연령대\"], alpha = 0.05)\n",
    "print(tukey)"
   ]
  },
  {
   "cell_type": "markdown",
   "metadata": {},
   "source": [
    "### 50대, 60대 간 배달 서비스 사용일수에는 차이가 존재하지 않는다."
   ]
  },
  {
   "cell_type": "markdown",
   "metadata": {},
   "source": [
    "## hypothesis3: 배달_브랜드 서비스 사용 미추정 인구수\n",
    "- H0: 연령대 별 배달_브랜드 서비스 사용 미추정 인구수는 차이가 존재하지 않는다.\n",
    "- H1: 연령대 별 배달_브랜드 서비스 사용 미추정 인구수는 차이가 존재한다"
   ]
  },
  {
   "cell_type": "code",
   "execution_count": 137,
   "metadata": {},
   "outputs": [
    {
     "name": "stderr",
     "output_type": "stream",
     "text": [
      "C:\\Users\\leejihui\\anaconda3\\lib\\site-packages\\scipy\\stats\\_morestats.py:1800: UserWarning: p-value may not be accurate for N > 5000.\n",
      "  warnings.warn(\"p-value may not be accurate for N > 5000.\")\n"
     ]
    },
    {
     "data": {
      "text/plain": [
       "ShapiroResult(statistic=0.9076573252677917, pvalue=0.0)"
      ]
     },
     "execution_count": 137,
     "metadata": {},
     "output_type": "execute_result"
    },
    {
     "data": {
      "image/png": "[encoded data removed]",
      "text/plain": [
       "<Figure size 432x288 with 1 Axes>"
      ]
     },
     "metadata": {
      "needs_background": "light"
     },
     "output_type": "display_data"
    }
   ],
   "source": [
    "# 정규성 검정\n",
    "fig = sm.qqplot(data[data[\"연령대\"] == 20][\"배달_브랜드 서비스 사용 미추정 인구수\"], line = \"45\")\n",
    "shapiro(data[data[\"연령대\"] == 20][\"배달_브랜드 서비스 사용 미추정 인구수\"])"
   ]
  },
  {
   "cell_type": "code",
   "execution_count": 138,
   "metadata": {},
   "outputs": [
    {
     "name": "stderr",
     "output_type": "stream",
     "text": [
      "C:\\Users\\leejihui\\anaconda3\\lib\\site-packages\\scipy\\stats\\_morestats.py:1800: UserWarning: p-value may not be accurate for N > 5000.\n",
      "  warnings.warn(\"p-value may not be accurate for N > 5000.\")\n"
     ]
    },
    {
     "data": {
      "text/plain": [
       "ShapiroResult(statistic=0.9763597249984741, pvalue=2.9342715112593184e-28)"
      ]
     },
     "execution_count": 138,
     "metadata": {},
     "output_type": "execute_result"
    },
    {
     "data": {
      "image/png": "[encoded data removed]",
      "text/plain": [
       "<Figure size 432x288 with 1 Axes>"
      ]
     },
     "metadata": {
      "needs_background": "light"
     },
     "output_type": "display_data"
    }
   ],
   "source": [
    "fig = sm.qqplot(data[data[\"연령대\"] == 30][\"배달_브랜드 서비스 사용 미추정 인구수\"], line = \"45\")\n",
    "shapiro(data[data[\"연령대\"] == 30][\"배달_브랜드 서비스 사용 미추정 인구수\"])"
   ]
  },
  {
   "cell_type": "code",
   "execution_count": 139,
   "metadata": {},
   "outputs": [
    {
     "name": "stderr",
     "output_type": "stream",
     "text": [
      "C:\\Users\\leejihui\\anaconda3\\lib\\site-packages\\scipy\\stats\\_morestats.py:1800: UserWarning: p-value may not be accurate for N > 5000.\n",
      "  warnings.warn(\"p-value may not be accurate for N > 5000.\")\n"
     ]
    },
    {
     "data": {
      "text/plain": [
       "ShapiroResult(statistic=0.9764120578765869, pvalue=3.128988324944215e-28)"
      ]
     },
     "execution_count": 139,
     "metadata": {},
     "output_type": "execute_result"
    },
    {
     "data": {
      "image/png": "[encoded data removed]",
      "text/plain": [
       "<Figure size 432x288 with 1 Axes>"
      ]
     },
     "metadata": {
      "needs_background": "light"
     },
     "output_type": "display_data"
    }
   ],
   "source": [
    "fig = sm.qqplot(data[data[\"연령대\"] == 40][\"배달_브랜드 서비스 사용 미추정 인구수\"], line = \"45\")\n",
    "shapiro(data[data[\"연령대\"] == 40][\"배달_브랜드 서비스 사용 미추정 인구수\"])"
   ]
  },
  {
   "cell_type": "code",
   "execution_count": 140,
   "metadata": {},
   "outputs": [
    {
     "name": "stderr",
     "output_type": "stream",
     "text": [
      "C:\\Users\\leejihui\\anaconda3\\lib\\site-packages\\scipy\\stats\\_morestats.py:1800: UserWarning: p-value may not be accurate for N > 5000.\n",
      "  warnings.warn(\"p-value may not be accurate for N > 5000.\")\n"
     ]
    },
    {
     "data": {
      "text/plain": [
       "ShapiroResult(statistic=0.9910409450531006, pvalue=1.9819235896241967e-17)"
      ]
     },
     "execution_count": 140,
     "metadata": {},
     "output_type": "execute_result"
    },
    {
     "data": {
      "image/png": "[encoded data removed]",
      "text/plain": [
       "<Figure size 432x288 with 1 Axes>"
      ]
     },
     "metadata": {
      "needs_background": "light"
     },
     "output_type": "display_data"
    }
   ],
   "source": [
    "fig = sm.qqplot(data[data[\"연령대\"] == 50][\"배달_브랜드 서비스 사용 미추정 인구수\"], line = \"45\")\n",
    "shapiro(data[data[\"연령대\"] == 50][\"배달_브랜드 서비스 사용 미추정 인구수\"])"
   ]
  },
  {
   "cell_type": "code",
   "execution_count": 141,
   "metadata": {},
   "outputs": [
    {
     "name": "stderr",
     "output_type": "stream",
     "text": [
      "C:\\Users\\leejihui\\anaconda3\\lib\\site-packages\\scipy\\stats\\_morestats.py:1800: UserWarning: p-value may not be accurate for N > 5000.\n",
      "  warnings.warn(\"p-value may not be accurate for N > 5000.\")\n"
     ]
    },
    {
     "data": {
      "text/plain": [
       "ShapiroResult(statistic=0.9765542149543762, pvalue=3.7279681858294435e-28)"
      ]
     },
     "execution_count": 141,
     "metadata": {},
     "output_type": "execute_result"
    },
    {
     "data": {
      "image/png": "[encoded data removed]",
      "text/plain": [
       "<Figure size 432x288 with 1 Axes>"
      ]
     },
     "metadata": {
      "needs_background": "light"
     },
     "output_type": "display_data"
    }
   ],
   "source": [
    "fig = sm.qqplot(data[data[\"연령대\"] == 60][\"배달_브랜드 서비스 사용 미추정 인구수\"], line = \"45\")\n",
    "shapiro(data[data[\"연령대\"] == 60][\"배달_브랜드 서비스 사용 미추정 인구수\"])"
   ]
  },
  {
   "cell_type": "markdown",
   "metadata": {},
   "source": [
    "- 전 연령대 정규성 없음"
   ]
  },
  {
   "cell_type": "code",
   "execution_count": 142,
   "metadata": {},
   "outputs": [
    {
     "data": {
      "text/plain": [
       "LeveneResult(statistic=260.54173393271407, pvalue=8.129020660212489e-220)"
      ]
     },
     "execution_count": 142,
     "metadata": {},
     "output_type": "execute_result"
    }
   ],
   "source": [
    "levene(data[data[\"연령대\"] == 20][\"배달_브랜드 서비스 사용 미추정 인구수\"],data[data[\"연령대\"] == 30][\"배달_브랜드 서비스 사용 미추정 인구수\"],data[data[\"연령대\"] == 40][\"배달_브랜드 서비스 사용 미추정 인구수\"],data[data[\"연령대\"] == 50][\"배달_브랜드 서비스 사용 미추정 인구수\"],data[data[\"연령대\"] == 60][\"배달_브랜드 서비스 사용 미추정 인구수\"])"
   ]
  },
  {
   "cell_type": "code",
   "execution_count": 143,
   "metadata": {},
   "outputs": [
    {
     "data": {
      "text/plain": [
       "BartlettResult(statistic=1333.9127199868333, pvalue=1.4766625948184904e-287)"
      ]
     },
     "execution_count": 143,
     "metadata": {},
     "output_type": "execute_result"
    }
   ],
   "source": [
    "bartlett(data[data[\"연령대\"] == 20][\"배달_브랜드 서비스 사용 미추정 인구수\"],data[data[\"연령대\"] == 30][\"배달_브랜드 서비스 사용 미추정 인구수\"],data[data[\"연령대\"] == 40][\"배달_브랜드 서비스 사용 미추정 인구수\"],data[data[\"연령대\"] == 50][\"배달_브랜드 서비스 사용 미추정 인구수\"],data[data[\"연령대\"] == 60][\"배달_브랜드 서비스 사용 미추정 인구수\"])"
   ]
  },
  {
   "cell_type": "code",
   "execution_count": 144,
   "metadata": {
    "scrolled": true
   },
   "outputs": [
    {
     "data": {
      "text/plain": [
       "FlignerResult(statistic=1025.1419017508765, pvalue=1.2701789222465296e-220)"
      ]
     },
     "execution_count": 144,
     "metadata": {},
     "output_type": "execute_result"
    }
   ],
   "source": [
    "fligner(data[data[\"연령대\"] == 20][\"배달_브랜드 서비스 사용 미추정 인구수\"],data[data[\"연령대\"] == 30][\"배달_브랜드 서비스 사용 미추정 인구수\"],data[data[\"연령대\"] == 40][\"배달_브랜드 서비스 사용 미추정 인구수\"],data[data[\"연령대\"] == 50][\"배달_브랜드 서비스 사용 미추정 인구수\"],data[data[\"연령대\"] == 60][\"배달_브랜드 서비스 사용 미추정 인구수\"])"
   ]
  },
  {
   "cell_type": "markdown",
   "metadata": {},
   "source": [
    "- 전 연령대 동분산 없음"
   ]
  },
  {
   "cell_type": "code",
   "execution_count": 145,
   "metadata": {},
   "outputs": [
    {
     "data": {
      "text/plain": [
       "KruskalResult(statistic=4254.244508558406, pvalue=0.0)"
      ]
     },
     "execution_count": 145,
     "metadata": {},
     "output_type": "execute_result"
    }
   ],
   "source": [
    "stats.kruskal(data[data[\"연령대\"] == 20][\"배달_브랜드 서비스 사용 미추정 인구수\"],data[data[\"연령대\"] == 30][\"배달_브랜드 서비스 사용 미추정 인구수\"],data[data[\"연령대\"] == 40][\"배달_브랜드 서비스 사용 미추정 인구수\"],data[data[\"연령대\"] == 50][\"배달_브랜드 서비스 사용 미추정 인구수\"],data[data[\"연령대\"] == 60][\"배달_브랜드 서비스 사용 미추정 인구수\"])"
   ]
  },
  {
   "cell_type": "code",
   "execution_count": 146,
   "metadata": {},
   "outputs": [
    {
     "name": "stdout",
     "output_type": "stream",
     "text": [
      "   Multiple Comparison of Means - Tukey HSD, FWER=0.05   \n",
      "=========================================================\n",
      "group1 group2  meandiff p-adj   lower      upper   reject\n",
      "---------------------------------------------------------\n",
      "    20     30  116.8679 0.001    74.8529  158.8829   True\n",
      "    20     40  199.1242 0.001   157.1092  241.1392   True\n",
      "    20     50  933.1447 0.001   891.1297  975.1596   True\n",
      "    20     60 -140.2323 0.001  -182.2473  -98.2173   True\n",
      "    30     40   82.2563 0.001    40.2413  124.2713   True\n",
      "    30     50  816.2767 0.001   774.2618  858.2917   True\n",
      "    30     60 -257.1002 0.001  -299.1152 -215.0853   True\n",
      "    40     50  734.0204 0.001   692.0055  776.0354   True\n",
      "    40     60 -339.3565 0.001  -381.3715 -297.3415   True\n",
      "    50     60 -1073.377 0.001 -1115.3919 -1031.362   True\n",
      "---------------------------------------------------------\n"
     ]
    }
   ],
   "source": [
    "tukey = pairwise_tukeyhsd(endog = data[\"배달_브랜드 서비스 사용 미추정 인구수\"], groups = data[\"연령대\"], alpha = 0.05)\n",
    "print(tukey)"
   ]
  },
  {
   "cell_type": "markdown",
   "metadata": {},
   "source": [
    "### 연령대 별 배달_브랜드 서비스 사용 미추정 인구수에는 차이가 존재한다."
   ]
  },
  {
   "cell_type": "markdown",
   "metadata": {},
   "source": [
    "## hypothesis4: 배달_브랜드 서비스 사용일수\n",
    "- H0: 연령대 별 배달_브랜드 서비스 사용일수는 차이가 존재하지 않는다.\n",
    "- H1: 연령대 별 배달_브랜드 서비스 사용일수는 차이가 존재한다"
   ]
  },
  {
   "cell_type": "code",
   "execution_count": 147,
   "metadata": {},
   "outputs": [
    {
     "name": "stderr",
     "output_type": "stream",
     "text": [
      "C:\\Users\\leejihui\\anaconda3\\lib\\site-packages\\scipy\\stats\\_morestats.py:1800: UserWarning: p-value may not be accurate for N > 5000.\n",
      "  warnings.warn(\"p-value may not be accurate for N > 5000.\")\n"
     ]
    },
    {
     "data": {
      "text/plain": [
       "ShapiroResult(statistic=0.9789121747016907, pvalue=7.721602422268568e-27)"
      ]
     },
     "execution_count": 147,
     "metadata": {},
     "output_type": "execute_result"
    },
    {
     "name": "stderr",
     "output_type": "stream",
     "text": [
      "C:\\Users\\leejihui\\anaconda3\\lib\\site-packages\\matplotlib\\backends\\backend_agg.py:238: RuntimeWarning: Glyph 8722 missing from current font.\n",
      "  font.set_text(s, 0.0, flags=flags)\n",
      "C:\\Users\\leejihui\\anaconda3\\lib\\site-packages\\matplotlib\\backends\\backend_agg.py:201: RuntimeWarning: Glyph 8722 missing from current font.\n",
      "  font.set_text(s, 0, flags=flags)\n"
     ]
    },
    {
     "data": {
      "image/png": "[encoded data removed]",
      "text/plain": [
       "<Figure size 432x288 with 1 Axes>"
      ]
     },
     "metadata": {
      "needs_background": "light"
     },
     "output_type": "display_data"
    }
   ],
   "source": [
    "# 정규성 검정\n",
    "fig = sm.qqplot(data[data[\"연령대\"] == 20][\"배달_브랜드 서비스 사용일수\"], line = \"45\")\n",
    "shapiro(data[data[\"연령대\"] == 20][\"배달_브랜드 서비스 사용일수\"])"
   ]
  },
  {
   "cell_type": "code",
   "execution_count": 148,
   "metadata": {},
   "outputs": [
    {
     "name": "stderr",
     "output_type": "stream",
     "text": [
      "C:\\Users\\leejihui\\anaconda3\\lib\\site-packages\\scipy\\stats\\_morestats.py:1800: UserWarning: p-value may not be accurate for N > 5000.\n",
      "  warnings.warn(\"p-value may not be accurate for N > 5000.\")\n"
     ]
    },
    {
     "data": {
      "text/plain": [
       "ShapiroResult(statistic=0.9896349906921387, pvalue=7.047939676494022e-19)"
      ]
     },
     "execution_count": 148,
     "metadata": {},
     "output_type": "execute_result"
    },
    {
     "name": "stderr",
     "output_type": "stream",
     "text": [
      "C:\\Users\\leejihui\\anaconda3\\lib\\site-packages\\matplotlib\\backends\\backend_agg.py:238: RuntimeWarning: Glyph 8722 missing from current font.\n",
      "  font.set_text(s, 0.0, flags=flags)\n",
      "C:\\Users\\leejihui\\anaconda3\\lib\\site-packages\\matplotlib\\backends\\backend_agg.py:201: RuntimeWarning: Glyph 8722 missing from current font.\n",
      "  font.set_text(s, 0, flags=flags)\n"
     ]
    },
    {
     "data": {
      "image/png": "[encoded data removed]",
      "text/plain": [
       "<Figure size 432x288 with 1 Axes>"
      ]
     },
     "metadata": {
      "needs_background": "light"
     },
     "output_type": "display_data"
    }
   ],
   "source": [
    "fig = sm.qqplot(data[data[\"연령대\"] == 30][\"배달_브랜드 서비스 사용일수\"], line = \"45\")\n",
    "shapiro(data[data[\"연령대\"] == 30][\"배달_브랜드 서비스 사용일수\"])"
   ]
  },
  {
   "cell_type": "code",
   "execution_count": 149,
   "metadata": {},
   "outputs": [
    {
     "name": "stderr",
     "output_type": "stream",
     "text": [
      "C:\\Users\\leejihui\\anaconda3\\lib\\site-packages\\scipy\\stats\\_morestats.py:1800: UserWarning: p-value may not be accurate for N > 5000.\n",
      "  warnings.warn(\"p-value may not be accurate for N > 5000.\")\n"
     ]
    },
    {
     "data": {
      "text/plain": [
       "ShapiroResult(statistic=0.9865916967391968, pvalue=1.3660010350551157e-21)"
      ]
     },
     "execution_count": 149,
     "metadata": {},
     "output_type": "execute_result"
    },
    {
     "name": "stderr",
     "output_type": "stream",
     "text": [
      "C:\\Users\\leejihui\\anaconda3\\lib\\site-packages\\matplotlib\\backends\\backend_agg.py:238: RuntimeWarning: Glyph 8722 missing from current font.\n",
      "  font.set_text(s, 0.0, flags=flags)\n",
      "C:\\Users\\leejihui\\anaconda3\\lib\\site-packages\\matplotlib\\backends\\backend_agg.py:201: RuntimeWarning: Glyph 8722 missing from current font.\n",
      "  font.set_text(s, 0, flags=flags)\n"
     ]
    },
    {
     "data": {
      "image/png": "[encoded data removed]",
      "text/plain": [
       "<Figure size 432x288 with 1 Axes>"
      ]
     },
     "metadata": {
      "needs_background": "light"
     },
     "output_type": "display_data"
    }
   ],
   "source": [
    "fig = sm.qqplot(data[data[\"연령대\"] == 40][\"배달_브랜드 서비스 사용일수\"], line = \"45\")\n",
    "shapiro(data[data[\"연령대\"] == 40][\"배달_브랜드 서비스 사용일수\"])"
   ]
  },
  {
   "cell_type": "code",
   "execution_count": 150,
   "metadata": {},
   "outputs": [
    {
     "name": "stderr",
     "output_type": "stream",
     "text": [
      "C:\\Users\\leejihui\\anaconda3\\lib\\site-packages\\scipy\\stats\\_morestats.py:1800: UserWarning: p-value may not be accurate for N > 5000.\n",
      "  warnings.warn(\"p-value may not be accurate for N > 5000.\")\n"
     ]
    },
    {
     "data": {
      "text/plain": [
       "ShapiroResult(statistic=0.9921322464942932, pvalue=3.4306269025853576e-16)"
      ]
     },
     "execution_count": 150,
     "metadata": {},
     "output_type": "execute_result"
    },
    {
     "data": {
      "image/png": "[encoded data removed]",
      "text/plain": [
       "<Figure size 432x288 with 1 Axes>"
      ]
     },
     "metadata": {
      "needs_background": "light"
     },
     "output_type": "display_data"
    }
   ],
   "source": [
    "fig = sm.qqplot(data[data[\"연령대\"] == 50][\"배달_브랜드 서비스 사용일수\"], line = \"45\")\n",
    "shapiro(data[data[\"연령대\"] == 50][\"배달_브랜드 서비스 사용일수\"])"
   ]
  },
  {
   "cell_type": "code",
   "execution_count": 151,
   "metadata": {},
   "outputs": [
    {
     "name": "stderr",
     "output_type": "stream",
     "text": [
      "C:\\Users\\leejihui\\anaconda3\\lib\\site-packages\\scipy\\stats\\_morestats.py:1800: UserWarning: p-value may not be accurate for N > 5000.\n",
      "  warnings.warn(\"p-value may not be accurate for N > 5000.\")\n"
     ]
    },
    {
     "data": {
      "text/plain": [
       "ShapiroResult(statistic=0.9537513256072998, pvalue=2.2023230417984437e-37)"
      ]
     },
     "execution_count": 151,
     "metadata": {},
     "output_type": "execute_result"
    },
    {
     "data": {
      "image/png": "[encoded data removed]",
      "text/plain": [
       "<Figure size 432x288 with 1 Axes>"
      ]
     },
     "metadata": {
      "needs_background": "light"
     },
     "output_type": "display_data"
    }
   ],
   "source": [
    "fig = sm.qqplot(data[data[\"연령대\"] == 60][\"배달_브랜드 서비스 사용일수\"], line = \"45\")\n",
    "shapiro(data[data[\"연령대\"] == 60][\"배달_브랜드 서비스 사용일수\"])"
   ]
  },
  {
   "cell_type": "markdown",
   "metadata": {},
   "source": [
    "- 전 연령대 정규성 없음"
   ]
  },
  {
   "cell_type": "code",
   "execution_count": 152,
   "metadata": {},
   "outputs": [
    {
     "data": {
      "text/plain": [
       "LeveneResult(statistic=2225.8669698985136, pvalue=0.0)"
      ]
     },
     "execution_count": 152,
     "metadata": {},
     "output_type": "execute_result"
    }
   ],
   "source": [
    "levene(data[data[\"연령대\"] == 20][\"배달_브랜드 서비스 사용일수\"],data[data[\"연령대\"] == 30][\"배달_브랜드 서비스 사용일수\"],data[data[\"연령대\"] == 40][\"배달_브랜드 서비스 사용일수\"],data[data[\"연령대\"] == 50][\"배달_브랜드 서비스 사용일수\"],data[data[\"연령대\"] == 60][\"배달_브랜드 서비스 사용일수\"])"
   ]
  },
  {
   "cell_type": "code",
   "execution_count": 153,
   "metadata": {},
   "outputs": [
    {
     "data": {
      "text/plain": [
       "BartlettResult(statistic=12554.362191634887, pvalue=0.0)"
      ]
     },
     "execution_count": 153,
     "metadata": {},
     "output_type": "execute_result"
    }
   ],
   "source": [
    "bartlett(data[data[\"연령대\"] == 20][\"배달_브랜드 서비스 사용일수\"],data[data[\"연령대\"] == 30][\"배달_브랜드 서비스 사용일수\"],data[data[\"연령대\"] == 40][\"배달_브랜드 서비스 사용일수\"],data[data[\"연령대\"] == 50][\"배달_브랜드 서비스 사용일수\"],data[data[\"연령대\"] == 60][\"배달_브랜드 서비스 사용일수\"])"
   ]
  },
  {
   "cell_type": "code",
   "execution_count": 154,
   "metadata": {},
   "outputs": [
    {
     "data": {
      "text/plain": [
       "FlignerResult(statistic=6755.760648263417, pvalue=0.0)"
      ]
     },
     "execution_count": 154,
     "metadata": {},
     "output_type": "execute_result"
    }
   ],
   "source": [
    "fligner(data[data[\"연령대\"] == 20][\"배달_브랜드 서비스 사용일수\"],data[data[\"연령대\"] == 30][\"배달_브랜드 서비스 사용일수\"],data[data[\"연령대\"] == 40][\"배달_브랜드 서비스 사용일수\"],data[data[\"연령대\"] == 50][\"배달_브랜드 서비스 사용일수\"],data[data[\"연령대\"] == 60][\"배달_브랜드 서비스 사용일수\"])"
   ]
  },
  {
   "cell_type": "markdown",
   "metadata": {},
   "source": [
    "- 전 연령대 동분산 없음"
   ]
  },
  {
   "cell_type": "code",
   "execution_count": 155,
   "metadata": {},
   "outputs": [
    {
     "data": {
      "text/plain": [
       "KruskalResult(statistic=6965.134322778559, pvalue=0.0)"
      ]
     },
     "execution_count": 155,
     "metadata": {},
     "output_type": "execute_result"
    }
   ],
   "source": [
    "stats.kruskal(data[data[\"연령대\"] == 20][\"배달_브랜드 서비스 사용일수\"],data[data[\"연령대\"] == 30][\"배달_브랜드 서비스 사용일수\"],data[data[\"연령대\"] == 40][\"배달_브랜드 서비스 사용일수\"],data[data[\"연령대\"] == 50][\"배달_브랜드 서비스 사용일수\"],data[data[\"연령대\"] == 60][\"배달_브랜드 서비스 사용일수\"])"
   ]
  },
  {
   "cell_type": "code",
   "execution_count": 156,
   "metadata": {},
   "outputs": [
    {
     "name": "stdout",
     "output_type": "stream",
     "text": [
      "Multiple Comparison of Means - Tukey HSD, FWER=0.05\n",
      "===================================================\n",
      "group1 group2 meandiff p-adj  lower   upper  reject\n",
      "---------------------------------------------------\n",
      "    20     30   0.9409 0.001  0.8108   1.071   True\n",
      "    20     40   1.1275 0.001  0.9974  1.2576   True\n",
      "    20     50   3.5506 0.001  3.4205  3.6806   True\n",
      "    20     60   -0.662 0.001 -0.7921 -0.5319   True\n",
      "    30     40   0.1866 0.001  0.0565  0.3167   True\n",
      "    30     50   2.6097 0.001  2.4796  2.7397   True\n",
      "    30     60  -1.6029 0.001  -1.733 -1.4728   True\n",
      "    40     50   2.4231 0.001   2.293  2.5531   True\n",
      "    40     60  -1.7895 0.001 -1.9196 -1.6594   True\n",
      "    50     60  -4.2126 0.001 -4.3426 -4.0825   True\n",
      "---------------------------------------------------\n"
     ]
    }
   ],
   "source": [
    "tukey = pairwise_tukeyhsd(endog = data[\"배달_브랜드 서비스 사용일수\"], groups = data[\"연령대\"], alpha = 0.05)\n",
    "print(tukey)"
   ]
  },
  {
   "cell_type": "markdown",
   "metadata": {},
   "source": [
    "### 연령대 별 배달_브랜드 서비스 사용일수에는 차이가 존재한다."
   ]
  },
  {
   "cell_type": "markdown",
   "metadata": {},
   "source": [
    "## hypothesis5: 배달_식재료 서비스 사용 미추정 인구수\n",
    "- H0: 연령대 별 배달_식재료 서비스 사용 미추정 인구수는 차이가 존재하지 않는다.\n",
    "- H1: 연령대 별 배달_식재료 서비스 사용 미추정 인구수는 차이가 존재한다"
   ]
  },
  {
   "cell_type": "code",
   "execution_count": 158,
   "metadata": {},
   "outputs": [
    {
     "name": "stderr",
     "output_type": "stream",
     "text": [
      "C:\\Users\\leejihui\\anaconda3\\lib\\site-packages\\scipy\\stats\\_morestats.py:1800: UserWarning: p-value may not be accurate for N > 5000.\n",
      "  warnings.warn(\"p-value may not be accurate for N > 5000.\")\n"
     ]
    },
    {
     "data": {
      "text/plain": [
       "ShapiroResult(statistic=0.9117087125778198, pvalue=0.0)"
      ]
     },
     "execution_count": 158,
     "metadata": {},
     "output_type": "execute_result"
    },
    {
     "data": {
      "image/png": "[encoded data removed]",
      "text/plain": [
       "<Figure size 432x288 with 1 Axes>"
      ]
     },
     "metadata": {
      "needs_background": "light"
     },
     "output_type": "display_data"
    }
   ],
   "source": [
    "# 정규성 검정\n",
    "fig = sm.qqplot(data[data[\"연령대\"] == 20][\"배달_식재료 서비스 사용 미추정 인구수\"], line = \"45\")\n",
    "shapiro(data[data[\"연령대\"] == 20][\"배달_식재료 서비스 사용 미추정 인구수\"])"
   ]
  },
  {
   "cell_type": "code",
   "execution_count": 159,
   "metadata": {},
   "outputs": [
    {
     "name": "stderr",
     "output_type": "stream",
     "text": [
      "C:\\Users\\leejihui\\anaconda3\\lib\\site-packages\\scipy\\stats\\_morestats.py:1800: UserWarning: p-value may not be accurate for N > 5000.\n",
      "  warnings.warn(\"p-value may not be accurate for N > 5000.\")\n"
     ]
    },
    {
     "data": {
      "text/plain": [
       "ShapiroResult(statistic=0.9777376055717468, pvalue=1.6549673938374957e-27)"
      ]
     },
     "execution_count": 159,
     "metadata": {},
     "output_type": "execute_result"
    },
    {
     "data": {
      "image/png": "[encoded data removed]",
      "text/plain": [
       "<Figure size 432x288 with 1 Axes>"
      ]
     },
     "metadata": {
      "needs_background": "light"
     },
     "output_type": "display_data"
    }
   ],
   "source": [
    "fig = sm.qqplot(data[data[\"연령대\"] == 30][\"배달_식재료 서비스 사용 미추정 인구수\"], line = \"45\")\n",
    "shapiro(data[data[\"연령대\"] == 30][\"배달_식재료 서비스 사용 미추정 인구수\"])"
   ]
  },
  {
   "cell_type": "code",
   "execution_count": 160,
   "metadata": {},
   "outputs": [
    {
     "name": "stderr",
     "output_type": "stream",
     "text": [
      "C:\\Users\\leejihui\\anaconda3\\lib\\site-packages\\scipy\\stats\\_morestats.py:1800: UserWarning: p-value may not be accurate for N > 5000.\n",
      "  warnings.warn(\"p-value may not be accurate for N > 5000.\")\n"
     ]
    },
    {
     "data": {
      "text/plain": [
       "ShapiroResult(statistic=0.975210964679718, pvalue=7.350162975036303e-29)"
      ]
     },
     "execution_count": 160,
     "metadata": {},
     "output_type": "execute_result"
    },
    {
     "data": {
      "image/png": "[encoded data removed]",
      "text/plain": [
       "<Figure size 432x288 with 1 Axes>"
      ]
     },
     "metadata": {
      "needs_background": "light"
     },
     "output_type": "display_data"
    }
   ],
   "source": [
    "fig = sm.qqplot(data[data[\"연령대\"] == 40][\"배달_식재료 서비스 사용 미추정 인구수\"], line = \"45\")\n",
    "shapiro(data[data[\"연령대\"] == 40][\"배달_식재료 서비스 사용 미추정 인구수\"])"
   ]
  },
  {
   "cell_type": "code",
   "execution_count": 161,
   "metadata": {},
   "outputs": [
    {
     "name": "stderr",
     "output_type": "stream",
     "text": [
      "C:\\Users\\leejihui\\anaconda3\\lib\\site-packages\\scipy\\stats\\_morestats.py:1800: UserWarning: p-value may not be accurate for N > 5000.\n",
      "  warnings.warn(\"p-value may not be accurate for N > 5000.\")\n"
     ]
    },
    {
     "data": {
      "text/plain": [
       "ShapiroResult(statistic=0.9914904832839966, pvalue=6.219938955722679e-17)"
      ]
     },
     "execution_count": 161,
     "metadata": {},
     "output_type": "execute_result"
    },
    {
     "data": {
      "image/png": "[encoded data removed]",
      "text/plain": [
       "<Figure size 432x288 with 1 Axes>"
      ]
     },
     "metadata": {
      "needs_background": "light"
     },
     "output_type": "display_data"
    }
   ],
   "source": [
    "fig = sm.qqplot(data[data[\"연령대\"] == 50][\"배달_식재료 서비스 사용 미추정 인구수\"], line = \"45\")\n",
    "shapiro(data[data[\"연령대\"] == 50][\"배달_식재료 서비스 사용 미추정 인구수\"])"
   ]
  },
  {
   "cell_type": "code",
   "execution_count": 162,
   "metadata": {},
   "outputs": [
    {
     "name": "stderr",
     "output_type": "stream",
     "text": [
      "C:\\Users\\leejihui\\anaconda3\\lib\\site-packages\\scipy\\stats\\_morestats.py:1800: UserWarning: p-value may not be accurate for N > 5000.\n",
      "  warnings.warn(\"p-value may not be accurate for N > 5000.\")\n"
     ]
    },
    {
     "data": {
      "text/plain": [
       "ShapiroResult(statistic=0.9765954613685608, pvalue=3.9229611297201166e-28)"
      ]
     },
     "execution_count": 162,
     "metadata": {},
     "output_type": "execute_result"
    },
    {
     "data": {
      "image/png": "[encoded data removed]",
      "text/plain": [
       "<Figure size 432x288 with 1 Axes>"
      ]
     },
     "metadata": {
      "needs_background": "light"
     },
     "output_type": "display_data"
    }
   ],
   "source": [
    "fig = sm.qqplot(data[data[\"연령대\"] == 60][\"배달_식재료 서비스 사용 미추정 인구수\"], line = \"45\")\n",
    "shapiro(data[data[\"연령대\"] == 60][\"배달_식재료 서비스 사용 미추정 인구수\"])"
   ]
  },
  {
   "cell_type": "markdown",
   "metadata": {},
   "source": [
    "- 전 연령대 정규성 없음"
   ]
  },
  {
   "cell_type": "code",
   "execution_count": 163,
   "metadata": {},
   "outputs": [
    {
     "data": {
      "text/plain": [
       "LeveneResult(statistic=237.00965989815288, pvalue=3.47308062383398e-200)"
      ]
     },
     "execution_count": 163,
     "metadata": {},
     "output_type": "execute_result"
    }
   ],
   "source": [
    "levene(data[data[\"연령대\"] == 20][\"배달_식재료 서비스 사용 미추정 인구수\"],data[data[\"연령대\"] == 30][\"배달_식재료 서비스 사용 미추정 인구수\"],data[data[\"연령대\"] == 40][\"배달_식재료 서비스 사용 미추정 인구수\"],data[data[\"연령대\"] == 50][\"배달_식재료 서비스 사용 미추정 인구수\"],data[data[\"연령대\"] == 60][\"배달_식재료 서비스 사용 미추정 인구수\"])"
   ]
  },
  {
   "cell_type": "code",
   "execution_count": 164,
   "metadata": {},
   "outputs": [
    {
     "data": {
      "text/plain": [
       "BartlettResult(statistic=1322.2524932478502, pvalue=4.982646233031307e-285)"
      ]
     },
     "execution_count": 164,
     "metadata": {},
     "output_type": "execute_result"
    }
   ],
   "source": [
    "bartlett(data[data[\"연령대\"] == 20][\"배달_식재료 서비스 사용 미추정 인구수\"],data[data[\"연령대\"] == 30][\"배달_식재료 서비스 사용 미추정 인구수\"],data[data[\"연령대\"] == 40][\"배달_식재료 서비스 사용 미추정 인구수\"],data[data[\"연령대\"] == 50][\"배달_식재료 서비스 사용 미추정 인구수\"],data[data[\"연령대\"] == 60][\"배달_식재료 서비스 사용 미추정 인구수\"])"
   ]
  },
  {
   "cell_type": "code",
   "execution_count": 165,
   "metadata": {},
   "outputs": [
    {
     "data": {
      "text/plain": [
       "FlignerResult(statistic=957.6818107600965, pvalue=5.286087549462336e-206)"
      ]
     },
     "execution_count": 165,
     "metadata": {},
     "output_type": "execute_result"
    }
   ],
   "source": [
    "fligner(data[data[\"연령대\"] == 20][\"배달_식재료 서비스 사용 미추정 인구수\"],data[data[\"연령대\"] == 30][\"배달_식재료 서비스 사용 미추정 인구수\"],data[data[\"연령대\"] == 40][\"배달_식재료 서비스 사용 미추정 인구수\"],data[data[\"연령대\"] == 50][\"배달_식재료 서비스 사용 미추정 인구수\"],data[data[\"연령대\"] == 60][\"배달_식재료 서비스 사용 미추정 인구수\"])"
   ]
  },
  {
   "cell_type": "markdown",
   "metadata": {},
   "source": [
    "- 전 연령대 동분산 없음"
   ]
  },
  {
   "cell_type": "code",
   "execution_count": 166,
   "metadata": {},
   "outputs": [
    {
     "data": {
      "text/plain": [
       "KruskalResult(statistic=4217.963452862086, pvalue=0.0)"
      ]
     },
     "execution_count": 166,
     "metadata": {},
     "output_type": "execute_result"
    }
   ],
   "source": [
    "stats.kruskal(data[data[\"연령대\"] == 20][\"배달_식재료 서비스 사용 미추정 인구수\"],data[data[\"연령대\"] == 30][\"배달_식재료 서비스 사용 미추정 인구수\"],data[data[\"연령대\"] == 40][\"배달_식재료 서비스 사용 미추정 인구수\"],data[data[\"연령대\"] == 50][\"배달_식재료 서비스 사용 미추정 인구수\"],data[data[\"연령대\"] == 60][\"배달_식재료 서비스 사용 미추정 인구수\"])"
   ]
  },
  {
   "cell_type": "code",
   "execution_count": 167,
   "metadata": {},
   "outputs": [
    {
     "name": "stdout",
     "output_type": "stream",
     "text": [
      "    Multiple Comparison of Means - Tukey HSD, FWER=0.05     \n",
      "============================================================\n",
      "group1 group2  meandiff  p-adj    lower      upper    reject\n",
      "------------------------------------------------------------\n",
      "    20     30   192.0554  0.001   147.6147   236.4962   True\n",
      "    20     40   234.2239  0.001   189.7831   278.6646   True\n",
      "    20     50   852.8901  0.001   808.4494   897.3309   True\n",
      "    20     60  -261.9243  0.001  -306.3651  -217.4836   True\n",
      "    30     40    42.1684 0.0726    -2.2723    86.6092  False\n",
      "    30     50   660.8347  0.001    616.394   705.2755   True\n",
      "    30     60  -453.9798  0.001  -498.4205   -409.539   True\n",
      "    40     50   618.6663  0.001   574.2255    663.107   True\n",
      "    40     60  -496.1482  0.001  -540.5889  -451.7074   True\n",
      "    50     60 -1114.8145  0.001 -1159.2552 -1070.3737   True\n",
      "------------------------------------------------------------\n"
     ]
    }
   ],
   "source": [
    "tukey = pairwise_tukeyhsd(endog = data[\"배달_식재료 서비스 사용 미추정 인구수\"], groups = data[\"연령대\"], alpha = 0.05)\n",
    "print(tukey)"
   ]
  },
  {
   "cell_type": "markdown",
   "metadata": {},
   "source": [
    "### 30대, 40대 간 배달_식재료 서비스 사용 미추정 인구수에는 차이가 존재하지 않는다."
   ]
  },
  {
   "cell_type": "markdown",
   "metadata": {},
   "source": [
    "## hypothesis6: 배달_식재료 서비스 사용일수\n",
    "- H0: 연령대 별 배달_식재료 서비스 사용일수는 차이가 존재하지 않는다.\n",
    "- H1: 연령대 별 배달_식재료 서비스 사용일수는 차이가 존재한다"
   ]
  },
  {
   "cell_type": "code",
   "execution_count": 170,
   "metadata": {},
   "outputs": [
    {
     "name": "stderr",
     "output_type": "stream",
     "text": [
      "C:\\Users\\leejihui\\anaconda3\\lib\\site-packages\\scipy\\stats\\_morestats.py:1800: UserWarning: p-value may not be accurate for N > 5000.\n",
      "  warnings.warn(\"p-value may not be accurate for N > 5000.\")\n"
     ]
    },
    {
     "data": {
      "text/plain": [
       "ShapiroResult(statistic=0.3232625126838684, pvalue=0.0)"
      ]
     },
     "execution_count": 170,
     "metadata": {},
     "output_type": "execute_result"
    },
    {
     "name": "stderr",
     "output_type": "stream",
     "text": [
      "C:\\Users\\leejihui\\anaconda3\\lib\\site-packages\\matplotlib\\backends\\backend_agg.py:238: RuntimeWarning: Glyph 8722 missing from current font.\n",
      "  font.set_text(s, 0.0, flags=flags)\n",
      "C:\\Users\\leejihui\\anaconda3\\lib\\site-packages\\matplotlib\\backends\\backend_agg.py:201: RuntimeWarning: Glyph 8722 missing from current font.\n",
      "  font.set_text(s, 0, flags=flags)\n"
     ]
    },
    {
     "data": {
      "image/png": "[encoded data removed]",
      "text/plain": [
       "<Figure size 432x288 with 1 Axes>"
      ]
     },
     "metadata": {
      "needs_background": "light"
     },
     "output_type": "display_data"
    }
   ],
   "source": [
    "# 정규성 검정\n",
    "fig = sm.qqplot(data[data[\"연령대\"] == 20][\"배달_식재료 서비스 사용일수\"], line = \"45\")\n",
    "shapiro(data[data[\"연령대\"] == 20][\"배달_식재료 서비스 사용일수\"])"
   ]
  },
  {
   "cell_type": "code",
   "execution_count": 171,
   "metadata": {},
   "outputs": [
    {
     "name": "stderr",
     "output_type": "stream",
     "text": [
      "C:\\Users\\leejihui\\anaconda3\\lib\\site-packages\\scipy\\stats\\_morestats.py:1800: UserWarning: p-value may not be accurate for N > 5000.\n",
      "  warnings.warn(\"p-value may not be accurate for N > 5000.\")\n"
     ]
    },
    {
     "data": {
      "text/plain": [
       "ShapiroResult(statistic=0.12684637308120728, pvalue=0.0)"
      ]
     },
     "execution_count": 171,
     "metadata": {},
     "output_type": "execute_result"
    },
    {
     "name": "stderr",
     "output_type": "stream",
     "text": [
      "C:\\Users\\leejihui\\anaconda3\\lib\\site-packages\\matplotlib\\backends\\backend_agg.py:238: RuntimeWarning: Glyph 8722 missing from current font.\n",
      "  font.set_text(s, 0.0, flags=flags)\n",
      "C:\\Users\\leejihui\\anaconda3\\lib\\site-packages\\matplotlib\\backends\\backend_agg.py:201: RuntimeWarning: Glyph 8722 missing from current font.\n",
      "  font.set_text(s, 0, flags=flags)\n"
     ]
    },
    {
     "data": {
      "image/png": "[encoded data removed]",
      "text/plain": [
       "<Figure size 432x288 with 1 Axes>"
      ]
     },
     "metadata": {
      "needs_background": "light"
     },
     "output_type": "display_data"
    }
   ],
   "source": [
    "fig = sm.qqplot(data[data[\"연령대\"] == 30][\"배달_식재료 서비스 사용일수\"], line = \"45\")\n",
    "shapiro(data[data[\"연령대\"] == 30][\"배달_식재료 서비스 사용일수\"])"
   ]
  },
  {
   "cell_type": "code",
   "execution_count": 172,
   "metadata": {},
   "outputs": [
    {
     "name": "stderr",
     "output_type": "stream",
     "text": [
      "C:\\Users\\leejihui\\anaconda3\\lib\\site-packages\\scipy\\stats\\_morestats.py:1800: UserWarning: p-value may not be accurate for N > 5000.\n",
      "  warnings.warn(\"p-value may not be accurate for N > 5000.\")\n"
     ]
    },
    {
     "data": {
      "text/plain": [
       "ShapiroResult(statistic=0.22825086116790771, pvalue=0.0)"
      ]
     },
     "execution_count": 172,
     "metadata": {},
     "output_type": "execute_result"
    },
    {
     "name": "stderr",
     "output_type": "stream",
     "text": [
      "C:\\Users\\leejihui\\anaconda3\\lib\\site-packages\\matplotlib\\backends\\backend_agg.py:238: RuntimeWarning: Glyph 8722 missing from current font.\n",
      "  font.set_text(s, 0.0, flags=flags)\n",
      "C:\\Users\\leejihui\\anaconda3\\lib\\site-packages\\matplotlib\\backends\\backend_agg.py:201: RuntimeWarning: Glyph 8722 missing from current font.\n",
      "  font.set_text(s, 0, flags=flags)\n"
     ]
    },
    {
     "data": {
      "image/png": "[encoded data removed]",
      "text/plain": [
       "<Figure size 432x288 with 1 Axes>"
      ]
     },
     "metadata": {
      "needs_background": "light"
     },
     "output_type": "display_data"
    }
   ],
   "source": [
    "fig = sm.qqplot(data[data[\"연령대\"] == 40][\"배달_식재료 서비스 사용일수\"], line = \"45\")\n",
    "shapiro(data[data[\"연령대\"] == 40][\"배달_식재료 서비스 사용일수\"])"
   ]
  },
  {
   "cell_type": "code",
   "execution_count": 173,
   "metadata": {},
   "outputs": [
    {
     "name": "stderr",
     "output_type": "stream",
     "text": [
      "C:\\Users\\leejihui\\anaconda3\\lib\\site-packages\\scipy\\stats\\_morestats.py:1800: UserWarning: p-value may not be accurate for N > 5000.\n",
      "  warnings.warn(\"p-value may not be accurate for N > 5000.\")\n"
     ]
    },
    {
     "data": {
      "text/plain": [
       "ShapiroResult(statistic=0.6318299770355225, pvalue=0.0)"
      ]
     },
     "execution_count": 173,
     "metadata": {},
     "output_type": "execute_result"
    },
    {
     "name": "stderr",
     "output_type": "stream",
     "text": [
      "C:\\Users\\leejihui\\anaconda3\\lib\\site-packages\\matplotlib\\backends\\backend_agg.py:238: RuntimeWarning: Glyph 8722 missing from current font.\n",
      "  font.set_text(s, 0.0, flags=flags)\n",
      "C:\\Users\\leejihui\\anaconda3\\lib\\site-packages\\matplotlib\\backends\\backend_agg.py:201: RuntimeWarning: Glyph 8722 missing from current font.\n",
      "  font.set_text(s, 0, flags=flags)\n"
     ]
    },
    {
     "data": {
      "image/png": "[encoded data removed]",
      "text/plain": [
       "<Figure size 432x288 with 1 Axes>"
      ]
     },
     "metadata": {
      "needs_background": "light"
     },
     "output_type": "display_data"
    }
   ],
   "source": [
    "fig = sm.qqplot(data[data[\"연령대\"] == 50][\"배달_식재료 서비스 사용일수\"], line = \"45\")\n",
    "shapiro(data[data[\"연령대\"] == 50][\"배달_식재료 서비스 사용일수\"])"
   ]
  },
  {
   "cell_type": "code",
   "execution_count": 174,
   "metadata": {},
   "outputs": [
    {
     "name": "stderr",
     "output_type": "stream",
     "text": [
      "C:\\Users\\leejihui\\anaconda3\\lib\\site-packages\\scipy\\stats\\_morestats.py:1800: UserWarning: p-value may not be accurate for N > 5000.\n",
      "  warnings.warn(\"p-value may not be accurate for N > 5000.\")\n"
     ]
    },
    {
     "data": {
      "text/plain": [
       "ShapiroResult(statistic=0.8800463080406189, pvalue=0.0)"
      ]
     },
     "execution_count": 174,
     "metadata": {},
     "output_type": "execute_result"
    },
    {
     "name": "stderr",
     "output_type": "stream",
     "text": [
      "C:\\Users\\leejihui\\anaconda3\\lib\\site-packages\\matplotlib\\backends\\backend_agg.py:238: RuntimeWarning: Glyph 8722 missing from current font.\n",
      "  font.set_text(s, 0.0, flags=flags)\n",
      "C:\\Users\\leejihui\\anaconda3\\lib\\site-packages\\matplotlib\\backends\\backend_agg.py:201: RuntimeWarning: Glyph 8722 missing from current font.\n",
      "  font.set_text(s, 0, flags=flags)\n"
     ]
    },
    {
     "data": {
      "image/png": "[encoded data removed]",
      "text/plain": [
       "<Figure size 432x288 with 1 Axes>"
      ]
     },
     "metadata": {
      "needs_background": "light"
     },
     "output_type": "display_data"
    }
   ],
   "source": [
    "fig = sm.qqplot(data[data[\"연령대\"] == 60][\"배달_식재료 서비스 사용일수\"], line = \"45\")\n",
    "shapiro(data[data[\"연령대\"] == 60][\"배달_식재료 서비스 사용일수\"])"
   ]
  },
  {
   "cell_type": "markdown",
   "metadata": {},
   "source": [
    "- 전 연령대 정규성 없음"
   ]
  },
  {
   "cell_type": "code",
   "execution_count": 175,
   "metadata": {},
   "outputs": [
    {
     "data": {
      "text/plain": [
       "LeveneResult(statistic=2277.231768460736, pvalue=0.0)"
      ]
     },
     "execution_count": 175,
     "metadata": {},
     "output_type": "execute_result"
    }
   ],
   "source": [
    "levene(data[data[\"연령대\"] == 20][\"배달_식재료 서비스 사용일수\"],data[data[\"연령대\"] == 30][\"배달_식재료 서비스 사용일수\"],data[data[\"연령대\"] == 40][\"배달_식재료 서비스 사용일수\"],data[data[\"연령대\"] == 50][\"배달_식재료 서비스 사용일수\"],data[data[\"연령대\"] == 60][\"배달_식재료 서비스 사용일수\"])"
   ]
  },
  {
   "cell_type": "code",
   "execution_count": 176,
   "metadata": {},
   "outputs": [
    {
     "data": {
      "text/plain": [
       "BartlettResult(statistic=16806.623290020292, pvalue=0.0)"
      ]
     },
     "execution_count": 176,
     "metadata": {},
     "output_type": "execute_result"
    }
   ],
   "source": [
    "bartlett(data[data[\"연령대\"] == 20][\"배달_식재료 서비스 사용일수\"],data[data[\"연령대\"] == 30][\"배달_식재료 서비스 사용일수\"],data[data[\"연령대\"] == 40][\"배달_식재료 서비스 사용일수\"],data[data[\"연령대\"] == 50][\"배달_식재료 서비스 사용일수\"],data[data[\"연령대\"] == 60][\"배달_식재료 서비스 사용일수\"])"
   ]
  },
  {
   "cell_type": "code",
   "execution_count": 177,
   "metadata": {},
   "outputs": [
    {
     "data": {
      "text/plain": [
       "FlignerResult(statistic=7178.341967550208, pvalue=0.0)"
      ]
     },
     "execution_count": 177,
     "metadata": {},
     "output_type": "execute_result"
    }
   ],
   "source": [
    "fligner(data[data[\"연령대\"] == 20][\"배달_식재료 서비스 사용일수\"],data[data[\"연령대\"] == 30][\"배달_식재료 서비스 사용일수\"],data[data[\"연령대\"] == 40][\"배달_식재료 서비스 사용일수\"],data[data[\"연령대\"] == 50][\"배달_식재료 서비스 사용일수\"],data[data[\"연령대\"] == 60][\"배달_식재료 서비스 사용일수\"])"
   ]
  },
  {
   "cell_type": "markdown",
   "metadata": {},
   "source": [
    "- 전 연령대 동분산 없음"
   ]
  },
  {
   "cell_type": "code",
   "execution_count": 178,
   "metadata": {},
   "outputs": [
    {
     "data": {
      "text/plain": [
       "KruskalResult(statistic=8829.490168900305, pvalue=0.0)"
      ]
     },
     "execution_count": 178,
     "metadata": {},
     "output_type": "execute_result"
    }
   ],
   "source": [
    "stats.kruskal(data[data[\"연령대\"] == 20][\"배달_식재료 서비스 사용일수\"],data[data[\"연령대\"] == 30][\"배달_식재료 서비스 사용일수\"],data[data[\"연령대\"] == 40][\"배달_식재료 서비스 사용일수\"],data[data[\"연령대\"] == 50][\"배달_식재료 서비스 사용일수\"],data[data[\"연령대\"] == 60][\"배달_식재료 서비스 사용일수\"])"
   ]
  },
  {
   "cell_type": "code",
   "execution_count": 179,
   "metadata": {},
   "outputs": [
    {
     "name": "stdout",
     "output_type": "stream",
     "text": [
      "Multiple Comparison of Means - Tukey HSD, FWER=0.05 \n",
      "====================================================\n",
      "group1 group2 meandiff p-adj   lower   upper  reject\n",
      "----------------------------------------------------\n",
      "    20     30   0.1273  0.001  0.0766   0.178   True\n",
      "    20     40   0.0678 0.0025  0.0171  0.1186   True\n",
      "    20     50   1.1861  0.001  1.1354  1.2369   True\n",
      "    20     60  -0.8166  0.001 -0.8673 -0.7658   True\n",
      "    30     40  -0.0595 0.0121 -0.1102 -0.0087   True\n",
      "    30     50   1.0588  0.001  1.0081  1.1096   True\n",
      "    30     60  -0.9439  0.001 -0.9946 -0.8931   True\n",
      "    40     50   1.1183  0.001  1.0676   1.169   True\n",
      "    40     60  -0.8844  0.001 -0.9352 -0.8337   True\n",
      "    50     60  -2.0027  0.001 -2.0535  -1.952   True\n",
      "----------------------------------------------------\n"
     ]
    }
   ],
   "source": [
    "tukey = pairwise_tukeyhsd(endog = data[\"배달_식재료 서비스 사용일수\"], groups = data[\"연령대\"], alpha = 0.05)\n",
    "print(tukey)"
   ]
  },
  {
   "cell_type": "markdown",
   "metadata": {},
   "source": [
    "### 연령대 별 배달_식재료 서비스 사용일수에는 차이가 존재한다."
   ]
  }
 ],
 "metadata": {
  "kernelspec": {
   "display_name": "Python 3",
   "language": "python",
   "name": "python3"
  },
  "language_info": {
   "codemirror_mode": {
    "name": "ipython",
    "version": 3
   },
   "file_extension": ".py",
   "mimetype": "text/x-python",
   "name": "python",
   "nbconvert_exporter": "python",
   "pygments_lexer": "ipython3",
   "version": "3.8.5"
  }
 },
 "nbformat": 4,
 "nbformat_minor": 4
}
